{
 "cells": [
  {
   "cell_type": "code",
   "source": [
    "import pandas as pd\n",
    "import warnings\n",
    "import seaborn as sns\n",
    "import numpy as np\n",
    "import nltk\n",
    "from nltk.corpus import stopwords\n",
    "from nltk.stem import PorterStemmer\n",
    "from nltk.tokenize import word_tokenize\n",
    "from collections import Counter\n",
    "import matplotlib.pyplot as plt\n",
    "from sklearn.feature_extraction.text import TfidfVectorizer\n",
    "from sklearn.model_selection import train_test_split\n",
    "from sklearn.metrics import accuracy_score, f1_score, confusion_matrix\n",
    "from sklearn.linear_model import LogisticRegression\n",
    "from sklearn.metrics.pairwise import cosine_similarity\n",
    "from gensim.models import Word2Vec\n",
    "import itertools\n",
    "from sklearn.naive_bayes import GaussianNB"
   ],
   "metadata": {
    "collapsed": false,
    "ExecuteTime": {
     "end_time": "2024-10-04T22:58:07.778631Z",
     "start_time": "2024-10-04T22:58:05.273947Z"
    }
   },
   "id": "f95bd647af02cfc6",
   "outputs": [],
   "execution_count": 1
  },
  {
   "cell_type": "code",
   "source": [
    "\n",
    "# Ensure NLTK data is downloaded\n",
    "nltk.download('stopwords')\n",
    "nltk.download('punkt')"
   ],
   "metadata": {
    "collapsed": false,
    "ExecuteTime": {
     "end_time": "2024-10-04T22:58:07.949974Z",
     "start_time": "2024-10-04T22:58:07.779640Z"
    }
   },
   "id": "6cc0d607e8224b98",
   "outputs": [
    {
     "name": "stderr",
     "output_type": "stream",
     "text": [
      "[nltk_data] Downloading package stopwords to\n",
      "[nltk_data]     C:\\Users\\User\\AppData\\Roaming\\nltk_data...\n",
      "[nltk_data]   Package stopwords is already up-to-date!\n",
      "[nltk_data] Downloading package punkt to\n",
      "[nltk_data]     C:\\Users\\User\\AppData\\Roaming\\nltk_data...\n",
      "[nltk_data]   Package punkt is already up-to-date!\n"
     ]
    },
    {
     "data": {
      "text/plain": [
       "True"
      ]
     },
     "execution_count": 2,
     "metadata": {},
     "output_type": "execute_result"
    }
   ],
   "execution_count": 2
  },
  {
   "cell_type": "code",
   "source": [
    "\n",
    "# Load the datasets\n",
    "news_df = pd.read_csv('./data/us_equities_news_dataset.csv')\n",
    "stock_df = pd.read_csv('./data/NVDA.csv')"
   ],
   "metadata": {
    "collapsed": false,
    "ExecuteTime": {
     "end_time": "2024-10-04T22:58:16.757831Z",
     "start_time": "2024-10-04T22:58:08.205128Z"
    }
   },
   "id": "dadb60e4b99764da",
   "outputs": [],
   "execution_count": 3
  },
  {
   "cell_type": "code",
   "source": [
    "# Convert the date columns to datetime format for matching\n",
    "news_df['Date'] = pd.to_datetime(news_df['release_date'])\n",
    "stock_df['Date'] = pd.to_datetime(stock_df['Date'])\n",
    "\n",
    "# Merge news data with stock prices based on publication date\n",
    "merged_df = pd.merge(news_df, stock_df, on='Date', how='inner')\n",
    "\n",
    "# Filter to keep only articles that have matching stock data\n",
    "nvidia_df = merged_df[['content', 'Open', 'Close', 'Date']]\n",
    "\n",
    "# Label the target variable based on the opening and closing prices\n",
    "nvidia_df['target'] = np.where(nvidia_df['Open'] > nvidia_df['Close'], 0, 1)\n",
    "\n",
    "# Display the first few rows to verify the merging and labeling\n",
    "print(\"\\nFiltered and Labeled Data:\")\n",
    "print(nvidia_df.head())\n",
    "print(f\"Number of documents: {nvidia_df.shape[0]}\")"
   ],
   "metadata": {
    "collapsed": false,
    "ExecuteTime": {
     "end_time": "2024-10-04T22:58:16.889252Z",
     "start_time": "2024-10-04T22:58:16.773212Z"
    }
   },
   "id": "initial_id",
   "outputs": [
    {
     "name": "stdout",
     "output_type": "stream",
     "text": [
      "\n",
      "Filtered and Labeled Data:\n",
      "                                             content     Open    Close  \\\n",
      "0  What s happening\\nShares of Chinese electric c...  6.19475  6.13925   \n",
      "1  Gainers  NIO  NYSE NIO   14   Village Farms In...  6.19475  6.13925   \n",
      "2  Cemtrex  NASDAQ CETX   85  after FY results \\n...  6.19475  6.13925   \n",
      "3  aTyr Pharma  NASDAQ LIFE   63  on Kyorin Pharm...  5.80800  5.92650   \n",
      "4  Gainers  NIO  NYSE NIO   14   Meritor  NYSE MT...  5.77250  5.88250   \n",
      "\n",
      "        Date  target  \n",
      "0 2020-01-15       0  \n",
      "1 2020-01-15       0  \n",
      "2 2020-01-15       0  \n",
      "3 2020-01-06       1  \n",
      "4 2019-12-31       1  \n",
      "Number of documents: 197393\n"
     ]
    },
    {
     "name": "stderr",
     "output_type": "stream",
     "text": [
      "C:\\Users\\User\\AppData\\Local\\Temp\\ipykernel_21380\\152134549.py:12: SettingWithCopyWarning: \n",
      "A value is trying to be set on a copy of a slice from a DataFrame.\n",
      "Try using .loc[row_indexer,col_indexer] = value instead\n",
      "\n",
      "See the caveats in the documentation: https://pandas.pydata.org/pandas-docs/stable/user_guide/indexing.html#returning-a-view-versus-a-copy\n",
      "  nvidia_df['target'] = np.where(nvidia_df['Open'] > nvidia_df['Close'], 0, 1)\n"
     ]
    }
   ],
   "execution_count": 4
  },
  {
   "cell_type": "code",
   "source": [
    "# Check for duplicate documents based on the 'content' column\n",
    "duplicate_docs = nvidia_df[nvidia_df['content'].duplicated(keep=False)]\n",
    "\n",
    "# Display the duplicate documents (if any)\n",
    "print(f\"Number of duplicate documents found: {duplicate_docs.shape[0]}\")\n",
    "if not duplicate_docs.empty:\n",
    "    print(\"Duplicate Documents:\")\n",
    "    print(duplicate_docs[['content']])\n",
    "\n",
    "# Remove duplicate documents, keeping the first occurrence\n",
    "nvidia_df = nvidia_df.drop_duplicates(subset='content', keep='first').reset_index(drop=True)\n",
    "\n",
    "# Display the updated DataFrame\n",
    "print(f\"Number of documents after removing duplicates: {nvidia_df.shape[0]}\")\n"
   ],
   "metadata": {
    "collapsed": false,
    "ExecuteTime": {
     "end_time": "2024-10-04T22:58:17.180509Z",
     "start_time": "2024-10-04T22:58:16.907048Z"
    }
   },
   "id": "bf72f648a6d1bf6e",
   "outputs": [
    {
     "name": "stdout",
     "output_type": "stream",
     "text": [
      "Number of duplicate documents found: 769\n",
      "Duplicate Documents:\n",
      "                                                  content\n",
      "309     Shares of Uber Technologies Inc  \\r\\n\\r\\n     ...\n",
      "312     Shares of Uber Technologies Inc  \\r\\n\\r\\n     ...\n",
      "625      Bloomberg     You can soon save for your next...\n",
      "640      Bloomberg     You can soon save for your next...\n",
      "1824    Sealed Air Corporation   NYSE SEE   delivered ...\n",
      "...                                                   ...\n",
      "194238  A physical bitcoin  BTC  is selling on eBay  N...\n",
      "194239  A physical bitcoin  BTC  is selling on eBay  N...\n",
      "196048  It s that time again   Mad Money  host Jim Cra...\n",
      "196062  Evercore  In Line   40 target  notes that AT T...\n",
      "196064  Evercore  In Line   40 target  notes that AT T...\n",
      "\n",
      "[769 rows x 1 columns]\n",
      "Number of documents after removing duplicates: 196919\n"
     ]
    }
   ],
   "execution_count": 5
  },
  {
   "cell_type": "code",
   "source": [
    "# Count the occurrence of each label (target variable)\n",
    "label_counts = nvidia_df['target'].value_counts()\n",
    "\n",
    "# Print the counts of each label\n",
    "print(\"Label Distribution:\")\n",
    "print(label_counts)"
   ],
   "metadata": {
    "collapsed": false,
    "ExecuteTime": {
     "end_time": "2024-10-04T22:58:17.222217Z",
     "start_time": "2024-10-04T22:58:17.203068Z"
    }
   },
   "id": "ca6af5339dcb46d5",
   "outputs": [
    {
     "name": "stdout",
     "output_type": "stream",
     "text": [
      "Label Distribution:\n",
      "target\n",
      "1    104063\n",
      "0     92856\n",
      "Name: count, dtype: int64\n"
     ]
    }
   ],
   "execution_count": 6
  },
  {
   "cell_type": "code",
   "source": [
    "#Visualize the label distribution using a pie chart\n",
    "plt.figure(figsize=(6,6))\n",
    "plt.pie(label_counts, labels=['Stock Up', 'Stock Down'], autopct='%1.1f%%', startangle=90, colors=[\"#ff9999\",\"#66b3ff\"])\n",
    "plt.title('Label Distribution (Stock Price Up vs Down)', fontsize=16)\n",
    "plt.axis('equal')  # Equal aspect ratio ensures that pie is drawn as a circle.\n",
    "plt.show()\n"
   ],
   "metadata": {
    "collapsed": false,
    "ExecuteTime": {
     "end_time": "2024-10-04T22:58:17.369269Z",
     "start_time": "2024-10-04T22:58:17.264441Z"
    }
   },
   "id": "ad758b31a92ec30c",
   "outputs": [
    {
     "data": {
      "text/plain": [
       "<Figure size 600x600 with 1 Axes>"
      ],
      "image/png": "[encoded data removed]"
     },
     "metadata": {},
     "output_type": "display_data"
    }
   ],
   "execution_count": 7
  },
  {
   "cell_type": "code",
   "source": [
    "# Basic descriptive statistics for the news dataset\n",
    "num_articles = nvidia_df.shape[0]\n",
    "average_words_per_article = nvidia_df['content'].apply(lambda x: len(str(x).split())).mean()\n",
    "print(f'The number of articles before filtering is: {news_df.shape[0]}')\n",
    "print(f\"The number of articles after filtering is: {num_articles}\")\n",
    "print(f\"The average amount of words per article is: {average_words_per_article}\")\n",
    "\n",
    "\n",
    "\n",
    "# Initialize the stemmer\n",
    "stemmer = PorterStemmer()\n",
    "\n",
    "\n",
    "# Tokenize content for word frequency analysis\n",
    "nvidia_df.loc[:, 'text_length'] = nvidia_df['content'].apply(lambda x: len(str(x).split()))\n",
    "\n",
    "\n",
    "# Tokenize content for word frequency analysis\n",
    "nvidia_df.loc[:, 'processed_text'] = nvidia_df['content'].apply(lambda x: word_tokenize(str(x).lower()))\n",
    "\n",
    "\n",
    "# Remove stopwords and punctuation for better NLP insights\n",
    "stop_words = set(stopwords.words('english'))\n",
    "# Remove stopwords, punctuation, and apply stemming\n",
    "nvidia_df.loc[:, 'filtered_text'] = nvidia_df['processed_text'].apply(\n",
    "    lambda words: [stemmer.stem(word) for word in words if word.isalpha() and word not in stop_words]\n",
    ")\n",
    "\n",
    "\n",
    "# Drop rows where the 'filtered_text' is empty (i.e., documents that became empty after preprocessing)\n",
    "nvidia_df = nvidia_df.dropna(subset=['filtered_text']).reset_index(drop=True)\n",
    "\n",
    "# Display how many articles remain after filtering\n",
    "print(f\"Number of articles after preprocessing: {nvidia_df.shape[0]}\")\n",
    "\n",
    "# Join the filtered words back into strings for TF-IDF\n",
    "nvidia_df.loc[:, 'filtered_text_str'] = nvidia_df['filtered_text'].apply(lambda x: ' '.join(x))\n",
    "\n",
    "nvidia_df = nvidia_df[nvidia_df['filtered_text_str'].str.strip() != '']"
   ],
   "metadata": {
    "collapsed": false,
    "ExecuteTime": {
     "end_time": "2024-10-04T23:17:23.922275Z",
     "start_time": "2024-10-04T22:58:17.394306Z"
    }
   },
   "id": "d9de1d67fd4bc2f1",
   "outputs": [
    {
     "name": "stdout",
     "output_type": "stream",
     "text": [
      "The number of articles before filtering is: 221513\n",
      "The number of articles after filtering is: 196919\n",
      "The average amount of words per article is: 579.355689395132\n",
      "Number of articles after preprocessing: 196919\n"
     ]
    }
   ],
   "execution_count": 8
  },
  {
   "cell_type": "code",
   "source": [
    "# TF-IDF Representation of Documents using the processed and filtered text\n",
    "vectorizer = TfidfVectorizer(stop_words='english', max_features=1000)  # Reduced max features\n",
    "tfidf_matrix = vectorizer.fit_transform(nvidia_df['filtered_text_str'])"
   ],
   "metadata": {
    "collapsed": false,
    "ExecuteTime": {
     "end_time": "2024-10-04T23:18:03.427084Z",
     "start_time": "2024-10-04T23:17:23.957355Z"
    }
   },
   "id": "544f55b5eff127cd",
   "outputs": [],
   "execution_count": 9
  },
  {
   "cell_type": "code",
   "source": [
    "# Prepare the text data for Word2Vec\n",
    "sentences = nvidia_df['filtered_text'].tolist()"
   ],
   "metadata": {
    "collapsed": false,
    "ExecuteTime": {
     "end_time": "2024-10-04T23:18:03.471012Z",
     "start_time": "2024-10-04T23:18:03.455228Z"
    }
   },
   "id": "5cef590aa94dfb51",
   "outputs": [],
   "execution_count": 10
  },
  {
   "cell_type": "code",
   "source": [
    "def document_embedding_tfidf(model, document, tfidf, feature_names, vector_size=100):\n",
    "    \"\"\"\n",
    "    Compute a TF-IDF weighted document embedding by averaging the Word2Vec embeddings of words in the document.\n",
    "\n",
    "    Parameters:\n",
    "    - model: Trained Word2Vec model\n",
    "    - document: List of tokenized words\n",
    "    - tfidf: TfidfVectorizer object used for the document\n",
    "    - feature_names: The list of features (terms) from the TF-IDF vectorizer\n",
    "    - vector_size: Size of the word embeddings in the Word2Vec model\n",
    "\n",
    "    Returns:\n",
    "    - doc_embedding: The TF-IDF weighted document embedding as a numpy array\n",
    "    \"\"\"\n",
    "    word_vectors = []\n",
    "    weights = []\n",
    "\n",
    "    # Extract the TF-IDF scores for the document\n",
    "    tfidf_scores = tfidf.transform([\" \".join(document)])\n",
    "    tfidf_scores = tfidf_scores.toarray().flatten()\n",
    "\n",
    "    feature_names = feature_names.tolist()  # Convert NumPy array to list\n",
    "\n",
    "    for word in document:\n",
    "        if word in model.wv.index_to_key and word in feature_names:\n",
    "            # Get the word embedding\n",
    "            word_vector = model.wv[word]\n",
    "            word_index = feature_names.index(word)  # Get the index of the word in the TF-IDF feature list\n",
    "\n",
    "            # Get the TF-IDF weight for this word\n",
    "            tfidf_weight = tfidf_scores[word_index]\n",
    "\n",
    "            # Collect the word vector and weight\n",
    "            word_vectors.append(word_vector)\n",
    "            weights.append(tfidf_weight)\n",
    "\n",
    "    if len(word_vectors) == 0:\n",
    "        # Return a zero vector if no words from the document are in the Word2Vec model\n",
    "        return np.zeros(vector_size)\n",
    "\n",
    "    # Convert lists to arrays\n",
    "    word_vectors = np.array(word_vectors)\n",
    "    weights = np.array(weights)\n",
    "\n",
    "    # Compute the weighted average of word vectors\n",
    "    doc_embedding = np.average(word_vectors, axis=0, weights=weights)\n",
    "\n",
    "    return doc_embedding\n",
    "\n",
    "\n"
   ],
   "metadata": {
    "collapsed": false,
    "ExecuteTime": {
     "end_time": "2024-10-04T23:18:03.504727Z",
     "start_time": "2024-10-04T23:18:03.495964Z"
    }
   },
   "id": "eae61a4e64f76943",
   "outputs": [],
   "execution_count": 11
  },
  {
   "cell_type": "code",
   "source": [
    "# Define the grid of parameters to test\n",
    "'''\n",
    "vector_sizes = [100, 200, 300]\n",
    "window_sizes = [3, 5, 7]\n",
    "min_counts = [1, 5, 10]\n",
    "sg_values = [0, 1]  # 0 for CBOW, 1 for Skip-gram\n",
    "epochs = [10, 20]\n",
    "'''"
   ],
   "metadata": {
    "collapsed": false,
    "ExecuteTime": {
     "end_time": "2024-10-04T23:18:03.539050Z",
     "start_time": "2024-10-04T23:18:03.532888Z"
    }
   },
   "id": "9fbe1bc413181f09",
   "outputs": [
    {
     "data": {
      "text/plain": [
       "'\\nvector_sizes = [100, 200, 300]\\nwindow_sizes = [3, 5, 7]\\nmin_counts = [1, 5, 10]\\nsg_values = [0, 1]  # 0 for CBOW, 1 for Skip-gram\\nepochs = [10, 20]\\n'"
      ]
     },
     "execution_count": 12,
     "metadata": {},
     "output_type": "execute_result"
    }
   ],
   "execution_count": 12
  },
  {
   "cell_type": "markdown",
   "source": [
    "### Accuracy as the best metric for evaluation"
   ],
   "metadata": {
    "collapsed": false
   },
   "id": "62d95d0b91979e4"
  },
  {
   "cell_type": "code",
   "source": [
    "\n",
    "# Dictionary to store best performance for each model configuration and classifier\n",
    "best_performance = {\n",
    "    'Word2Vec_with_negative_sampling_with_TFIDF': {\n",
    "        'LogisticRegression': {'best_f1_score': 0, 'best_accuracy': 0, 'best_params': None},\n",
    "        'GaussianNB': {'best_f1_score': 0, 'best_accuracy': 0, 'best_params': None}\n",
    "    },\n",
    "    'Word2Vec_with_negative_sampling_without_TFIDF': {\n",
    "        'LogisticRegression': {'best_f1_score': 0, 'best_accuracy': 0, 'best_params': None},\n",
    "        'GaussianNB': {'best_f1_score': 0, 'best_accuracy': 0, 'best_params': None}\n",
    "    },\n",
    "    'Word2Vec_without_negative_sampling_with_TFIDF': {\n",
    "        'LogisticRegression': {'best_f1_score': 0, 'best_accuracy': 0, 'best_params': None},\n",
    "        'GaussianNB': {'best_f1_score': 0, 'best_accuracy': 0, 'best_params': None}\n",
    "    },\n",
    "    'Word2Vec_without_negative_sampling_without_TFIDF': {\n",
    "        'LogisticRegression': {'best_f1_score': 0, 'best_accuracy': 0, 'best_params': None},\n",
    "        'GaussianNB': {'best_f1_score': 0, 'best_accuracy': 0, 'best_params': None}\n",
    "    }\n",
    "}\n",
    "\n",
    "\n",
    "# Function to update the best performance for a given configuration and classifier\n",
    "def update_best_performance(model_type, classifier_type, f1, accuracy, params):\n",
    "    if accuracy > best_performance[model_type][classifier_type]['best_accuracy']:\n",
    "        best_performance[model_type][classifier_type]['best_f1_score'] = f1\n",
    "        best_performance[model_type][classifier_type]['best_accuracy'] = accuracy\n",
    "        best_performance[model_type][classifier_type]['best_params'] = params\n"
   ],
   "metadata": {
    "collapsed": false,
    "ExecuteTime": {
     "end_time": "2024-10-04T23:18:03.584910Z",
     "start_time": "2024-10-04T23:18:03.577800Z"
    }
   },
   "id": "efcf8bb7d44ac75a",
   "outputs": [],
   "execution_count": 13
  },
  {
   "cell_type": "code",
   "source": [
    "\n",
    "from sklearn.naive_bayes import GaussianNB\n",
    "\n",
    "# Define the grid of parameters to test\n",
    "vector_sizes = [100]\n",
    "window_sizes = [7]\n",
    "min_counts = [10]\n",
    "sg_values = [0]  # 0 for CBOW, 1 for Skip-gram\n",
    "epochs = [20]\n",
    "negative_samples = [True, None]  # None means no negative sampling\n",
    "use_tfidf = [True, None]  # For with/without TF-IDF\n",
    "\n",
    "# Initialize TF-IDF vectorizer and compute feature names\n",
    "tfidf_feature_names = vectorizer.get_feature_names_out()\n",
    "\n",
    "# Iterate over all combinations of parameters including TF-IDF and negative sampling\n",
    "for vector_size, window, min_count, sg, epoch, negative, use_tfidf_flag in itertools.product(vector_sizes, window_sizes,\n",
    "                                                                                             min_counts, sg_values,\n",
    "                                                                                             epochs, negative_samples,\n",
    "                                                                                             use_tfidf):\n",
    "\n",
    "    # Model identifier for storing results\n",
    "    model_type = f'Word2Vec_{\"with\" if negative else \"without\"}_negative_sampling_{\"with_TFIDF\" if use_tfidf_flag else \"without_TFIDF\"}'\n",
    "\n",
    "    if sg == 1:\n",
    "        sg_name = 'Skip-Gram'\n",
    "    else:\n",
    "        sg_name = 'CBOW'\n",
    "\n",
    "    # Initialize Word2Vec with or without negative sampling\n",
    "    if negative is not None:\n",
    "        word2vec_model = Word2Vec(sentences, vector_size=vector_size, window=window, min_count=min_count, workers=4,\n",
    "                                  sg=sg, negative=negative)\n",
    "    else:\n",
    "        word2vec_model = Word2Vec(sentences, vector_size=vector_size, window=window, min_count=min_count, workers=4,\n",
    "                                  sg=sg)\n",
    "\n",
    "    # Train the model\n",
    "    word2vec_model.train(sentences, total_examples=len(sentences), epochs=epoch)\n",
    "\n",
    "    # Document embeddings, with or without TF-IDF\n",
    "    if use_tfidf_flag:\n",
    "        # Assuming TF-IDF embedding code here\n",
    "        doc_embeddings = nvidia_df['filtered_text'].apply(\n",
    "            lambda doc: document_embedding_tfidf(word2vec_model, doc, vectorizer, tfidf_feature_names,\n",
    "                                                 vector_size=vector_size)\n",
    "        ).tolist()\n",
    "    else:\n",
    "        doc_embeddings = [np.mean([word2vec_model.wv[word] for word in sentence if word in word2vec_model.wv], axis=0)\n",
    "                          for sentence in sentences]\n",
    "\n",
    "    # Check for empty embeddings\n",
    "    X = np.array([embedding for embedding in doc_embeddings if embedding is not None and len(embedding) > 0])\n",
    "    y = nvidia_df['target']\n",
    "\n",
    "    # Split the data into training and test sets\n",
    "    X_train, X_test, y_train, y_test = train_test_split(X, y, test_size=0.2, random_state=17, stratify=y)\n",
    "\n",
    "    # ==========================\n",
    "    # Train Logistic Regression\n",
    "    # ==========================\n",
    "    lr_model = LogisticRegression(max_iter=1000)\n",
    "    lr_model.fit(X_train, y_train)\n",
    "\n",
    "    # Get predictions on the test set\n",
    "    y_pred = lr_model.predict(X_test)\n",
    "\n",
    "    # Calculate accuracy and F1 score for Logistic Regression\n",
    "    accuracy = accuracy_score(y_test, y_pred)\n",
    "    f1 = f1_score(y_test, y_pred)\n",
    "\n",
    "    print(\n",
    "        f\"Model: {model_type} - Logistic Regression, SG: {sg_name}, Vector Size: {vector_size}, Window sizes: {window}, Min counts: {min_count}, Negative samples: {negative}, Using TF-IDF: {use_tfidf_flag},  Accuracy: {accuracy:.4f}, F1 Score: {f1:.4f}\")\n",
    "\n",
    "    # Update best performance for Logistic Regression\n",
    "    update_best_performance(model_type, 'LogisticRegression', f1, accuracy,\n",
    "                            (vector_size, window, min_count, sg, epoch, negative, use_tfidf_flag))\n",
    "\n",
    "    # ==========================\n",
    "    # Train Gaussian Naive Bayes\n",
    "    # ==========================\n",
    "    nb_model = GaussianNB()\n",
    "    nb_model.fit(X_train, y_train)\n",
    "\n",
    "    # Get predictions on the test set\n",
    "    y_pred = nb_model.predict(X_test)\n",
    "\n",
    "    # Calculate accuracy and F1 score for Naive Bayes\n",
    "    accuracy = accuracy_score(y_test, y_pred)\n",
    "    f1 = f1_score(y_test, y_pred)\n",
    "\n",
    "    print(\n",
    "        f\"Model: {model_type} - Naive Bayes, SG: {sg_name}, Vector Size: {vector_size}, Window sizes: {window}, Min counts: {min_count}, Negative samples: {negative}, Using TF-IDF: {use_tfidf_flag},  Accuracy: {accuracy:.4f}, F1 Score: {f1:.4f}\")\n",
    "\n",
    "    # Update best performance for Naive Bayes\n",
    "    update_best_performance(model_type, 'GaussianNB', f1, accuracy,\n",
    "                            (vector_size, window, min_count, sg, epoch, negative, use_tfidf_flag))"
   ],
   "metadata": {
    "collapsed": false,
    "ExecuteTime": {
     "end_time": "2024-10-05T00:22:21.015207Z",
     "start_time": "2024-10-04T23:18:03.614215Z"
    }
   },
   "id": "1c24a06bf0335cf7",
   "outputs": [
    {
     "name": "stdout",
     "output_type": "stream",
     "text": [
      "Model: Word2Vec_with_negative_sampling_with_TFIDF - Logistic Regression, SG: CBOW, Vector Size: 100, Window sizes: 7, Min counts: 10, Negative samples: True, Using TF-IDF: True,  Accuracy: 0.5266, F1 Score: 0.6670\n",
      "Model: Word2Vec_with_negative_sampling_with_TFIDF - Naive Bayes, SG: CBOW, Vector Size: 100, Window sizes: 7, Min counts: 10, Negative samples: True, Using TF-IDF: True,  Accuracy: 0.5083, F1 Score: 0.5212\n"
     ]
    },
    {
     "name": "stderr",
     "output_type": "stream",
     "text": [
      "C:\\Users\\User\\PycharmProjects\\Giorgos_NLP\\.venv\\Lib\\site-packages\\numpy\\core\\fromnumeric.py:3504: RuntimeWarning: Mean of empty slice.\n",
      "  return _methods._mean(a, axis=axis, dtype=dtype,\n",
      "C:\\Users\\User\\PycharmProjects\\Giorgos_NLP\\.venv\\Lib\\site-packages\\numpy\\core\\_methods.py:129: RuntimeWarning: invalid value encountered in scalar divide\n",
      "  ret = ret.dtype.type(ret / rcount)\n"
     ]
    },
    {
     "ename": "TypeError",
     "evalue": "object of type 'numpy.float64' has no len()",
     "output_type": "error",
     "traceback": [
      "\u001B[1;31m---------------------------------------------------------------------------\u001B[0m",
      "\u001B[1;31mTypeError\u001B[0m                                 Traceback (most recent call last)",
      "Cell \u001B[1;32mIn[14], line 52\u001B[0m\n\u001B[0;32m     48\u001B[0m     doc_embeddings \u001B[38;5;241m=\u001B[39m [np\u001B[38;5;241m.\u001B[39mmean([word2vec_model\u001B[38;5;241m.\u001B[39mwv[word] \u001B[38;5;28;01mfor\u001B[39;00m word \u001B[38;5;129;01min\u001B[39;00m sentence \u001B[38;5;28;01mif\u001B[39;00m word \u001B[38;5;129;01min\u001B[39;00m word2vec_model\u001B[38;5;241m.\u001B[39mwv], axis\u001B[38;5;241m=\u001B[39m\u001B[38;5;241m0\u001B[39m)\n\u001B[0;32m     49\u001B[0m                       \u001B[38;5;28;01mfor\u001B[39;00m sentence \u001B[38;5;129;01min\u001B[39;00m sentences]\n\u001B[0;32m     51\u001B[0m \u001B[38;5;66;03m# Check for empty embeddings\u001B[39;00m\n\u001B[1;32m---> 52\u001B[0m X \u001B[38;5;241m=\u001B[39m np\u001B[38;5;241m.\u001B[39marray([embedding \u001B[38;5;28;01mfor\u001B[39;00m embedding \u001B[38;5;129;01min\u001B[39;00m doc_embeddings \u001B[38;5;28;01mif\u001B[39;00m embedding \u001B[38;5;129;01mis\u001B[39;00m \u001B[38;5;129;01mnot\u001B[39;00m \u001B[38;5;28;01mNone\u001B[39;00m \u001B[38;5;129;01mand\u001B[39;00m \u001B[38;5;28;43mlen\u001B[39;49m\u001B[43m(\u001B[49m\u001B[43membedding\u001B[49m\u001B[43m)\u001B[49m \u001B[38;5;241m>\u001B[39m \u001B[38;5;241m0\u001B[39m])\n\u001B[0;32m     53\u001B[0m y \u001B[38;5;241m=\u001B[39m nvidia_df[\u001B[38;5;124m'\u001B[39m\u001B[38;5;124mtarget\u001B[39m\u001B[38;5;124m'\u001B[39m]\n\u001B[0;32m     55\u001B[0m \u001B[38;5;66;03m# Split the data into training and test sets\u001B[39;00m\n",
      "\u001B[1;31mTypeError\u001B[0m: object of type 'numpy.float64' has no len()"
     ]
    }
   ],
   "execution_count": 14
  },
  {
   "cell_type": "code",
   "execution_count": null,
   "outputs": [],
   "source": [
    "\n",
    "# After running all configurations, print the best performance for each model type and classifier\n",
    "for model_type, classifiers in best_performance.items():\n",
    "    for classifier_type, performance in classifiers.items():\n",
    "        print(f\"Best Performance for {model_type} - {classifier_type}:\")\n",
    "        print(f\"Accuracy: {performance['best_accuracy']:.4f}, F1 Score: {performance['best_f1_score']:.4f}\")\n",
    "        print(f\"Best Params: {performance['best_params']}\")"
   ],
   "metadata": {
    "collapsed": false
   },
   "id": "6b279e32a0ec950d"
  },
  {
   "cell_type": "code",
   "execution_count": 11,
   "outputs": [],
   "source": [
    "# Dictionary to store best performance for each model configuration and classifier\n",
    "best_performance = {\n",
    "    'Word2Vec_with_negative_sampling_with_TFIDF': {\n",
    "        'LogisticRegression': {'best_f1_score': 0, 'best_accuracy': 0, 'best_params': None},\n",
    "        'GaussianNB': {'best_f1_score': 0, 'best_accuracy': 0, 'best_params': None}\n",
    "    },\n",
    "    'Word2Vec_with_negative_sampling_without_TFIDF': {\n",
    "        'LogisticRegression': {'best_f1_score': 0, 'best_accuracy': 0, 'best_params': None},\n",
    "        'GaussianNB': {'best_f1_score': 0, 'best_accuracy': 0, 'best_params': None}\n",
    "    },\n",
    "    'Word2Vec_without_negative_sampling_with_TFIDF': {\n",
    "        'LogisticRegression': {'best_f1_score': 0, 'best_accuracy': 0, 'best_params': None},\n",
    "        'GaussianNB': {'best_f1_score': 0, 'best_accuracy': 0, 'best_params': None}\n",
    "    },\n",
    "    'Word2Vec_without_negative_sampling_without_TFIDF': {\n",
    "        'LogisticRegression': {'best_f1_score': 0, 'best_accuracy': 0, 'best_params': None},\n",
    "        'GaussianNB': {'best_f1_score': 0, 'best_accuracy': 0, 'best_params': None}\n",
    "    }\n",
    "}\n",
    "\n",
    "\n",
    "\n",
    "# Function to update the best performance for a given configuration and classifier\n",
    "def update_best_performance(model_type, classifier_type, f1, accuracy, params):\n",
    "    if f1 > best_performance[model_type][classifier_type]['best_f1_score']:\n",
    "        best_performance[model_type][classifier_type]['best_f1_score'] = f1\n",
    "        best_performance[model_type][classifier_type]['best_accuracy'] = accuracy\n",
    "        best_performance[model_type][classifier_type]['best_params'] = params\n",
    "\n"
   ],
   "metadata": {
    "collapsed": false,
    "ExecuteTime": {
     "end_time": "2024-10-02T11:46:57.154663100Z",
     "start_time": "2024-10-02T11:46:57.135388200Z"
    }
   },
   "id": "8dfaa27c483bbb8e"
  },
  {
   "cell_type": "code",
   "execution_count": 12,
   "outputs": [
    {
     "name": "stdout",
     "output_type": "stream",
     "text": [
      "Model: Word2Vec_with_negative_sampling_with_TFIDF - Logistic Regression, Vector Size: 200, Accuracy: 0.5280, F1 Score: 0.6581\n",
      "Model: Word2Vec_with_negative_sampling_with_TFIDF - Gaussian Naive Bayes, Vector Size: 200, Accuracy: 0.5042, F1 Score: 0.4785\n",
      "Best Performance for Word2Vec_with_negative_sampling_with_TFIDF - LogisticRegression:\n",
      "F1 Score: 0.6581, Accuracy: 0.5280\n",
      "Best Params: (200, 5, 5, 1, 20, 5, True)\n",
      "Best Performance for Word2Vec_with_negative_sampling_with_TFIDF - GaussianNB:\n",
      "F1 Score: 0.4785, Accuracy: 0.5042\n",
      "Best Params: (200, 5, 5, 1, 20, 5, True)\n",
      "Best Performance for Word2Vec_with_negative_sampling_without_TFIDF - LogisticRegression:\n",
      "F1 Score: 0.0000, Accuracy: 0.0000\n",
      "Best Params: None\n",
      "Best Performance for Word2Vec_with_negative_sampling_without_TFIDF - GaussianNB:\n",
      "F1 Score: 0.0000, Accuracy: 0.0000\n",
      "Best Params: None\n",
      "Best Performance for Word2Vec_without_negative_sampling_with_TFIDF - LogisticRegression:\n",
      "F1 Score: 0.0000, Accuracy: 0.0000\n",
      "Best Params: None\n",
      "Best Performance for Word2Vec_without_negative_sampling_with_TFIDF - GaussianNB:\n",
      "F1 Score: 0.0000, Accuracy: 0.0000\n",
      "Best Params: None\n",
      "Best Performance for Word2Vec_without_negative_sampling_without_TFIDF - LogisticRegression:\n",
      "F1 Score: 0.0000, Accuracy: 0.0000\n",
      "Best Params: None\n",
      "Best Performance for Word2Vec_without_negative_sampling_without_TFIDF - GaussianNB:\n",
      "F1 Score: 0.0000, Accuracy: 0.0000\n",
      "Best Params: None\n"
     ]
    }
   ],
   "source": [
    "from sklearn.naive_bayes import GaussianNB\n",
    "\n",
    "# Define the grid of parameters to test\n",
    "vector_sizes = [200]\n",
    "window_sizes = [5]\n",
    "min_counts = [5]\n",
    "sg_values = [1]  # 0 for CBOW, 1 for Skip-gram\n",
    "epochs = [20]\n",
    "negative_samples = [5]  # None means no negative sampling\n",
    "use_tfidf = [True]  # For with/without TF-IDF\n",
    "\n",
    "# Initialize TF-IDF vectorizer and compute feature names\n",
    "tfidf_feature_names = vectorizer.get_feature_names_out()\n",
    "\n",
    "# Iterate over all combinations of parameters including TF-IDF and negative sampling\n",
    "for vector_size, window, min_count, sg, epoch, negative, use_tfidf_flag in itertools.product(vector_sizes, window_sizes, min_counts, sg_values, epochs, negative_samples, use_tfidf):\n",
    "    \n",
    "    # Model identifier for storing results\n",
    "    model_type = f'Word2Vec_{\"with\" if negative else \"without\"}_negative_sampling_{\"with_TFIDF\" if use_tfidf_flag else \"without_TFIDF\"}'\n",
    "    \n",
    "    # Initialize Word2Vec with or without negative sampling\n",
    "    if negative is not None:\n",
    "        word2vec_model = Word2Vec(sentences, vector_size=vector_size, window=window, min_count=min_count, workers=4, sg=sg, negative=negative)\n",
    "    else:\n",
    "        word2vec_model = Word2Vec(sentences, vector_size=vector_size, window=window, min_count=min_count, workers=4, sg=sg)\n",
    "    \n",
    "    # Train the model\n",
    "    word2vec_model.train(sentences, total_examples=len(sentences), epochs=epoch)\n",
    "\n",
    "    # Document embeddings, with or without TF-IDF\n",
    "    if use_tfidf_flag:\n",
    "        # Assuming TF-IDF embedding code here\n",
    "        doc_embeddings = nvidia_df['filtered_text'].apply(\n",
    "            lambda doc: document_embedding_tfidf(word2vec_model, doc, vectorizer, tfidf_feature_names, vector_size=vector_size)\n",
    "        ).tolist()\n",
    "    else:\n",
    "        doc_embeddings = [np.mean([word2vec_model.wv[word] for word in sentence if word in word2vec_model.wv], axis=0) for sentence in sentences]\n",
    "\n",
    "    # Check for empty embeddings\n",
    "    X = np.array([embedding for embedding in doc_embeddings if embedding is not None and len(embedding) > 0])\n",
    "    y = nvidia_df['target']\n",
    "\n",
    "    # Split the data into training and test sets\n",
    "    X_train, X_test, y_train, y_test = train_test_split(X, y, test_size=0.2, random_state=17, stratify=y)\n",
    "\n",
    "    # ==========================\n",
    "    # Train Logistic Regression\n",
    "    # ==========================\n",
    "    lr_model = LogisticRegression(max_iter=1000)\n",
    "    lr_model.fit(X_train, y_train)\n",
    "\n",
    "    # Get predictions on the test set\n",
    "    y_pred = lr_model.predict(X_test)\n",
    "\n",
    "    # Calculate accuracy and F1 score for Logistic Regression\n",
    "    accuracy = accuracy_score(y_test, y_pred)\n",
    "    f1 = f1_score(y_test, y_pred)\n",
    "\n",
    "    print(f\"Model: {model_type} - Logistic Regression, Vector Size: {vector_size}, Accuracy: {accuracy:.4f}, F1 Score: {f1:.4f}\")\n",
    "    \n",
    "    # Update best performance for Logistic Regression\n",
    "    update_best_performance(model_type, 'LogisticRegression', f1, accuracy, (vector_size, window, min_count, sg, epoch, negative, use_tfidf_flag))\n",
    "\n",
    "    # ==========================\n",
    "    # Train Gaussian Naive Bayes\n",
    "    # ==========================\n",
    "    nb_model = GaussianNB()\n",
    "    nb_model.fit(X_train, y_train)\n",
    "\n",
    "    # Get predictions on the test set\n",
    "    y_pred = nb_model.predict(X_test)\n",
    "\n",
    "    # Calculate accuracy and F1 score for Naive Bayes\n",
    "    accuracy = accuracy_score(y_test, y_pred)\n",
    "    f1 = f1_score(y_test, y_pred)\n",
    "\n",
    "    print(f\"Model: {model_type} - Gaussian Naive Bayes, Vector Size: {vector_size}, Accuracy: {accuracy:.4f}, F1 Score: {f1:.4f}\")\n",
    "    \n",
    "    # Update best performance for Naive Bayes\n",
    "    update_best_performance(model_type, 'GaussianNB', f1, accuracy, (vector_size, window, min_count, sg, epoch, negative, use_tfidf_flag))\n",
    "\n",
    "# After running all configurations, print the best performance for each model type and classifier\n",
    "for model_type, classifiers in best_performance.items():\n",
    "    for classifier_type, performance in classifiers.items():\n",
    "        print(f\"Best Performance for {model_type} - {classifier_type}:\")\n",
    "        print(f\"F1 Score: {performance['best_f1_score']:.4f}, Accuracy: {performance['best_accuracy']:.4f}\")\n",
    "        print(f\"Best Params: {performance['best_params']}\")\n"
   ],
   "metadata": {
    "collapsed": false,
    "ExecuteTime": {
     "end_time": "2024-10-02T14:04:11.204629600Z",
     "start_time": "2024-10-02T11:47:10.320094100Z"
    }
   },
   "id": "27336f5e65374f5e"
  },
  {
   "cell_type": "code",
   "execution_count": 13,
   "outputs": [
    {
     "name": "stdout",
     "output_type": "stream",
     "text": [
      "Best Performance for Word2Vec_with_negative_sampling_with_TFIDF - LogisticRegression:\n",
      "F1 Score: 0.6581, Accuracy: 0.5280\n",
      "Best Params: (200, 5, 5, 1, 20, 5, True)\n",
      "Best Performance for Word2Vec_with_negative_sampling_with_TFIDF - GaussianNB:\n",
      "F1 Score: 0.4785, Accuracy: 0.5042\n",
      "Best Params: (200, 5, 5, 1, 20, 5, True)\n",
      "Best Performance for Word2Vec_with_negative_sampling_without_TFIDF - LogisticRegression:\n",
      "F1 Score: 0.0000, Accuracy: 0.0000\n",
      "Best Params: None\n",
      "Best Performance for Word2Vec_with_negative_sampling_without_TFIDF - GaussianNB:\n",
      "F1 Score: 0.0000, Accuracy: 0.0000\n",
      "Best Params: None\n",
      "Best Performance for Word2Vec_without_negative_sampling_with_TFIDF - LogisticRegression:\n",
      "F1 Score: 0.0000, Accuracy: 0.0000\n",
      "Best Params: None\n",
      "Best Performance for Word2Vec_without_negative_sampling_with_TFIDF - GaussianNB:\n",
      "F1 Score: 0.0000, Accuracy: 0.0000\n",
      "Best Params: None\n",
      "Best Performance for Word2Vec_without_negative_sampling_without_TFIDF - LogisticRegression:\n",
      "F1 Score: 0.0000, Accuracy: 0.0000\n",
      "Best Params: None\n",
      "Best Performance for Word2Vec_without_negative_sampling_without_TFIDF - GaussianNB:\n",
      "F1 Score: 0.0000, Accuracy: 0.0000\n",
      "Best Params: None\n"
     ]
    }
   ],
   "source": [
    "# After running all configurations, print the best performance for each model type and classifier\n",
    "for model_type, classifiers in best_performance.items():\n",
    "    for classifier_type, performance in classifiers.items():\n",
    "        print(f\"Best Performance for {model_type} - {classifier_type}:\")\n",
    "        print(f\"F1 Score: {performance['best_f1_score']:.4f}, Accuracy: {performance['best_accuracy']:.4f}\")\n",
    "        print(f\"Best Params: {performance['best_params']}\")"
   ],
   "metadata": {
    "collapsed": false,
    "ExecuteTime": {
     "end_time": "2024-10-02T14:04:11.253991500Z",
     "start_time": "2024-10-02T14:04:11.252407Z"
    }
   },
   "id": "fb226d3501a21d55"
  },
  {
   "cell_type": "code",
   "execution_count": 16,
   "outputs": [],
   "source": [
    "# Dictionary to store best performance for each model configuration and classifier\n",
    "best_performance = {\n",
    "    'Word2Vec_with_negative_sampling_with_TFIDF': {\n",
    "        'LogisticRegression': {'best_f1_score': 0, 'best_accuracy': 0, 'best_params': None},\n",
    "        'GaussianNB': {'best_f1_score': 0, 'best_accuracy': 0, 'best_params': None}\n",
    "    },\n",
    "    'Word2Vec_with_negative_sampling_without_TFIDF': {\n",
    "        'LogisticRegression': {'best_f1_score': 0, 'best_accuracy': 0, 'best_params': None},\n",
    "        'GaussianNB': {'best_f1_score': 0, 'best_accuracy': 0, 'best_params': None}\n",
    "    },\n",
    "    'Word2Vec_without_negative_sampling_with_TFIDF': {\n",
    "        'LogisticRegression': {'best_f1_score': 0, 'best_accuracy': 0, 'best_params': None},\n",
    "        'GaussianNB': {'best_f1_score': 0, 'best_accuracy': 0, 'best_params': None}\n",
    "    },\n",
    "    'Word2Vec_without_negative_sampling_without_TFIDF': {\n",
    "        'LogisticRegression': {'best_f1_score': 0, 'best_accuracy': 0, 'best_params': None},\n",
    "        'GaussianNB': {'best_f1_score': 0, 'best_accuracy': 0, 'best_params': None}\n",
    "    }\n",
    "}\n",
    "\n",
    "\n",
    "\n",
    "# Function to update the best performance for a given configuration and classifier\n",
    "def update_best_performance(model_type, classifier_type, f1, accuracy, params):\n",
    "    if f1 > best_performance[model_type][classifier_type]['best_f1_score']:\n",
    "        best_performance[model_type][classifier_type]['best_f1_score'] = f1\n",
    "        best_performance[model_type][classifier_type]['best_accuracy'] = accuracy\n",
    "        best_performance[model_type][classifier_type]['best_params'] = params\n",
    "\n"
   ],
   "metadata": {
    "collapsed": false,
    "ExecuteTime": {
     "end_time": "2024-10-03T09:40:26.447553900Z",
     "start_time": "2024-10-03T09:40:26.353763900Z"
    }
   },
   "id": "7a5033ebbb52d454"
  },
  {
   "cell_type": "code",
   "execution_count": null,
   "outputs": [],
   "source": [
    "from sklearn.naive_bayes import GaussianNB\n",
    "\n",
    "# Define the grid of parameters to test\n",
    "vector_sizes = [200]\n",
    "window_sizes = [5]\n",
    "min_counts = [10]\n",
    "sg_values = [1]  # 0 for CBOW, 1 for Skip-gram\n",
    "epochs = [20]\n",
    "negative_samples = [5]  # None means no negative sampling\n",
    "use_tfidf = [True]  # For with/without TF-IDF\n",
    "\n",
    "# Initialize TF-IDF vectorizer and compute feature names\n",
    "tfidf_feature_names = vectorizer.get_feature_names_out()\n",
    "\n",
    "# Iterate over all combinations of parameters including TF-IDF and negative sampling\n",
    "for vector_size, window, min_count, sg, epoch, negative, use_tfidf_flag in itertools.product(vector_sizes, window_sizes, min_counts, sg_values, epochs, negative_samples, use_tfidf):\n",
    "    \n",
    "    # Model identifier for storing results\n",
    "    model_type = f'Word2Vec_{\"with\" if negative else \"without\"}_negative_sampling_{\"with_TFIDF\" if use_tfidf_flag else \"without_TFIDF\"}'\n",
    "    \n",
    "    # Initialize Word2Vec with or without negative sampling\n",
    "    if negative is not None:\n",
    "        word2vec_model = Word2Vec(sentences, vector_size=vector_size, window=window, min_count=min_count, workers=4, sg=sg, negative=negative)\n",
    "    else:\n",
    "        word2vec_model = Word2Vec(sentences, vector_size=vector_size, window=window, min_count=min_count, workers=4, sg=sg)\n",
    "    \n",
    "    # Train the model\n",
    "    word2vec_model.train(sentences, total_examples=len(sentences), epochs=epoch)\n",
    "\n",
    "    # Document embeddings, with or without TF-IDF\n",
    "    if use_tfidf_flag:\n",
    "        # Assuming TF-IDF embedding code here\n",
    "        doc_embeddings = nvidia_df['filtered_text'].apply(\n",
    "            lambda doc: document_embedding_tfidf(word2vec_model, doc, vectorizer, tfidf_feature_names, vector_size=vector_size)\n",
    "        ).tolist()\n",
    "    else:\n",
    "        doc_embeddings = [np.mean([word2vec_model.wv[word] for word in sentence if word in word2vec_model.wv], axis=0) for sentence in sentences]\n",
    "\n",
    "    # Check for empty embeddings\n",
    "    X = np.array([embedding for embedding in doc_embeddings if embedding is not None and len(embedding) > 0])\n",
    "    y = nvidia_df['target']\n",
    "\n",
    "    # Split the data into training and test sets\n",
    "    X_train, X_test, y_train, y_test = train_test_split(X, y, test_size=0.2, random_state=17, stratify=y)\n",
    "\n",
    "    # ==========================\n",
    "    # Train Logistic Regression\n",
    "    # ==========================\n",
    "    lr_model = LogisticRegression(max_iter=1000)\n",
    "    lr_model.fit(X_train, y_train)\n",
    "\n",
    "    # Get predictions on the test set\n",
    "    y_pred = lr_model.predict(X_test)\n",
    "\n",
    "    # Calculate accuracy and F1 score for Logistic Regression\n",
    "    accuracy = accuracy_score(y_test, y_pred)\n",
    "    f1 = f1_score(y_test, y_pred)\n",
    "\n",
    "    print(f\"Model: {model_type} - Logistic Regression, Vector Size: {vector_size}, Accuracy: {accuracy:.4f}, F1 Score: {f1:.4f}\")\n",
    "    \n",
    "    # Update best performance for Logistic Regression\n",
    "    update_best_performance(model_type, 'LogisticRegression', f1, accuracy, (vector_size, window, min_count, sg, epoch, negative, use_tfidf_flag))\n",
    "\n",
    "    # ==========================\n",
    "    # Train Gaussian Naive Bayes\n",
    "    # ==========================\n",
    "    nb_model = GaussianNB()\n",
    "    nb_model.fit(X_train, y_train)\n",
    "\n",
    "    # Get predictions on the test set\n",
    "    y_pred = nb_model.predict(X_test)\n",
    "\n",
    "    # Calculate accuracy and F1 score for Naive Bayes\n",
    "    accuracy = accuracy_score(y_test, y_pred)\n",
    "    f1 = f1_score(y_test, y_pred)\n",
    "\n",
    "    print(f\"Model: {model_type} - Gaussian Naive Bayes, Vector Size: {vector_size}, Accuracy: {accuracy:.4f}, F1 Score: {f1:.4f}\")\n",
    "    \n",
    "    # Update best performance for Naive Bayes\n",
    "    update_best_performance(model_type, 'GaussianNB', f1, accuracy, (vector_size, window, min_count, sg, epoch, negative, use_tfidf_flag))\n",
    "\n",
    "# After running all configurations, print the best performance for each model type and classifier\n",
    "for model_type, classifiers in best_performance.items():\n",
    "    for classifier_type, performance in classifiers.items():\n",
    "        print(f\"Best Performance for {model_type} - {classifier_type}:\")\n",
    "        print(f\"F1 Score: {performance['best_f1_score']:.4f}, Accuracy: {performance['best_accuracy']:.4f}\")\n",
    "        print(f\"Best Params: {performance['best_params']}\")\n"
   ],
   "metadata": {
    "collapsed": false
   },
   "id": "10c42a3b001e1aec"
  },
  {
   "cell_type": "code",
   "execution_count": 14,
   "outputs": [],
   "source": [
    "from sklearn.metrics import confusion_matrix, ConfusionMatrixDisplay\n",
    "import matplotlib.pyplot as plt\n",
    "\n",
    "# Step 1: Generate the confusion matrix\n",
    "cm = confusion_matrix(y_test, y_pred)"
   ],
   "metadata": {
    "collapsed": false,
    "ExecuteTime": {
     "end_time": "2024-10-03T07:54:52.523133400Z",
     "start_time": "2024-10-03T07:54:10.540448400Z"
    }
   },
   "id": "3d7537d4d52c48c4"
  },
  {
   "cell_type": "code",
   "execution_count": 15,
   "outputs": [
    {
     "data": {
      "text/plain": "<Figure size 640x480 with 2 Axes>",
      "image/png": "[encoded data removed]"
     },
     "metadata": {},
     "output_type": "display_data"
    }
   ],
   "source": [
    "\n",
    "# Step 2: Plot the confusion matrix\n",
    "disp = ConfusionMatrixDisplay(confusion_matrix=cm, display_labels=[0, 1])\n",
    "disp.plot(cmap=plt.cm.Blues)\n",
    "\n",
    "plt.title('Confusion Matrix')\n",
    "plt.show()"
   ],
   "metadata": {
    "collapsed": false,
    "ExecuteTime": {
     "end_time": "2024-10-03T07:54:53.688777100Z",
     "start_time": "2024-10-03T07:54:52.532757900Z"
    }
   },
   "id": "580b0f6d109f35a8"
  },
  {
   "cell_type": "code",
   "execution_count": null,
   "outputs": [],
   "source": [],
   "metadata": {
    "collapsed": false
   },
   "id": "bd1db2cdefac826"
  }
 ],
 "metadata": {
  "kernelspec": {
   "display_name": "Python 3",
   "language": "python",
   "name": "python3"
  },
  "language_info": {
   "codemirror_mode": {
    "name": "ipython",
    "version": 2
   },
   "file_extension": ".py",
   "mimetype": "text/x-python",
   "name": "python",
   "nbconvert_exporter": "python",
   "pygments_lexer": "ipython2",
   "version": "2.7.6"
  }
 },
 "nbformat": 4,
 "nbformat_minor": 5
}
