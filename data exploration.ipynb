{
 "cells": [
  {
   "cell_type": "code",
   "execution_count": 1,
   "id": "initial_id",
   "metadata": {
    "collapsed": true,
    "ExecuteTime": {
     "end_time": "2024-09-26T10:49:16.237031900Z",
     "start_time": "2024-09-26T10:49:11.726507900Z"
    }
   },
   "outputs": [],
   "source": [
    "import pandas as pd\n",
    "import string\n",
    "import numpy as np\n",
    "import nltk\n",
    "from nltk.corpus import stopwords\n",
    "from nltk.tokenize import word_tokenize\n",
    "from collections import Counter\n",
    "import matplotlib.pyplot as plt\n",
    "from sklearn.feature_extraction.text import TfidfVectorizer\n",
    "from sklearn.metrics.pairwise import cosine_similarity\n",
    "\n"
   ]
  },
  {
   "cell_type": "code",
   "execution_count": 2,
   "id": "8cf84af89fb07257",
   "metadata": {
    "ExecuteTime": {
     "end_time": "2024-09-26T10:49:16.555846200Z",
     "start_time": "2024-09-26T10:49:16.223686500Z"
    }
   },
   "outputs": [
    {
     "name": "stderr",
     "output_type": "stream",
     "text": [
      "[nltk_data] Downloading package stopwords to\n",
      "[nltk_data]     C:\\Users\\georg\\AppData\\Roaming\\nltk_data...\n",
      "[nltk_data]   Package stopwords is already up-to-date!\n",
      "[nltk_data] Downloading package punkt_tab to\n",
      "[nltk_data]     C:\\Users\\georg\\AppData\\Roaming\\nltk_data...\n",
      "[nltk_data]   Package punkt_tab is already up-to-date!\n"
     ]
    },
    {
     "data": {
      "text/plain": "True"
     },
     "execution_count": 2,
     "metadata": {},
     "output_type": "execute_result"
    }
   ],
   "source": [
    "nltk.download('stopwords')\n",
    "nltk.download('punkt_tab')"
   ]
  },
  {
   "cell_type": "code",
   "execution_count": 3,
   "id": "9e29bfd74fbee2df",
   "metadata": {
    "ExecuteTime": {
     "end_time": "2024-09-26T10:49:27.531764500Z",
     "start_time": "2024-09-26T10:49:16.553886Z"
    }
   },
   "outputs": [],
   "source": [
    "# Load the datasets\n",
    "news_df = pd.read_csv('./data/us_equities_news_dataset.csv')\n",
    "stock_df = pd.read_csv('./data/NVDA.csv')\n",
    "\n"
   ]
  },
  {
   "cell_type": "code",
   "execution_count": 4,
   "id": "f6826c9a64cdbd2e",
   "metadata": {
    "ExecuteTime": {
     "end_time": "2024-09-26T10:49:27.666475800Z",
     "start_time": "2024-09-26T10:49:27.531764500Z"
    }
   },
   "outputs": [
    {
     "name": "stdout",
     "output_type": "stream",
     "text": [
      "News Dataset Info:\n",
      "<class 'pandas.core.frame.DataFrame'>\n",
      "RangeIndex: 221513 entries, 0 to 221512\n",
      "Data columns (total 9 columns):\n",
      " #   Column        Non-Null Count   Dtype \n",
      "---  ------        --------------   ----- \n",
      " 0   id            221513 non-null  int64 \n",
      " 1   ticker        221513 non-null  object\n",
      " 2   title         221513 non-null  object\n",
      " 3   category      221513 non-null  object\n",
      " 4   content       221505 non-null  object\n",
      " 5   release_date  221513 non-null  object\n",
      " 6   provider      221513 non-null  object\n",
      " 7   url           221513 non-null  object\n",
      " 8   article_id    221513 non-null  int64 \n",
      "dtypes: int64(2), object(7)\n",
      "memory usage: 15.2+ MB\n",
      "None\n",
      "\n",
      "Stock Dataset Info:\n",
      "<class 'pandas.core.frame.DataFrame'>\n",
      "RangeIndex: 6437 entries, 0 to 6436\n",
      "Data columns (total 7 columns):\n",
      " #   Column     Non-Null Count  Dtype  \n",
      "---  ------     --------------  -----  \n",
      " 0   Date       6437 non-null   object \n",
      " 1   Open       6437 non-null   float64\n",
      " 2   High       6437 non-null   float64\n",
      " 3   Low        6437 non-null   float64\n",
      " 4   Close      6437 non-null   float64\n",
      " 5   Adj Close  6437 non-null   float64\n",
      " 6   Volume     6437 non-null   int64  \n",
      "dtypes: float64(5), int64(1), object(1)\n",
      "memory usage: 352.2+ KB\n",
      "None\n"
     ]
    }
   ],
   "source": [
    "# Display general information about the datasets\n",
    "print(\"News Dataset Info:\")\n",
    "print(news_df.info())\n",
    "print(\"\\nStock Dataset Info:\")\n",
    "print(stock_df.info())"
   ]
  },
  {
   "cell_type": "markdown",
   "id": "c730582ca130bf77",
   "metadata": {},
   "source": [
    "News dataset has 9 columns: ID, Ticker shows the company that the article is referring to, Title is the article title, category is the type of news, content is the article itself, publishedAt is the date of publication, source is the source of the article, url is the link to the article, summary is a summary of the article and related is the related news to the article. The dataset has 1000 rows.\n",
    "\n",
    "Stock dataset has 7 columns, Date is the date of the stock price, Open is the opening price of the stock, High is the highest price of the stock, Low is the lowest price of the stock, Close is the closing price of the stock, Adj Close is the adjusted closing price of the stock and Volume is the volume of the stock. The dataset has 1259 rows."
   ]
  },
  {
   "cell_type": "code",
   "execution_count": 5,
   "id": "d3265434f03ea721",
   "metadata": {
    "ExecuteTime": {
     "end_time": "2024-09-26T10:49:27.667478200Z",
     "start_time": "2024-09-26T10:49:27.651748500Z"
    }
   },
   "outputs": [
    {
     "name": "stdout",
     "output_type": "stream",
     "text": [
      "\n",
      "First few rows of the News Dataset:\n",
      "       id ticker                                              title category  \\\n",
      "0  221515    NIO  Why Shares of Chinese Electric Car Maker NIO A...     news   \n",
      "1  221516    NIO  NIO only consumer gainer  Workhorse Group amon...     news   \n",
      "2  221517    NIO  NIO leads consumer gainers  Beyond Meat and Ma...     news   \n",
      "3  221518    NIO                  NIO  NVAX among premarket gainers     news   \n",
      "4  221519    NIO                  PLUG  NIO among premarket gainers     news   \n",
      "\n",
      "                                             content release_date  \\\n",
      "0  What s happening\\nShares of Chinese electric c...   2020-01-15   \n",
      "1  Gainers  NIO  NYSE NIO   7  \\nLosers  MGP Ingr...   2020-01-18   \n",
      "2  Gainers  NIO  NYSE NIO   14   Village Farms In...   2020-01-15   \n",
      "3  Cemtrex  NASDAQ CETX   85  after FY results \\n...   2020-01-15   \n",
      "4  aTyr Pharma  NASDAQ LIFE   63  on Kyorin Pharm...   2020-01-06   \n",
      "\n",
      "          provider                                                url  \\\n",
      "0  The Motley Fool                             https://invst.ly/pigqi   \n",
      "1    Seeking Alpha                             https://invst.ly/pje9c   \n",
      "2    Seeking Alpha                             https://invst.ly/pifmv   \n",
      "3    Seeking Alpha                             https://invst.ly/picu8   \n",
      "4    Seeking Alpha  https://seekingalpha.com/news/3529772-plug-nio...   \n",
      "\n",
      "   article_id  \n",
      "0     2060327  \n",
      "1     2062196  \n",
      "2     2060249  \n",
      "3     2060039  \n",
      "4     2053096  \n",
      "\n",
      "First few rows of the Stock Dataset:\n",
      "         Date      Open      High       Low     Close  Adj Close     Volume\n",
      "0  1999-01-25  0.044271  0.045833  0.041016  0.045313   0.041562  510480000\n",
      "1  1999-01-26  0.045833  0.046745  0.041146  0.041797   0.038337  343200000\n",
      "2  1999-01-27  0.041927  0.042969  0.039583  0.041667   0.038218  244368000\n",
      "3  1999-01-28  0.041667  0.041927  0.041276  0.041536   0.038098  227520000\n",
      "4  1999-01-29  0.041536  0.041667  0.039583  0.039583   0.036307  244032000\n"
     ]
    }
   ],
   "source": [
    "# Display the first few rows of each dataset\n",
    "print(\"\\nFirst few rows of the News Dataset:\")\n",
    "print(news_df.head())\n",
    "print(\"\\nFirst few rows of the Stock Dataset:\")\n",
    "print(stock_df.head())"
   ]
  },
  {
   "cell_type": "code",
   "execution_count": 6,
   "id": "72f8fb923f0171b7",
   "metadata": {
    "ExecuteTime": {
     "end_time": "2024-09-26T10:49:27.780387700Z",
     "start_time": "2024-09-26T10:49:27.667478200Z"
    }
   },
   "outputs": [
    {
     "name": "stdout",
     "output_type": "stream",
     "text": [
      "\n",
      "Missing values in News Dataset:\n",
      "id              0\n",
      "ticker          0\n",
      "title           0\n",
      "category        0\n",
      "content         8\n",
      "release_date    0\n",
      "provider        0\n",
      "url             0\n",
      "article_id      0\n",
      "dtype: int64\n",
      "\n",
      "Missing values in Stock Dataset:\n",
      "Date         0\n",
      "Open         0\n",
      "High         0\n",
      "Low          0\n",
      "Close        0\n",
      "Adj Close    0\n",
      "Volume       0\n",
      "dtype: int64\n"
     ]
    }
   ],
   "source": [
    "# Check for missing values in the datasets\n",
    "print(\"\\nMissing values in News Dataset:\")\n",
    "print(news_df.isnull().sum())\n",
    "print(\"\\nMissing values in Stock Dataset:\")\n",
    "print(stock_df.isnull().sum())\n",
    "\n"
   ]
  },
  {
   "cell_type": "code",
   "execution_count": 7,
   "id": "f365759d09c4c29f",
   "metadata": {
    "ExecuteTime": {
     "end_time": "2024-09-26T10:49:27.781510600Z",
     "start_time": "2024-09-26T10:49:27.756895400Z"
    }
   },
   "outputs": [
    {
     "name": "stdout",
     "output_type": "stream",
     "text": [
      "\n",
      "Summary statistics for Stock Dataset:\n",
      "              Open         High          Low        Close    Adj Close  \\\n",
      "count  6437.000000  6437.000000  6437.000000  6437.000000  6437.000000   \n",
      "mean      6.492829     6.614421     6.362843     6.495542     6.469240   \n",
      "std      17.045341    17.370931    16.677118    17.044818    17.047936   \n",
      "min       0.034896     0.035547     0.033333     0.034115     0.031291   \n",
      "25%       0.277865     0.286458     0.270250     0.277333     0.254377   \n",
      "50%       0.458417     0.465750     0.451750     0.458333     0.428777   \n",
      "75%       4.214750     4.271500     4.155000     4.218000     4.186831   \n",
      "max     139.800003   140.759995   132.419998   135.580002   135.580002   \n",
      "\n",
      "             Volume  \n",
      "count  6.437000e+03  \n",
      "mean   6.050942e+08  \n",
      "std    4.312372e+08  \n",
      "min    1.968000e+07  \n",
      "25%    3.449760e+08  \n",
      "50%    5.066160e+08  \n",
      "75%    7.356200e+08  \n",
      "max    9.230856e+09  \n"
     ]
    }
   ],
   "source": [
    "# Summary statistics for numerical columns in stock data\n",
    "print(\"\\nSummary statistics for Stock Dataset:\")\n",
    "print(stock_df.describe())\n"
   ]
  },
  {
   "cell_type": "code",
   "execution_count": 9,
   "outputs": [
    {
     "name": "stdout",
     "output_type": "stream",
     "text": [
      "['NIO' 'UBER' 'CTL' 'INTC' 'MSFT' 'MU' 'BLDP' 'FCX' 'EQT' 'MRVL' 'TFC'\n",
      " 'MAS' 'KLAC' 'ES' 'LHX' 'NUE' 'CB' 'ALNY' 'CLSN' 'TV' 'FMC' 'DNKN'\n",
      " 'WFTLF' 'ASGN' 'CHCI' 'AMSF' 'TAOP' 'CECE' 'CTHR' 'CNTFY' 'EDMCQ' 'ECOL'\n",
      " 'EBMT' 'DYNT' 'DYSL' 'DXYN' 'DWSN' 'DUSA' 'DXPE' 'DSWL' 'DSG' 'DSPG'\n",
      " 'DRAD' 'DORM' 'DMRC' 'DNBF' 'DJCO' 'DISCB' 'DGICA' 'DGICB' 'DCIX' 'DCTHD'\n",
      " 'BBQ' 'DAIO' 'CZFC' 'CYTR' 'CWBC' 'CYAN' 'CVV' 'CVCO' 'CVCY' 'CVLY'\n",
      " 'BSRR' 'CTWS' 'BVSN' 'HKTVY' 'CRZO' 'CSPI' 'CRWS' 'CRAY' 'CRMBQ' 'CRMT'\n",
      " 'CRAI' 'CPSI' 'CPSS' 'CPIX' 'TRCB' 'CPHC' 'VIEWF' 'ASFI' 'ARTX' 'CNET'\n",
      " 'DXLG' 'CNAF' 'CLRO' 'CLMT' 'CLFD' 'CIDM' 'CIZN' 'PME' 'CHOPF' 'CFNB'\n",
      " 'CFFI' 'CENT' 'CFBK' 'CCUR' 'CCRN' 'CCBG' 'CBAT' 'CBAN' 'CART' 'CARV'\n",
      " 'CARB' 'CAAS' 'PTVCB' 'BYFC' 'CALI' 'CACH' 'BWEN' 'BSPM' 'BSQR' 'BRID'\n",
      " 'INFY' 'NBL' 'PEG' 'IRM' 'ALL' 'MAR' 'EW' 'ALGN' 'CUTR' 'CHEF' 'BXP'\n",
      " 'BEAT' 'AXTI' 'CTRN' 'BELFB' 'CGA' 'CCNE' 'BNSO' 'AMRB' 'BOSC' 'NFLX'\n",
      " 'BX' 'PM' 'GE' 'FIS' 'COST' 'GS' 'LRCX' 'MKC' 'ETR' 'NDAQ' 'CSOD' 'SNA'\n",
      " 'AUDC' 'CAMT' 'BCPC' 'APA' 'WDC' 'CMS' 'DHI' 'MXIM' 'NYT' 'CERN' 'WEC'\n",
      " 'R' 'LEG' 'AGYS' 'RDWR' 'GWW' 'CEVA' 'GRBK' 'ALBO' 'STC' 'CHCO' 'NKE'\n",
      " 'WYNN' 'EL' 'CHTR' 'TRV' 'TROW' 'ACHC' 'ARLP' 'CSFL' 'BECN' 'ECHO' 'CWST'\n",
      " 'AMWD' 'ATNI' 'POLYP' 'IIJIY' 'ARRY' 'ARQL' 'ARKR' 'GPAGF' 'BMS' 'EP_pc'\n",
      " 'APLO' 'PUMG' 'ASML' 'ENGIE' 'AIRT' 'MITSY' 'BERK' 'IRCP' 'SRL' 'AFSIM'\n",
      " 'BELFA' 'KNMCY' 'IBA' 'BKSC' 'ATRI' 'CNBKA' 'KYOCY' 'EBTC' 'ANAT' 'AMNB'\n",
      " 'ALCO' 'ARTNA' 'AVNW' 'AUBN' 'BOCH' 'CHN' 'BMRC' 'AROW' 'BFIN' 'COKE'\n",
      " 'MKTAY' 'GHC' 'BSET' 'BCBP' 'DCMYY' 'CBBI' 'CTBI' 'THRM' 'ASR' 'IX'\n",
      " 'CASS' 'CAC' 'BDGE' 'BBSI' 'DCOM' 'CWCO' 'CLAR' 'DMLP' 'HBAN' 'TSLA' 'V'\n",
      " 'KR' 'ADBE' 'NOV' 'SPG' 'MNST' 'TIF' 'DTE' 'DELL' 'CHRS' 'NWS' 'CSGS'\n",
      " 'LH' 'TEX' 'ADTN' 'ADES' 'ARCB' 'LNN' 'ATLC' 'CYBE' 'APEI' 'COHR' 'BLKB'\n",
      " 'NCR' 'FII' 'EFX' 'COLB' 'FANH' 'SRCL' 'COHU' 'AVB' 'BJRI' 'COWN' 'RS'\n",
      " 'IPGP' 'RAMP' 'CBRL' 'DENN' 'FLIR' 'SPAR' 'CFFN' 'CATM' 'SHW' 'ROP'\n",
      " 'WYND' 'CVTI' 'CYTK' 'AX' 'RHI' 'RGLD' 'CNS' 'EBIX' 'ATGE' 'ARCH' 'GPC'\n",
      " 'AIZ' 'AVY' 'ANSS' 'WAT' 'FLS' 'GRMN' 'UIS' 'CBRE' 'HSY' 'CSGP' 'VMC'\n",
      " 'CRUS' 'VALE' 'GPS' 'CRM' 'PLD' 'STX' 'XRX' 'DHR' 'CMA' 'TTWO' 'SPGI'\n",
      " 'AON' 'ORLY' 'CMTL' 'ALGT' 'APOG' 'CCOI' 'CPLP' 'ACLS' 'CINF' 'RCI'\n",
      " 'CDXS' 'VCEL' 'ROK' 'ABCB' 'SITC' 'AMP' 'ABMD' 'NOC' 'PFG' 'PPG' 'FLR'\n",
      " 'ED' 'ACIW' 'TAP' 'JEF' 'EMR' 'BLL' 'STT' 'ARWR' 'ATI' 'YUM' 'CIEN' 'IPG'\n",
      " 'CREE' 'AEP' 'ETN' 'D' 'MMM' 'BK' 'FHN' 'PAAS' 'UPS' 'ISRG' 'HP' 'GD'\n",
      " 'SRPT' 'BC' 'PH' 'EPAC' 'BANR' 'CCMP' 'DGII' 'ECPG' 'MCO' 'KMX' 'BLDR'\n",
      " 'CROX' 'SOHU' 'XRAY' 'URBN' 'SEE' 'VNO' 'WM' 'VAR' 'ILMN' 'WHR' 'CZNC'\n",
      " 'ALOT' 'AMOT' 'BSTC' 'BANF' 'KOF' 'CLCT' 'AMSWA' 'BUSE' 'ADUS' 'MANT'\n",
      " 'AEGN' 'BMTC' 'MPAA' 'ASTE' 'NTTYY' 'AAON' 'CACC' 'AOSL' 'CSWC' 'ANGO'\n",
      " 'ANDE' 'CBPO' 'CVGW' 'AVAV' 'EBSB' 'NTUS' 'CMCO' 'CENTA' 'CORE' 'CHDN'\n",
      " 'BHLB' 'BRKL' 'RDY' 'ARGO' 'MHO' 'AMED' 'MTW' 'BOOM' 'LAMR' 'DDS' 'TM'\n",
      " 'ITRI' 'ANIK' 'AEIS' 'AIMC' 'CAJ' 'HOV' 'CTAS' 'AZO' 'CNMD' 'CASH' 'BOKF'\n",
      " 'RYAAY' 'CSII' 'CASY' 'GL' 'ATRO' 'PRDO' 'CMG' 'EQIX' 'PIPR' 'DIOD'\n",
      " 'CALM' 'NS' 'BPFH' 'AAWW' 'BRKS' 'SSP' 'VRSN' 'MGA' 'CPL' 'CBSH' 'CEF'\n",
      " 'MIDD' 'ATRC' 'CRI' 'HAIN' 'COLM' 'SJM' 'BAC' 'SLB' 'DIS' 'NLOK' 'XOM'\n",
      " 'KO' 'ALV' 'DAL' 'AAPL' 'BA' 'PBR' 'XLNX' 'SBUX' 'PG' 'PGR' 'TGT' 'AA'\n",
      " 'SLM' 'BKR' 'ADI' 'AVGO' 'WPM' 'DUK' 'STLD' 'XEL' 'ABC' 'TTM' 'CPB' 'MDP'\n",
      " 'AGN' 'LBTYA' 'EXPD' 'A' 'DOV' 'HOPE' 'IGT' 'L' 'AIV' 'VMW' 'DXCM' 'AN'\n",
      " 'RF' 'QCOM' 'AGNC' 'BCOM' 'ATLO' 'ALLT' 'BANC' 'ARNA' 'CETV' 'FHI' 'ITT'\n",
      " 'CSIQ' 'SINA' 'CATY' 'CYOU' 'BLK' 'BKNG' 'MSI' 'HMC' 'AAXN' 'CVBF' 'IONS'\n",
      " 'CORT' 'OPCH' 'CGEN' 'CCEP' 'ENTG' 'ECL' 'SGEN' 'NTES' 'SNE' 'STZ' 'CAKE'\n",
      " 'THC' 'SCCO' 'HAS' 'APD' 'IFF' 'MTB' 'HSIC' 'ALKS' 'RL' 'JBHT' 'PSA'\n",
      " 'LAZ' 'BFb' 'ASB' 'ADSK' 'J' 'IAC' 'PNW' 'CLX' 'FSLR' 'INTU' 'AEM' 'PKI'\n",
      " 'VRTX' 'CME' 'AKAM' 'SSRM' 'BDX' 'CGNX' 'PDCO' 'SRE' 'FFIV' 'ASH' 'BIG'\n",
      " 'CHKP' 'DVA' 'APH' 'GOOGL' 'NTRS' 'AMKR' 'CIM' 'PXD' 'LNC' 'PNC' 'BMRN'\n",
      " 'KMB' 'ANF' 'DRI' 'MCK' 'BIIB' 'ACAD' 'KBH' 'SNV' 'ZBH' 'CDNS' 'EIX'\n",
      " 'ITW' 'EXPE' 'NUAN' 'CMI' 'OMC' 'LMT' 'WTRG' 'VTR' 'PRU' 'EMN' 'TDC'\n",
      " 'ROST' 'SYY' 'PAYX' 'TMO' 'AMT' 'OSK' 'OKE' 'RTN' 'ACN' 'NEE' 'AEE' 'DGX'\n",
      " 'AFL' 'HIG' 'CTXS' 'WELL' 'JBL' 'BAX' 'HUM' 'JWN' 'UNM' 'K' 'KSS' 'ZION'\n",
      " 'MCHP' 'HRB' 'CAH' 'ICE' 'RSG' 'ALXN' 'CI' 'BHC' 'COF' 'DDD' 'OI' 'HON'\n",
      " 'CF' 'AMGN' 'DE' 'DLTR' 'FISV' 'AMZN' 'NWSA' 'MMC' 'MTG' 'ETFC' 'TER'\n",
      " 'NXPI' 'HRL' 'UBSG' 'UNP' 'DXC' 'HDB' 'BRKb' 'KDP' 'NI' 'NRG' 'EQR' 'EA'\n",
      " 'DISH' 'SWK' 'PCAR' 'NWL' 'HOLX' 'BIDU' 'MAT' 'AMTD' 'BBBY' 'AXP' 'DFS'\n",
      " 'HD' 'GIS' 'FDX' 'LOW' 'HOG' 'CAT' 'MOS' 'BBY' 'EOG' 'LEN' 'MUR' 'LLY'\n",
      " 'CAG' 'ADM' 'SYK' 'GT' 'NTAP' 'FE' 'AIG' 'KIM' 'IBM' 'MDT' 'VIAV' 'CL'\n",
      " 'MET' 'IR' 'NSC' 'SO' 'CNP' 'PEP' 'IP' 'AES' 'FITB' 'CTSH' 'WMT' 'WY'\n",
      " 'TJX' 'VLO' 'WBA' 'YNDX' 'JBLU' 'TXT' 'TSN' 'TPR' 'WU' 'ABT' 'DISCK'\n",
      " 'JCI' 'ADP' 'UTX' 'TECK' 'FAST' 'IBN' 'PEAK' 'UNH' 'VFC' 'PPL' 'COP'\n",
      " 'NEM' 'UAA' 'ATVI' 'RMBS' 'MA' 'TXN' 'ANTM' 'CVX' 'JNPR' 'BEN' 'DD' 'CY'\n",
      " 'CHRW' 'CSX' 'USB' 'UAL' 'DISCA' 'SCHW' 'FLEX' 'MCD' 'LVS' 'MGM' 'DVN'\n",
      " 'MYL' 'PHM' 'IVZ' 'FTI' 'JNJ' 'ORCL' 'CVS' 'MO' 'AMAT' 'NVDA' 'LUV' 'OXY'\n",
      " 'EXC' 'HES' 'BSX' 'VIAC' 'DOW' 'GILD' 'COG' 'GM' 'TCOM' 'MRK' 'M' 'KEY'\n",
      " 'GOLD' 'HPQ' 'KHC' 'MS' 'HST' 'AMX' 'JPM' 'C' 'MPC' 'HAL' 'BMY' 'WMB'\n",
      " 'GLW' 'VZ' 'CSCO' 'PCG' 'MRO' 'TEVA' 'WFC' 'EBAY' 'CMCSA' 'PFE' 'LB' 'T'\n",
      " 'AMD']\n",
      "ticker\n",
      "AAPL     20231\n",
      "MSFT      8110\n",
      "BAC       7409\n",
      "AMZN      6330\n",
      "NWSA      5914\n",
      "         ...  \n",
      "ATLO         1\n",
      "CZNC         1\n",
      "CRMBQ        1\n",
      "CFNB         1\n",
      "CIZN         1\n",
      "Name: count, Length: 802, dtype: int64\n"
     ]
    }
   ],
   "source": [
    "print(news_df['ticker'].unique())\n",
    "print(news_df['ticker'].value_counts())\n"
   ],
   "metadata": {
    "collapsed": false,
    "ExecuteTime": {
     "end_time": "2024-09-26T10:50:13.699551800Z",
     "start_time": "2024-09-26T10:50:13.652890Z"
    }
   },
   "id": "9c6f474d790a4732"
  },
  {
   "cell_type": "code",
   "execution_count": 13,
   "outputs": [
    {
     "name": "stdout",
     "output_type": "stream",
     "text": [
      "Number of rows where the ticker occurs only once: 12\n"
     ]
    }
   ],
   "source": [
    "# Count the occurrences of each ticker\n",
    "ticker_counts = news_df['ticker'].value_counts()\n",
    "\n",
    "# Filter to keep only tickers that occur exactly once\n",
    "single_occurrence_tickers = ticker_counts[ticker_counts == 1].index\n",
    "\n",
    "# Count the number of rows in the DataFrame where the ticker occurs only once\n",
    "unique_ticker_count = news_df[news_df['ticker'].isin(single_occurrence_tickers)].shape[0]\n",
    "\n",
    "# Display the count\n",
    "print(f\"Number of rows where the ticker occurs only once: {unique_ticker_count}\")\n"
   ],
   "metadata": {
    "collapsed": false,
    "ExecuteTime": {
     "end_time": "2024-09-26T10:53:13.983834800Z",
     "start_time": "2024-09-26T10:53:13.921907100Z"
    }
   },
   "id": "ea997ccea8d1c3be"
  },
  {
   "cell_type": "code",
   "execution_count": 14,
   "outputs": [
    {
     "name": "stdout",
     "output_type": "stream",
     "text": [
      "Number of rows where the ticker occurs only once: 32\n"
     ]
    }
   ],
   "source": [
    "# Count the occurrences of each ticker\n",
    "ticker_counts = news_df['ticker'].value_counts()\n",
    "\n",
    "# Filter to keep only tickers that occur exactly once\n",
    "single_occurrence_tickers = ticker_counts[ticker_counts == 2].index\n",
    "\n",
    "# Count the number of rows in the DataFrame where the ticker occurs only once\n",
    "unique_ticker_count = news_df[news_df['ticker'].isin(single_occurrence_tickers)].shape[0]\n",
    "\n",
    "# Display the count\n",
    "print(f\"Number of rows where the ticker occurs only once: {unique_ticker_count}\")"
   ],
   "metadata": {
    "collapsed": false,
    "ExecuteTime": {
     "end_time": "2024-09-26T10:57:05.840864600Z",
     "start_time": "2024-09-26T10:57:05.792146300Z"
    }
   },
   "id": "6381b54df622f9e2"
  },
  {
   "cell_type": "code",
   "execution_count": 15,
   "outputs": [
    {
     "name": "stdout",
     "output_type": "stream",
     "text": [
      "Number of rows where the ticker occurs only once: 33\n"
     ]
    }
   ],
   "source": [
    "# Count the occurrences of each ticker\n",
    "ticker_counts = news_df['ticker'].value_counts()\n",
    "\n",
    "# Filter to keep only tickers that occur exactly once\n",
    "single_occurrence_tickers = ticker_counts[ticker_counts == 3].index\n",
    "\n",
    "# Count the number of rows in the DataFrame where the ticker occurs only once\n",
    "unique_ticker_count = news_df[news_df['ticker'].isin(single_occurrence_tickers)].shape[0]\n",
    "\n",
    "# Display the count\n",
    "print(f\"Number of rows where the ticker occurs only once: {unique_ticker_count}\")"
   ],
   "metadata": {
    "collapsed": false,
    "ExecuteTime": {
     "end_time": "2024-09-26T10:57:19.991070800Z",
     "start_time": "2024-09-26T10:57:19.963464500Z"
    }
   },
   "id": "e9b139e568e9412e"
  },
  {
   "cell_type": "code",
   "execution_count": 16,
   "outputs": [
    {
     "name": "stdout",
     "output_type": "stream",
     "text": [
      "Number of rows where the ticker occurs only once: 56\n"
     ]
    }
   ],
   "source": [
    "# Count the occurrences of each ticker\n",
    "ticker_counts = news_df['ticker'].value_counts()\n",
    "\n",
    "# Filter to keep only tickers that occur exactly once\n",
    "single_occurrence_tickers = ticker_counts[ticker_counts == 4].index\n",
    "\n",
    "# Count the number of rows in the DataFrame where the ticker occurs only once\n",
    "unique_ticker_count = news_df[news_df['ticker'].isin(single_occurrence_tickers)].shape[0]\n",
    "\n",
    "# Display the count\n",
    "print(f\"Number of rows where the ticker occurs only once: {unique_ticker_count}\")"
   ],
   "metadata": {
    "collapsed": false,
    "ExecuteTime": {
     "end_time": "2024-09-26T10:57:27.202053300Z",
     "start_time": "2024-09-26T10:57:27.170675300Z"
    }
   },
   "id": "5b6ac45da13e2053"
  },
  {
   "cell_type": "code",
   "execution_count": 30,
   "outputs": [
    {
     "name": "stdout",
     "output_type": "stream",
     "text": [
      "Number of unique tickers that occur between 1 and 10 times: 64\n",
      "Number of rows where the ticker occurs between 1 and 10 times: 188\n"
     ]
    }
   ],
   "source": [
    "# Count the occurrences of each ticker\n",
    "ticker_counts = news_df['ticker'].value_counts()\n",
    "\n",
    "# Filter to keep tickers that occur between 1 and 5 times\n",
    "range_occurrence_tickers = ticker_counts[ticker_counts.between(1, 5)].index\n",
    "\n",
    "# Display the number of unique tickers within the specified range\n",
    "unique_ticker_count = len(range_occurrence_tickers)\n",
    "print(f\"Number of unique tickers that occur between 1 and 10 times: {unique_ticker_count}\")\n",
    "\n",
    "# To get the number of rows in the DataFrame for these tickers:\n",
    "# Filter the rows in the DataFrame where the ticker count is between 1 and 5\n",
    "range_ticker_rows = news_df[news_df['ticker'].isin(range_occurrence_tickers)]\n",
    "\n",
    "# Display the count of rows where tickers occur within the specified range\n",
    "range_ticker_row_count = range_ticker_rows.shape[0]\n",
    "print(f\"Number of rows where the ticker occurs between 1 and 10 times: {range_ticker_row_count}\")\n"
   ],
   "metadata": {
    "collapsed": false,
    "ExecuteTime": {
     "end_time": "2024-09-26T11:17:35.745726Z",
     "start_time": "2024-09-26T11:17:35.717714Z"
    }
   },
   "id": "52f40fc88e49d187"
  },
  {
   "cell_type": "code",
   "execution_count": 24,
   "outputs": [
    {
     "name": "stdout",
     "output_type": "stream",
     "text": [
      "NVIDIA-Related Articles:\n",
      "       id ticker                                              title category  \\\n",
      "0  221515    NIO  Why Shares of Chinese Electric Car Maker NIO A...     news   \n",
      "1  221516    NIO  NIO only consumer gainer  Workhorse Group amon...     news   \n",
      "2  221517    NIO  NIO leads consumer gainers  Beyond Meat and Ma...     news   \n",
      "3  221518    NIO                  NIO  NVAX among premarket gainers     news   \n",
      "4  221519    NIO                  PLUG  NIO among premarket gainers     news   \n",
      "\n",
      "                                             content release_date  \\\n",
      "0  What s happening\\nShares of Chinese electric c...   2020-01-15   \n",
      "1  Gainers  NIO  NYSE NIO   7  \\nLosers  MGP Ingr...   2020-01-18   \n",
      "2  Gainers  NIO  NYSE NIO   14   Village Farms In...   2020-01-15   \n",
      "3  Cemtrex  NASDAQ CETX   85  after FY results \\n...   2020-01-15   \n",
      "4  aTyr Pharma  NASDAQ LIFE   63  on Kyorin Pharm...   2020-01-06   \n",
      "\n",
      "          provider                                                url  \\\n",
      "0  The Motley Fool                             https://invst.ly/pigqi   \n",
      "1    Seeking Alpha                             https://invst.ly/pje9c   \n",
      "2    Seeking Alpha                             https://invst.ly/pifmv   \n",
      "3    Seeking Alpha                             https://invst.ly/picu8   \n",
      "4    Seeking Alpha  https://seekingalpha.com/news/3529772-plug-nio...   \n",
      "\n",
      "   article_id  \n",
      "0     2060327  \n",
      "1     2062196  \n",
      "2     2060249  \n",
      "3     2060039  \n",
      "4     2053096  \n",
      "\n",
      "Total NVIDIA-related articles found: 209131\n"
     ]
    }
   ],
   "source": [
    "import pandas as pd\n",
    "\n",
    "# Sample keywords related to NVIDIA and associated companies\n",
    "nvidia_keywords = [\n",
    "    'NVDA', 'NVIDIA', 'NIO', 'UBER', 'AMZN', 'AMAZON', 'TESLA', 'AI', 'GPU', 'GRAPHICS',\n",
    "    'CHIP', 'SEMICONDUCTOR', 'AUTONOMOUS', 'DRIVING', 'AI', 'DEEP LEARNING', 'MACHINE LEARNING'\n",
    "]\n",
    "\n",
    "# Compile a regex pattern from the keywords list\n",
    "nvidia_pattern = '|'.join(nvidia_keywords)  # Combines the keywords into a regex pattern\n",
    "\n",
    "# Filter articles where the content or ticker column contains any of the keywords\n",
    "nvidia_related_articles = news_df[\n",
    "    news_df['content'].str.contains(nvidia_pattern, case=False, na=False) |\n",
    "    news_df['ticker'].str.contains(nvidia_pattern, case=False, na=False)\n",
    "]\n",
    "\n",
    "# Display the first few rows of the NVIDIA-related articles\n",
    "print(\"NVIDIA-Related Articles:\")\n",
    "print(nvidia_related_articles.head())\n",
    "\n",
    "# Display the count of NVIDIA-related articles\n",
    "print(f\"\\nTotal NVIDIA-related articles found: {nvidia_related_articles.shape[0]}\")\n"
   ],
   "metadata": {
    "collapsed": false,
    "ExecuteTime": {
     "end_time": "2024-09-26T11:11:22.029673400Z",
     "start_time": "2024-09-26T11:11:05.511440400Z"
    }
   },
   "id": "5ee7767b1cafd6dc"
  },
  {
   "cell_type": "code",
   "execution_count": 31,
   "outputs": [
    {
     "name": "stdout",
     "output_type": "stream",
     "text": [
      "\n",
      "Total NVIDIA-related articles found: 209131\n",
      "\n",
      "Filtered and Labeled Data:\n",
      "                                             content     Open    Close  \\\n",
      "0  What s happening\\nShares of Chinese electric c...  6.19475  6.13925   \n",
      "1  Gainers  NIO  NYSE NIO   14   Village Farms In...  6.19475  6.13925   \n",
      "2  Cemtrex  NASDAQ CETX   85  after FY results \\n...  6.19475  6.13925   \n",
      "3  aTyr Pharma  NASDAQ LIFE   63  on Kyorin Pharm...  5.80800  5.92650   \n",
      "4  Gainers  NIO  NYSE NIO   14   Meritor  NYSE MT...  5.77250  5.88250   \n",
      "\n",
      "        Date  target  \n",
      "0 2020-01-15       0  \n",
      "1 2020-01-15       0  \n",
      "2 2020-01-15       0  \n",
      "3 2020-01-06       1  \n",
      "4 2019-12-31       1  \n"
     ]
    },
    {
     "name": "stderr",
     "output_type": "stream",
     "text": [
      "C:\\Users\\georg\\AppData\\Local\\Temp\\ipykernel_55436\\3343991108.py:20: SettingWithCopyWarning: \n",
      "A value is trying to be set on a copy of a slice from a DataFrame.\n",
      "Try using .loc[row_indexer,col_indexer] = value instead\n",
      "\n",
      "See the caveats in the documentation: https://pandas.pydata.org/pandas-docs/stable/user_guide/indexing.html#returning-a-view-versus-a-copy\n",
      "  nvidia_related_articles['Date'] = pd.to_datetime(nvidia_related_articles['release_date'])\n",
      "C:\\Users\\georg\\AppData\\Local\\Temp\\ipykernel_55436\\3343991108.py:30: SettingWithCopyWarning: \n",
      "A value is trying to be set on a copy of a slice from a DataFrame.\n",
      "Try using .loc[row_indexer,col_indexer] = value instead\n",
      "\n",
      "See the caveats in the documentation: https://pandas.pydata.org/pandas-docs/stable/user_guide/indexing.html#returning-a-view-versus-a-copy\n",
      "  filtered_df['target'] = np.where(filtered_df['Open'] > filtered_df['Close'], 0, 1)\n"
     ]
    }
   ],
   "source": [
    "# Sample keywords related to NVIDIA and associated companies\n",
    "nvidia_keywords = [\n",
    "    'NVDA', 'NVIDIA', 'NIO', 'UBER', 'AMZN', 'AMAZON', 'TESLA', 'AI', 'GPU', 'GRAPHICS',\n",
    "    'CHIP', 'SEMICONDUCTOR', 'AUTONOMOUS', 'DRIVING', 'DEEP LEARNING', 'MACHINE LEARNING'\n",
    "]\n",
    "\n",
    "# Compile a regex pattern from the keywords list\n",
    "nvidia_pattern = '|'.join(nvidia_keywords)  # Combines the keywords into a regex pattern\n",
    "\n",
    "# Filter articles where the content or ticker column contains any of the keywords\n",
    "nvidia_related_articles = news_df[\n",
    "    news_df['content'].str.contains(nvidia_pattern, case=False, na=False) |\n",
    "    news_df['ticker'].str.contains(nvidia_pattern, case=False, na=False)\n",
    "]\n",
    "\n",
    "# Display the count of NVIDIA-related articles\n",
    "print(f\"\\nTotal NVIDIA-related articles found: {nvidia_related_articles.shape[0]}\")\n",
    "\n",
    "# Convert the date columns to datetime format for matching\n",
    "nvidia_related_articles['Date'] = pd.to_datetime(nvidia_related_articles['release_date'])\n",
    "stock_df['Date'] = pd.to_datetime(stock_df['Date'])\n",
    "\n",
    "# Merge filtered news data with stock prices based on publication date\n",
    "merged_df = pd.merge(nvidia_related_articles, stock_df, on='Date', how='inner')\n",
    "\n",
    "# Filter to keep only articles that have matching stock data\n",
    "filtered_df = merged_df[['content', 'Open', 'Close', 'Date']]\n",
    "\n",
    "# Label the target variable based on the opening and closing prices\n",
    "filtered_df['target'] = np.where(filtered_df['Open'] > filtered_df['Close'], 0, 1)\n",
    "\n",
    "# Display the first few rows to verify the merging and labeling\n",
    "print(\"\\nFiltered and Labeled Data:\")\n",
    "print(filtered_df.head())"
   ],
   "metadata": {
    "collapsed": false,
    "ExecuteTime": {
     "end_time": "2024-09-26T11:20:55.598979700Z",
     "start_time": "2024-09-26T11:20:27.633852800Z"
    }
   },
   "id": "829b707220db6591"
  },
  {
   "cell_type": "code",
   "execution_count": 8,
   "id": "cf96aec2fec049eb",
   "metadata": {
    "ExecuteTime": {
     "end_time": "2024-09-24T12:01:53.252627400Z",
     "start_time": "2024-09-24T12:01:46.705615800Z"
    }
   },
   "outputs": [
    {
     "name": "stdout",
     "output_type": "stream",
     "text": [
      "The number of articles is: 221513\n",
      "The average amount of words per article is: 593.3977148068059\n"
     ]
    }
   ],
   "source": [
    "# Basic descriptive statistics for the news dataset\n",
    "num_articles = news_df.shape[0]\n",
    "average_words_per_article = news_df['content'].apply(lambda x: len(str(x).split())).mean()\n",
    "print(f\"The number of articles is:\", num_articles)\n",
    "print(f\"The average amount of words per article is:\",average_words_per_article)\n"
   ]
  },
  {
   "cell_type": "code",
   "execution_count": 9,
   "id": "382fbb0142cc9b36",
   "metadata": {
    "ExecuteTime": {
     "end_time": "2024-09-24T12:02:00.663658400Z",
     "start_time": "2024-09-24T12:01:53.255251600Z"
    }
   },
   "outputs": [
    {
     "name": "stdout",
     "output_type": "stream",
     "text": [
      "\n",
      "Average text length of news articles: 593.40 words\n"
     ]
    }
   ],
   "source": [
    "# Text length analysis for news articles\n",
    "news_df['text_length'] = news_df['content'].apply(lambda x: len(str(x).split()))\n",
    "print(f\"\\nAverage text length of news articles: {average_words_per_article:.2f} words\")"
   ]
  },
  {
   "cell_type": "code",
   "execution_count": 10,
   "id": "d13028a0ff2daef",
   "metadata": {
    "ExecuteTime": {
     "end_time": "2024-09-24T12:10:11.936980600Z",
     "start_time": "2024-09-24T12:02:00.663658400Z"
    }
   },
   "outputs": [],
   "source": [
    "# Tokenize content for word frequency analysis\n",
    "# Using dataframe.series.apply is optimal for performance as per this stackoverflow article https://stackoverflow.com/questions/33098040/how-to-use-word-tokenize-in-data-frame \n",
    "\n",
    "news_df['processed_text'] = news_df['content'].apply(lambda x: word_tokenize(str(x).lower()))"
   ]
  },
  {
   "cell_type": "code",
   "execution_count": 11,
   "id": "a5a730e31ba4fc91",
   "metadata": {
    "ExecuteTime": {
     "end_time": "2024-09-24T12:12:20.961219900Z",
     "start_time": "2024-09-24T12:10:11.859088100Z"
    }
   },
   "outputs": [],
   "source": [
    "# Flatten the list of words for frequency analysis\n",
    "all_words = [word for content in news_df['processed_text'] for word in content if word.isalpha()]"
   ]
  },
  {
   "cell_type": "code",
   "execution_count": 12,
   "id": "615ea555cd285d61",
   "metadata": {
    "ExecuteTime": {
     "end_time": "2024-09-24T12:14:11.088703300Z",
     "start_time": "2024-09-24T12:12:21.145538400Z"
    }
   },
   "outputs": [],
   "source": [
    "\n",
    "# Remove stopwords and punctuation for better NLP insights\n",
    "stop_words = set(stopwords.words('english'))\n",
    "filtered_words = [word for word in all_words if word not in stop_words]"
   ]
  },
  {
   "cell_type": "code",
   "execution_count": 13,
   "id": "7b23ffefd19a03ad",
   "metadata": {
    "ExecuteTime": {
     "end_time": "2024-09-24T12:15:03.530481800Z",
     "start_time": "2024-09-24T12:15:03.478995400Z"
    }
   },
   "outputs": [
    {
     "name": "stdout",
     "output_type": "stream",
     "text": [
      "The number of unique words is : 261099\n",
      "The number of words is : 74339555\n",
      "The lexical richness is : 0.0035122486272617585\n"
     ]
    }
   ],
   "source": [
    "# Number of unique words and lexical richness\n",
    "unique_words = set(filtered_words)\n",
    "num_unique_words = len(unique_words)\n",
    "lexical_richness = num_unique_words / len(filtered_words)\n",
    "print(f\"The number of unique words is :\",num_unique_words)\n",
    "print(f\"The number of words is :\",len(filtered_words))\n",
    "print(f\"The lexical richness is :\",lexical_richness)"
   ]
  },
  {
   "cell_type": "code",
   "execution_count": 14,
   "id": "444f666eb6fd9420",
   "metadata": {
    "ExecuteTime": {
     "end_time": "2024-09-24T12:15:28.002566Z",
     "start_time": "2024-09-24T12:15:27.742532100Z"
    }
   },
   "outputs": [],
   "source": [
    "# Frequency analysis of the most common words\n",
    "word_freq = Counter(filtered_words)\n",
    "most_common_words = word_freq.most_common(50)\n"
   ]
  },
  {
   "cell_type": "code",
   "execution_count": 15,
   "id": "b27dd79ae7554953",
   "metadata": {
    "ExecuteTime": {
     "end_time": "2024-09-24T12:15:28.060007600Z",
     "start_time": "2024-09-24T12:15:28.004572500Z"
    }
   },
   "outputs": [
    {
     "name": "stdout",
     "output_type": "stream",
     "text": [
      "\n",
      "Top 50 most common words in the news articles (after stop word removal):\n",
      "[('year', 782698), ('company', 609020), ('zacks', 550140), ('earnings', 545103), ('quarter', 446426), ('million', 362236), ('market', 352341), ('nyse', 350763), ('said', 349662), ('stocks', 345264), ('growth', 340129), ('billion', 313879), ('stock', 309927), ('u', 306092), ('also', 297995), ('nasdaq', 283242), ('new', 258213), ('rank', 258053), ('last', 253648), ('inc', 252909), ('expected', 224482), ('per', 220201), ('estimate', 214955), ('investors', 213993), ('share', 206731), ('percent', 204289), ('sales', 202868), ('consensus', 201089), ('price', 197400), ('one', 194272), ('shares', 191346), ('buy', 174155), ('first', 173036), ('may', 170830), ('would', 170574), ('time', 170510), ('companies', 168683), ('p', 166933), ('revenues', 165225), ('see', 164647), ('higher', 161567), ('week', 160717), ('could', 156967), ('strong', 156882), ('industry', 151378), ('report', 147955), ('business', 145401), ('reported', 144157), ('average', 143069), ('investment', 142156)]\n"
     ]
    }
   ],
   "source": [
    "# Display the most common words in the news dataset\n",
    "print(\"\\nTop 50 most common words in the news articles (after stop word removal):\")\n",
    "print(most_common_words)"
   ]
  },
  {
   "cell_type": "code",
   "execution_count": 16,
   "id": "b1a147ab33e52057",
   "metadata": {
    "ExecuteTime": {
     "end_time": "2024-09-24T12:15:28.064096500Z",
     "start_time": "2024-09-24T12:15:28.040444Z"
    }
   },
   "outputs": [],
   "source": [
    "# Display the general statistics and most common words\n",
    "overview_stats = {\n",
    "    'Number of Articles': num_articles,\n",
    "    'Average Words per Article': average_words_per_article,\n",
    "    'Number of Unique Words': num_unique_words,\n",
    "    'Lexical Richness': lexical_richness\n",
    "}"
   ]
  },
  {
   "cell_type": "code",
   "execution_count": 17,
   "id": "ba2cc4922c13a19c",
   "metadata": {
    "ExecuteTime": {
     "end_time": "2024-09-24T12:15:48.221781500Z",
     "start_time": "2024-09-24T12:15:28.089056700Z"
    }
   },
   "outputs": [
    {
     "data": {
      "image/png": "[encoded data removed]",
      "text/plain": [
       "<Figure size 1000x600 with 1 Axes>"
      ]
     },
     "metadata": {},
     "output_type": "display_data"
    }
   ],
   "source": [
    "# Plot the frequency of the top 50 words\n",
    "plt.figure(figsize=(10, 6))\n",
    "plt.bar(*zip(*most_common_words))\n",
    "plt.title(\"Top 50 Most Common Words in News Articles\")\n",
    "plt.xlabel(\"Words\")\n",
    "plt.ylabel(\"Frequency\")\n",
    "plt.xticks(rotation=45)\n",
    "plt.show()\n"
   ]
  },
  {
   "cell_type": "code",
   "execution_count": 18,
   "id": "1ba5d886ce5de5a6",
   "metadata": {
    "ExecuteTime": {
     "end_time": "2024-09-24T12:15:50.018535Z",
     "start_time": "2024-09-24T12:15:48.222289Z"
    }
   },
   "outputs": [
    {
     "data": {
      "image/png": "[encoded data removed]",
      "text/plain": [
       "<Figure size 1000x600 with 1 Axes>"
      ]
     },
     "metadata": {},
     "output_type": "display_data"
    }
   ],
   "source": [
    "# Distribution of article lengths\n",
    "plt.figure(figsize=(10, 6))\n",
    "plt.hist(news_df['text_length'], bins=50, color='skyblue')\n",
    "plt.title('Distribution of Article Lengths')\n",
    "plt.xlabel('Number of Words')\n",
    "plt.ylabel('Frequency')\n",
    "plt.show()"
   ]
  },
  {
   "cell_type": "code",
   "execution_count": 19,
   "id": "7caf6530f43226d3",
   "metadata": {
    "ExecuteTime": {
     "end_time": "2024-09-24T12:15:50.230200300Z",
     "start_time": "2024-09-24T12:15:50.010886400Z"
    }
   },
   "outputs": [
    {
     "name": "stdout",
     "output_type": "stream",
     "text": [
      "\n",
      "Stock data date range:\n",
      "Start date: 1999-01-25\n",
      "End date: 2024-08-22\n"
     ]
    }
   ],
   "source": [
    "# Date range of the stock data\n",
    "print(\"\\nStock data date range:\")\n",
    "print(f\"Start date: {stock_df['Date'].min()}\")\n",
    "print(f\"End date: {stock_df['Date'].max()}\")"
   ]
  },
  {
   "cell_type": "code",
   "execution_count": 20,
   "id": "3fcce9acf3139df7",
   "metadata": {
    "ExecuteTime": {
     "end_time": "2024-09-24T12:15:50.557033900Z",
     "start_time": "2024-09-24T12:15:50.068290400Z"
    }
   },
   "outputs": [
    {
     "name": "stdout",
     "output_type": "stream",
     "text": [
      "\n",
      "Summary of Price Variance in Stock Data:\n",
      "count    6437.000000\n",
      "mean        0.251577\n",
      "std         0.781826\n",
      "min         0.000390\n",
      "25%         0.008917\n",
      "50%         0.017750\n",
      "75%         0.106500\n",
      "max        13.350006\n",
      "Name: Price_Variance, dtype: float64\n"
     ]
    }
   ],
   "source": [
    "\n",
    "# Check the variance in stock prices to see how it might relate to news\n",
    "stock_df['Price_Variance'] = stock_df['High'] - stock_df['Low']\n",
    "print(\"\\nSummary of Price Variance in Stock Data:\")\n",
    "print(stock_df['Price_Variance'].describe())"
   ]
  },
  {
   "cell_type": "code",
   "execution_count": null,
   "id": "5042856f4ae3d811",
   "metadata": {
    "ExecuteTime": {
     "start_time": "2024-09-24T12:39:24.322361500Z"
    }
   },
   "outputs": [],
   "source": [
    "news_df['filtered_text'] = news_df['processed_text'].apply(\n",
    "    lambda words: [word for word in words if word.isalpha() and word not in stop_words])"
   ]
  },
  {
   "cell_type": "code",
   "execution_count": null,
   "id": "8d49afc123a48ada",
   "metadata": {
    "ExecuteTime": {
     "start_time": "2024-09-24T12:39:24.325550Z"
    }
   },
   "outputs": [],
   "source": [
    "# Join the filtered words back into strings for TF-IDF\n",
    "news_df['filtered_text_str'] = news_df['filtered_text'].apply(lambda x: ' '.join(x))"
   ]
  },
  {
   "cell_type": "code",
   "execution_count": 21,
   "id": "4fa6c976a960d336",
   "metadata": {
    "ExecuteTime": {
     "end_time": "2024-09-24T12:39:24.313980900Z",
     "start_time": "2024-09-24T12:37:03.446177400Z"
    }
   },
   "outputs": [
    {
     "name": "stderr",
     "output_type": "stream",
     "text": [
      "Exception ignored in: Exception ignored in sys.unraisablehook: <built-in function unraisablehook>\n",
      "Traceback (most recent call last):\n",
      "  File \"C:\\Users\\georg\\PycharmProjects\\Stock-Movement-Prediction\\venv\\Lib\\site-packages\\ipykernel\\iostream.py\", line 694, in write\n",
      "    self._schedule_flush()\n",
      "  File \"C:\\Users\\georg\\PycharmProjects\\Stock-Movement-Prediction\\venv\\Lib\\site-packages\\ipykernel\\iostream.py\", line 590, in _schedule_flush\n",
      "    self.pub_thread.schedule(_schedule_in_thread)\n",
      "  File \"C:\\Users\\georg\\PycharmProjects\\Stock-Movement-Prediction\\venv\\Lib\\site-packages\\ipykernel\\iostream.py\", line 267, in schedule\n",
      "    self._event_pipe.send(b\"\")\n",
      "  File \"C:\\Users\\georg\\PycharmProjects\\Stock-Movement-Prediction\\venv\\Lib\\site-packages\\zmq\\sugar\\socket.py\", line 701, in send\n",
      "    return super().send(data, flags=flags, copy=copy, track=track)\n",
      "           ^^^^^^^^^^^^^^^^^^^^^^^^^^^^^^^^^^^^^^^^^^^^^^^^^^^^^^^\n",
      "  File \"_zmq.py\", line 1092, in zmq.backend.cython._zmq.Socket.send\n",
      "  File \"_zmq.py\", line 1140, in zmq.backend.cython._zmq.Socket.send\n",
      "  File \"_zmq.py\", line 1339, in zmq.backend.cython._zmq._send_copy\n",
      "  File \"_zmq.py\", line 160, in zmq.backend.cython._zmq._check_rc\n",
      "KeyboardInterrupt: \n"
     ]
    },
    {
     "ename": "KeyError",
     "evalue": "'filtered_text_str'",
     "output_type": "error",
     "traceback": [
      "\u001B[1;31m---------------------------------------------------------------------------\u001B[0m",
      "\u001B[1;31mKeyError\u001B[0m                                  Traceback (most recent call last)",
      "File \u001B[1;32m~\\PycharmProjects\\Stock-Movement-Prediction\\venv\\Lib\\site-packages\\pandas\\core\\indexes\\base.py:3805\u001B[0m, in \u001B[0;36mIndex.get_loc\u001B[1;34m(self, key)\u001B[0m\n\u001B[0;32m   3804\u001B[0m \u001B[38;5;28;01mtry\u001B[39;00m:\n\u001B[1;32m-> 3805\u001B[0m     \u001B[38;5;28;01mreturn\u001B[39;00m \u001B[38;5;28;43mself\u001B[39;49m\u001B[38;5;241;43m.\u001B[39;49m\u001B[43m_engine\u001B[49m\u001B[38;5;241;43m.\u001B[39;49m\u001B[43mget_loc\u001B[49m\u001B[43m(\u001B[49m\u001B[43mcasted_key\u001B[49m\u001B[43m)\u001B[49m\n\u001B[0;32m   3806\u001B[0m \u001B[38;5;28;01mexcept\u001B[39;00m \u001B[38;5;167;01mKeyError\u001B[39;00m \u001B[38;5;28;01mas\u001B[39;00m err:\n",
      "File \u001B[1;32mindex.pyx:167\u001B[0m, in \u001B[0;36mpandas._libs.index.IndexEngine.get_loc\u001B[1;34m()\u001B[0m\n",
      "File \u001B[1;32mindex.pyx:196\u001B[0m, in \u001B[0;36mpandas._libs.index.IndexEngine.get_loc\u001B[1;34m()\u001B[0m\n",
      "File \u001B[1;32mpandas\\\\_libs\\\\hashtable_class_helper.pxi:7081\u001B[0m, in \u001B[0;36mpandas._libs.hashtable.PyObjectHashTable.get_item\u001B[1;34m()\u001B[0m\n",
      "File \u001B[1;32mpandas\\\\_libs\\\\hashtable_class_helper.pxi:7089\u001B[0m, in \u001B[0;36mpandas._libs.hashtable.PyObjectHashTable.get_item\u001B[1;34m()\u001B[0m\n",
      "\u001B[1;31mKeyError\u001B[0m: 'filtered_text_str'",
      "\nThe above exception was the direct cause of the following exception:\n",
      "\u001B[1;31mKeyError\u001B[0m                                  Traceback (most recent call last)",
      "Cell \u001B[1;32mIn[21], line 3\u001B[0m\n\u001B[0;32m      1\u001B[0m \u001B[38;5;66;03m# TF-IDF Representation of Documents using the processed and filtered text\u001B[39;00m\n\u001B[0;32m      2\u001B[0m vectorizer \u001B[38;5;241m=\u001B[39m TfidfVectorizer(stop_words\u001B[38;5;241m=\u001B[39m\u001B[38;5;124m'\u001B[39m\u001B[38;5;124menglish\u001B[39m\u001B[38;5;124m'\u001B[39m, max_features\u001B[38;5;241m=\u001B[39m\u001B[38;5;241m1000\u001B[39m)\n\u001B[1;32m----> 3\u001B[0m tfidf_matrix \u001B[38;5;241m=\u001B[39m vectorizer\u001B[38;5;241m.\u001B[39mfit_transform(\u001B[43mnews_df\u001B[49m\u001B[43m[\u001B[49m\u001B[38;5;124;43m'\u001B[39;49m\u001B[38;5;124;43mfiltered_text_str\u001B[39;49m\u001B[38;5;124;43m'\u001B[39;49m\u001B[43m]\u001B[49m)\n",
      "File \u001B[1;32m~\\PycharmProjects\\Stock-Movement-Prediction\\venv\\Lib\\site-packages\\pandas\\core\\frame.py:4102\u001B[0m, in \u001B[0;36mDataFrame.__getitem__\u001B[1;34m(self, key)\u001B[0m\n\u001B[0;32m   4100\u001B[0m \u001B[38;5;28;01mif\u001B[39;00m \u001B[38;5;28mself\u001B[39m\u001B[38;5;241m.\u001B[39mcolumns\u001B[38;5;241m.\u001B[39mnlevels \u001B[38;5;241m>\u001B[39m \u001B[38;5;241m1\u001B[39m:\n\u001B[0;32m   4101\u001B[0m     \u001B[38;5;28;01mreturn\u001B[39;00m \u001B[38;5;28mself\u001B[39m\u001B[38;5;241m.\u001B[39m_getitem_multilevel(key)\n\u001B[1;32m-> 4102\u001B[0m indexer \u001B[38;5;241m=\u001B[39m \u001B[38;5;28;43mself\u001B[39;49m\u001B[38;5;241;43m.\u001B[39;49m\u001B[43mcolumns\u001B[49m\u001B[38;5;241;43m.\u001B[39;49m\u001B[43mget_loc\u001B[49m\u001B[43m(\u001B[49m\u001B[43mkey\u001B[49m\u001B[43m)\u001B[49m\n\u001B[0;32m   4103\u001B[0m \u001B[38;5;28;01mif\u001B[39;00m is_integer(indexer):\n\u001B[0;32m   4104\u001B[0m     indexer \u001B[38;5;241m=\u001B[39m [indexer]\n",
      "File \u001B[1;32m~\\PycharmProjects\\Stock-Movement-Prediction\\venv\\Lib\\site-packages\\pandas\\core\\indexes\\base.py:3812\u001B[0m, in \u001B[0;36mIndex.get_loc\u001B[1;34m(self, key)\u001B[0m\n\u001B[0;32m   3807\u001B[0m     \u001B[38;5;28;01mif\u001B[39;00m \u001B[38;5;28misinstance\u001B[39m(casted_key, \u001B[38;5;28mslice\u001B[39m) \u001B[38;5;129;01mor\u001B[39;00m (\n\u001B[0;32m   3808\u001B[0m         \u001B[38;5;28misinstance\u001B[39m(casted_key, abc\u001B[38;5;241m.\u001B[39mIterable)\n\u001B[0;32m   3809\u001B[0m         \u001B[38;5;129;01mand\u001B[39;00m \u001B[38;5;28many\u001B[39m(\u001B[38;5;28misinstance\u001B[39m(x, \u001B[38;5;28mslice\u001B[39m) \u001B[38;5;28;01mfor\u001B[39;00m x \u001B[38;5;129;01min\u001B[39;00m casted_key)\n\u001B[0;32m   3810\u001B[0m     ):\n\u001B[0;32m   3811\u001B[0m         \u001B[38;5;28;01mraise\u001B[39;00m InvalidIndexError(key)\n\u001B[1;32m-> 3812\u001B[0m     \u001B[38;5;28;01mraise\u001B[39;00m \u001B[38;5;167;01mKeyError\u001B[39;00m(key) \u001B[38;5;28;01mfrom\u001B[39;00m \u001B[38;5;21;01merr\u001B[39;00m\n\u001B[0;32m   3813\u001B[0m \u001B[38;5;28;01mexcept\u001B[39;00m \u001B[38;5;167;01mTypeError\u001B[39;00m:\n\u001B[0;32m   3814\u001B[0m     \u001B[38;5;66;03m# If we have a listlike key, _check_indexing_error will raise\u001B[39;00m\n\u001B[0;32m   3815\u001B[0m     \u001B[38;5;66;03m#  InvalidIndexError. Otherwise we fall through and re-raise\u001B[39;00m\n\u001B[0;32m   3816\u001B[0m     \u001B[38;5;66;03m#  the TypeError.\u001B[39;00m\n\u001B[0;32m   3817\u001B[0m     \u001B[38;5;28mself\u001B[39m\u001B[38;5;241m.\u001B[39m_check_indexing_error(key)\n",
      "\u001B[1;31mKeyError\u001B[0m: 'filtered_text_str'"
     ]
    }
   ],
   "source": [
    "# TF-IDF Representation of Documents using the processed and filtered text\n",
    "vectorizer = TfidfVectorizer(stop_words='english', max_features=1000)\n",
    "tfidf_matrix = vectorizer.fit_transform(news_df['filtered_text_str'])"
   ]
  },
  {
   "cell_type": "code",
   "execution_count": null,
   "id": "39f8b50f53ab5b08",
   "metadata": {
    "ExecuteTime": {
     "start_time": "2024-09-24T11:52:28.801940800Z"
    }
   },
   "outputs": [],
   "source": [
    "# TF-IDF Representation of Documents \n",
    "\n",
    "#Convert a collection of raw documents to a matrix of TF-IDF features. https://scikit-learn.org/stable/modules/generated/sklearn.feature_extraction.text.TfidfVectorizer.html\n",
    "\n",
    "vectorizer = TfidfVectorizer(stop_words='english', max_features=1000)\n",
    "tfidf_matrix = vectorizer.fit_transform(news_df['content'].dropna())\n",
    "\n",
    "# Compute cosine similarity matrix\n",
    "similarity_matrix = cosine_similarity(tfidf_matrix)\n",
    "\n",
    "# Convert similarity matrix to a DataFrame for easier handling\n",
    "similarity_df = pd.DataFrame(similarity_matrix)\n"
   ]
  },
  {
   "cell_type": "code",
   "execution_count": null,
   "id": "b0c02aea4fc8bfb1",
   "metadata": {},
   "outputs": [],
   "source": [
    "# Find indices of the most and least similar documents (excluding self-similarity)\n",
    "np.fill_diagonal(similarity_matrix, 0)\n",
    "most_similar_indices = np.unravel_index(np.argmax(similarity_matrix, axis=None), similarity_matrix.shape)\n",
    "least_similar_indices = np.unravel_index(np.argmin(similarity_matrix, axis=None), similarity_matrix.shape)"
   ]
  },
  {
   "cell_type": "code",
   "execution_count": null,
   "id": "70d0a26c2917f7ba",
   "metadata": {},
   "outputs": [],
   "source": []
  }
 ],
 "metadata": {
  "kernelspec": {
   "display_name": "Python 3 (ipykernel)",
   "language": "python",
   "name": "python3"
  },
  "language_info": {
   "codemirror_mode": {
    "name": "ipython",
    "version": 3
   },
   "file_extension": ".py",
   "mimetype": "text/x-python",
   "name": "python",
   "nbconvert_exporter": "python",
   "pygments_lexer": "ipython3",
   "version": "3.11.5"
  }
 },
 "nbformat": 4,
 "nbformat_minor": 5
}
