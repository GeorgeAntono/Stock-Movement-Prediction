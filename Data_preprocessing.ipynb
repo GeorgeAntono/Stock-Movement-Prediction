{
 "cells": [
  {
   "cell_type": "code",
   "execution_count": 29,
   "id": "5684e2cad884fe39",
   "metadata": {
    "collapsed": true,
    "ExecuteTime": {
     "end_time": "2024-09-25T14:58:48.316467400Z",
     "start_time": "2024-09-25T14:58:48.226197400Z"
    }
   },
   "outputs": [],
   "source": [
    "import pandas as pd\n",
    "import string\n",
    "import numpy as np\n",
    "import nltk\n",
    "from nltk.corpus import stopwords\n",
    "from nltk.tokenize import word_tokenize\n",
    "from collections import Counter\n",
    "import matplotlib.pyplot as plt\n",
    "from sklearn.feature_extraction.text import TfidfVectorizer\n",
    "from sklearn.linear_model import LogisticRegression\n",
    "from sklearn.metrics.pairwise import cosine_similarity\n",
    "from sklearn.feature_selection import chi2"
   ]
  },
  {
   "cell_type": "code",
   "execution_count": 2,
   "outputs": [
    {
     "name": "stderr",
     "output_type": "stream",
     "text": [
      "[nltk_data] Downloading package stopwords to\n",
      "[nltk_data]     C:\\Users\\georg\\AppData\\Roaming\\nltk_data...\n",
      "[nltk_data]   Package stopwords is already up-to-date!\n",
      "[nltk_data] Downloading package punkt to\n",
      "[nltk_data]     C:\\Users\\georg\\AppData\\Roaming\\nltk_data...\n",
      "[nltk_data]   Package punkt is already up-to-date!\n"
     ]
    },
    {
     "data": {
      "text/plain": "True"
     },
     "execution_count": 2,
     "metadata": {},
     "output_type": "execute_result"
    }
   ],
   "source": [
    "\n",
    "# Ensure NLTK data is downloaded\n",
    "nltk.download('stopwords')\n",
    "nltk.download('punkt')"
   ],
   "metadata": {
    "collapsed": false,
    "ExecuteTime": {
     "end_time": "2024-09-24T12:53:35.380872Z",
     "start_time": "2024-09-24T12:53:35.052478700Z"
    }
   },
   "id": "a7f3b881032d4266"
  },
  {
   "cell_type": "code",
   "execution_count": 3,
   "outputs": [],
   "source": [
    "\n",
    "# Load the datasets\n",
    "news_df = pd.read_csv('./data/us_equities_news_dataset.csv')\n",
    "stock_df = pd.read_csv('./data/NVDA.csv')"
   ],
   "metadata": {
    "collapsed": false,
    "ExecuteTime": {
     "end_time": "2024-09-24T12:53:43.221294300Z",
     "start_time": "2024-09-24T12:53:35.377494700Z"
    }
   },
   "id": "b47c3c5036ef252c"
  },
  {
   "cell_type": "code",
   "execution_count": 4,
   "outputs": [
    {
     "name": "stdout",
     "output_type": "stream",
     "text": [
      "\n",
      "Filtered and Labeled Data:\n",
      "                                             content     Open    Close  \\\n",
      "0  What s happening\\nShares of Chinese electric c...  6.19475  6.13925   \n",
      "1  Gainers  NIO  NYSE NIO   14   Village Farms In...  6.19475  6.13925   \n",
      "2  Cemtrex  NASDAQ CETX   85  after FY results \\n...  6.19475  6.13925   \n",
      "3  aTyr Pharma  NASDAQ LIFE   63  on Kyorin Pharm...  5.80800  5.92650   \n",
      "4  Gainers  NIO  NYSE NIO   14   Meritor  NYSE MT...  5.77250  5.88250   \n",
      "\n",
      "        Date  target  \n",
      "0 2020-01-15       0  \n",
      "1 2020-01-15       0  \n",
      "2 2020-01-15       0  \n",
      "3 2020-01-06       1  \n",
      "4 2019-12-31       1  \n"
     ]
    },
    {
     "name": "stderr",
     "output_type": "stream",
     "text": [
      "C:\\Users\\georg\\AppData\\Local\\Temp\\ipykernel_23280\\260194063.py:12: SettingWithCopyWarning: \n",
      "A value is trying to be set on a copy of a slice from a DataFrame.\n",
      "Try using .loc[row_indexer,col_indexer] = value instead\n",
      "\n",
      "See the caveats in the documentation: https://pandas.pydata.org/pandas-docs/stable/user_guide/indexing.html#returning-a-view-versus-a-copy\n",
      "  filtered_df['target'] = np.where(filtered_df['Open'] > filtered_df['Close'], 0, 1)\n"
     ]
    }
   ],
   "source": [
    "\n",
    "# Convert the date columns to datetime format for matching\n",
    "news_df['Date'] = pd.to_datetime(news_df['release_date'])\n",
    "stock_df['Date'] = pd.to_datetime(stock_df['Date'])\n",
    "\n",
    "# Merge news data with stock prices based on publication date\n",
    "merged_df = pd.merge(news_df, stock_df, on='Date', how='inner')\n",
    "\n",
    "# Filter to keep only articles that have matching stock data\n",
    "filtered_df = merged_df[['content', 'Open', 'Close', 'Date']]\n",
    "\n",
    "# Label the target variable based on the opening and closing prices\n",
    "filtered_df['target'] = np.where(filtered_df['Open'] > filtered_df['Close'], 0, 1)\n",
    "\n",
    "# Display the first few rows to verify the merging and labeling\n",
    "print(\"\\nFiltered and Labeled Data:\")\n",
    "print(filtered_df.head())"
   ],
   "metadata": {
    "collapsed": false,
    "ExecuteTime": {
     "end_time": "2024-09-24T12:53:43.347605800Z",
     "start_time": "2024-09-24T12:53:43.201149400Z"
    }
   },
   "id": "ceda3ef162e35ec7"
  },
  {
   "cell_type": "code",
   "execution_count": null,
   "outputs": [],
   "source": [],
   "metadata": {
    "collapsed": false
   },
   "id": "f3897c97beb5719"
  },
  {
   "cell_type": "code",
   "execution_count": 5,
   "outputs": [
    {
     "name": "stdout",
     "output_type": "stream",
     "text": [
      "The number of articles is: 197393\n",
      "The average amount of words per article is: 579.1646714929101\n"
     ]
    }
   ],
   "source": [
    "\n",
    "# Proceed with the rest of your analysis using filtered_df\n",
    "# Basic descriptive statistics for the news dataset\n",
    "num_articles = filtered_df.shape[0]\n",
    "average_words_per_article = filtered_df['content'].apply(lambda x: len(str(x).split())).mean()\n",
    "print(f\"The number of articles is: {num_articles}\")\n",
    "print(f\"The average amount of words per article is: {average_words_per_article}\")"
   ],
   "metadata": {
    "collapsed": false,
    "ExecuteTime": {
     "end_time": "2024-09-24T12:53:47.661213600Z",
     "start_time": "2024-09-24T12:53:43.350082800Z"
    }
   },
   "id": "7b6b6923ce3e9dda"
  },
  {
   "cell_type": "code",
   "execution_count": 6,
   "outputs": [
    {
     "name": "stderr",
     "output_type": "stream",
     "text": [
      "C:\\Users\\georg\\AppData\\Local\\Temp\\ipykernel_23280\\2432952274.py:2: SettingWithCopyWarning: \n",
      "A value is trying to be set on a copy of a slice from a DataFrame.\n",
      "Try using .loc[row_indexer,col_indexer] = value instead\n",
      "\n",
      "See the caveats in the documentation: https://pandas.pydata.org/pandas-docs/stable/user_guide/indexing.html#returning-a-view-versus-a-copy\n",
      "  filtered_df['processed_text'] = filtered_df['content'].apply(lambda x: word_tokenize(str(x).lower()))\n"
     ]
    }
   ],
   "source": [
    "\n",
    "# Tokenize content for word frequency analysis\n",
    "filtered_df.loc[:, 'text_length'] = filtered_df['content'].apply(lambda x: len(str(x).split()))"
   ],
   "metadata": {
    "collapsed": false,
    "ExecuteTime": {
     "end_time": "2024-09-24T12:58:53.981131600Z",
     "start_time": "2024-09-24T12:53:47.661213600Z"
    }
   },
   "id": "7402bb4250be5452"
  },
  {
   "cell_type": "code",
   "execution_count": 7,
   "outputs": [
    {
     "name": "stderr",
     "output_type": "stream",
     "text": [
      "C:\\Users\\georg\\AppData\\Local\\Temp\\ipykernel_23280\\3475452813.py:3: SettingWithCopyWarning: \n",
      "A value is trying to be set on a copy of a slice from a DataFrame.\n",
      "Try using .loc[row_indexer,col_indexer] = value instead\n",
      "\n",
      "See the caveats in the documentation: https://pandas.pydata.org/pandas-docs/stable/user_guide/indexing.html#returning-a-view-versus-a-copy\n",
      "  filtered_df['filtered_text'] = filtered_df['processed_text'].apply(\n"
     ]
    }
   ],
   "source": [
    "# Remove stopwords and punctuation for better NLP insights\n",
    "stop_words = set(stopwords.words('english'))\n",
    "filtered_df.loc[:, 'filtered_text'] = filtered_df['processed_text'].apply(\n",
    "    lambda words: [word for word in words if word.isalpha() and word not in stop_words])"
   ],
   "metadata": {
    "collapsed": false,
    "ExecuteTime": {
     "end_time": "2024-09-24T13:03:32.206902200Z",
     "start_time": "2024-09-24T12:58:54.030924500Z"
    }
   },
   "id": "97b3c4aa37604eb1"
  },
  {
   "cell_type": "code",
   "execution_count": 8,
   "outputs": [
    {
     "name": "stderr",
     "output_type": "stream",
     "text": [
      "C:\\Users\\georg\\AppData\\Local\\Temp\\ipykernel_23280\\1618671758.py:2: SettingWithCopyWarning: \n",
      "A value is trying to be set on a copy of a slice from a DataFrame.\n",
      "Try using .loc[row_indexer,col_indexer] = value instead\n",
      "\n",
      "See the caveats in the documentation: https://pandas.pydata.org/pandas-docs/stable/user_guide/indexing.html#returning-a-view-versus-a-copy\n",
      "  filtered_df['filtered_text_str'] = filtered_df['filtered_text'].apply(lambda x: ' '.join(x))\n"
     ]
    }
   ],
   "source": [
    "\n",
    "# Join the filtered words back into strings for TF-IDF\n",
    "filtered_df.loc[:, 'filtered_text_str'] = filtered_df['filtered_text'].apply(lambda x: ' '.join(x))"
   ],
   "metadata": {
    "collapsed": false,
    "ExecuteTime": {
     "end_time": "2024-09-24T13:03:34.256744600Z",
     "start_time": "2024-09-24T13:03:32.187189700Z"
    }
   },
   "id": "66b44f28da8c3907"
  },
  {
   "cell_type": "code",
   "execution_count": 9,
   "outputs": [
    {
     "name": "stdout",
     "output_type": "stream",
     "text": [
      "\n",
      "Top 50 most common words in the news articles (after stop word removal):\n",
      "[('year', 690321), ('company', 528034), ('zacks', 467746), ('earnings', 465774), ('quarter', 391328), ('million', 326965), ('said', 320598), ('nyse', 305298), ('market', 300428), ('stocks', 293614), ('growth', 292174), ('billion', 280832), ('u', 274978), ('stock', 266056), ('also', 260139), ('nasdaq', 250140), ('new', 227672), ('inc', 222843), ('rank', 217936), ('last', 217261), ('expected', 195749), ('per', 194272), ('percent', 189412), ('investors', 185476), ('estimate', 184859), ('share', 183860), ('sales', 179224), ('consensus', 174616), ('shares', 173841), ('price', 168608), ('one', 166523), ('would', 150963), ('first', 149964), ('buy', 147672), ('companies', 146162), ('revenues', 146124), ('time', 145588), ('may', 144504), ('p', 142066), ('higher', 141780), ('see', 139816), ('could', 138099), ('strong', 135474), ('industry', 132372), ('business', 128143), ('report', 127785), ('week', 126720), ('reported', 125789), ('average', 123065), ('investment', 119823)]\n"
     ]
    }
   ],
   "source": [
    "\n",
    "# Frequency analysis of the most common words\n",
    "all_words = [word for content in filtered_df['filtered_text'] for word in content]\n",
    "word_freq = Counter(all_words)\n",
    "most_common_words = word_freq.most_common(50)\n",
    "\n",
    "# Display the most common words in the news dataset\n",
    "print(\"\\nTop 50 most common words in the news articles (after stop word removal):\")\n",
    "print(most_common_words)"
   ],
   "metadata": {
    "collapsed": false,
    "ExecuteTime": {
     "end_time": "2024-09-24T13:03:53.441820200Z",
     "start_time": "2024-09-24T13:03:34.250223600Z"
    }
   },
   "id": "5f19f39bc42742c2"
  },
  {
   "cell_type": "code",
   "execution_count": 11,
   "outputs": [],
   "source": [
    "# TF-IDF Representation of Documents using the processed and filtered text\n",
    "vectorizer = TfidfVectorizer(stop_words='english', max_features=500)  # Reduced max features\n",
    "tfidf_matrix = vectorizer.fit_transform(filtered_df['filtered_text_str'])"
   ],
   "metadata": {
    "collapsed": false,
    "ExecuteTime": {
     "end_time": "2024-09-24T20:21:55.398192800Z",
     "start_time": "2024-09-24T20:20:53.487277200Z"
    }
   },
   "id": "39c97be83f5a150b"
  },
  {
   "cell_type": "code",
   "execution_count": 30,
   "outputs": [
    {
     "data": {
      "text/plain": "LogisticRegression(max_iter=1000)",
      "text/html": "<style>#sk-container-id-1 {\n  /* Definition of color scheme common for light and dark mode */\n  --sklearn-color-text: black;\n  --sklearn-color-line: gray;\n  /* Definition of color scheme for unfitted estimators */\n  --sklearn-color-unfitted-level-0: #fff5e6;\n  --sklearn-color-unfitted-level-1: #f6e4d2;\n  --sklearn-color-unfitted-level-2: #ffe0b3;\n  --sklearn-color-unfitted-level-3: chocolate;\n  /* Definition of color scheme for fitted estimators */\n  --sklearn-color-fitted-level-0: #f0f8ff;\n  --sklearn-color-fitted-level-1: #d4ebff;\n  --sklearn-color-fitted-level-2: #b3dbfd;\n  --sklearn-color-fitted-level-3: cornflowerblue;\n\n  /* Specific color for light theme */\n  --sklearn-color-text-on-default-background: var(--sg-text-color, var(--theme-code-foreground, var(--jp-content-font-color1, black)));\n  --sklearn-color-background: var(--sg-background-color, var(--theme-background, var(--jp-layout-color0, white)));\n  --sklearn-color-border-box: var(--sg-text-color, var(--theme-code-foreground, var(--jp-content-font-color1, black)));\n  --sklearn-color-icon: #696969;\n\n  @media (prefers-color-scheme: dark) {\n    /* Redefinition of color scheme for dark theme */\n    --sklearn-color-text-on-default-background: var(--sg-text-color, var(--theme-code-foreground, var(--jp-content-font-color1, white)));\n    --sklearn-color-background: var(--sg-background-color, var(--theme-background, var(--jp-layout-color0, #111)));\n    --sklearn-color-border-box: var(--sg-text-color, var(--theme-code-foreground, var(--jp-content-font-color1, white)));\n    --sklearn-color-icon: #878787;\n  }\n}\n\n#sk-container-id-1 {\n  color: var(--sklearn-color-text);\n}\n\n#sk-container-id-1 pre {\n  padding: 0;\n}\n\n#sk-container-id-1 input.sk-hidden--visually {\n  border: 0;\n  clip: rect(1px 1px 1px 1px);\n  clip: rect(1px, 1px, 1px, 1px);\n  height: 1px;\n  margin: -1px;\n  overflow: hidden;\n  padding: 0;\n  position: absolute;\n  width: 1px;\n}\n\n#sk-container-id-1 div.sk-dashed-wrapped {\n  border: 1px dashed var(--sklearn-color-line);\n  margin: 0 0.4em 0.5em 0.4em;\n  box-sizing: border-box;\n  padding-bottom: 0.4em;\n  background-color: var(--sklearn-color-background);\n}\n\n#sk-container-id-1 div.sk-container {\n  /* jupyter's `normalize.less` sets `[hidden] { display: none; }`\n     but bootstrap.min.css set `[hidden] { display: none !important; }`\n     so we also need the `!important` here to be able to override the\n     default hidden behavior on the sphinx rendered scikit-learn.org.\n     See: https://github.com/scikit-learn/scikit-learn/issues/21755 */\n  display: inline-block !important;\n  position: relative;\n}\n\n#sk-container-id-1 div.sk-text-repr-fallback {\n  display: none;\n}\n\ndiv.sk-parallel-item,\ndiv.sk-serial,\ndiv.sk-item {\n  /* draw centered vertical line to link estimators */\n  background-image: linear-gradient(var(--sklearn-color-text-on-default-background), var(--sklearn-color-text-on-default-background));\n  background-size: 2px 100%;\n  background-repeat: no-repeat;\n  background-position: center center;\n}\n\n/* Parallel-specific style estimator block */\n\n#sk-container-id-1 div.sk-parallel-item::after {\n  content: \"\";\n  width: 100%;\n  border-bottom: 2px solid var(--sklearn-color-text-on-default-background);\n  flex-grow: 1;\n}\n\n#sk-container-id-1 div.sk-parallel {\n  display: flex;\n  align-items: stretch;\n  justify-content: center;\n  background-color: var(--sklearn-color-background);\n  position: relative;\n}\n\n#sk-container-id-1 div.sk-parallel-item {\n  display: flex;\n  flex-direction: column;\n}\n\n#sk-container-id-1 div.sk-parallel-item:first-child::after {\n  align-self: flex-end;\n  width: 50%;\n}\n\n#sk-container-id-1 div.sk-parallel-item:last-child::after {\n  align-self: flex-start;\n  width: 50%;\n}\n\n#sk-container-id-1 div.sk-parallel-item:only-child::after {\n  width: 0;\n}\n\n/* Serial-specific style estimator block */\n\n#sk-container-id-1 div.sk-serial {\n  display: flex;\n  flex-direction: column;\n  align-items: center;\n  background-color: var(--sklearn-color-background);\n  padding-right: 1em;\n  padding-left: 1em;\n}\n\n\n/* Toggleable style: style used for estimator/Pipeline/ColumnTransformer box that is\nclickable and can be expanded/collapsed.\n- Pipeline and ColumnTransformer use this feature and define the default style\n- Estimators will overwrite some part of the style using the `sk-estimator` class\n*/\n\n/* Pipeline and ColumnTransformer style (default) */\n\n#sk-container-id-1 div.sk-toggleable {\n  /* Default theme specific background. It is overwritten whether we have a\n  specific estimator or a Pipeline/ColumnTransformer */\n  background-color: var(--sklearn-color-background);\n}\n\n/* Toggleable label */\n#sk-container-id-1 label.sk-toggleable__label {\n  cursor: pointer;\n  display: block;\n  width: 100%;\n  margin-bottom: 0;\n  padding: 0.5em;\n  box-sizing: border-box;\n  text-align: center;\n}\n\n#sk-container-id-1 label.sk-toggleable__label-arrow:before {\n  /* Arrow on the left of the label */\n  content: \"▸\";\n  float: left;\n  margin-right: 0.25em;\n  color: var(--sklearn-color-icon);\n}\n\n#sk-container-id-1 label.sk-toggleable__label-arrow:hover:before {\n  color: var(--sklearn-color-text);\n}\n\n/* Toggleable content - dropdown */\n\n#sk-container-id-1 div.sk-toggleable__content {\n  max-height: 0;\n  max-width: 0;\n  overflow: hidden;\n  text-align: left;\n  /* unfitted */\n  background-color: var(--sklearn-color-unfitted-level-0);\n}\n\n#sk-container-id-1 div.sk-toggleable__content.fitted {\n  /* fitted */\n  background-color: var(--sklearn-color-fitted-level-0);\n}\n\n#sk-container-id-1 div.sk-toggleable__content pre {\n  margin: 0.2em;\n  border-radius: 0.25em;\n  color: var(--sklearn-color-text);\n  /* unfitted */\n  background-color: var(--sklearn-color-unfitted-level-0);\n}\n\n#sk-container-id-1 div.sk-toggleable__content.fitted pre {\n  /* unfitted */\n  background-color: var(--sklearn-color-fitted-level-0);\n}\n\n#sk-container-id-1 input.sk-toggleable__control:checked~div.sk-toggleable__content {\n  /* Expand drop-down */\n  max-height: 200px;\n  max-width: 100%;\n  overflow: auto;\n}\n\n#sk-container-id-1 input.sk-toggleable__control:checked~label.sk-toggleable__label-arrow:before {\n  content: \"▾\";\n}\n\n/* Pipeline/ColumnTransformer-specific style */\n\n#sk-container-id-1 div.sk-label input.sk-toggleable__control:checked~label.sk-toggleable__label {\n  color: var(--sklearn-color-text);\n  background-color: var(--sklearn-color-unfitted-level-2);\n}\n\n#sk-container-id-1 div.sk-label.fitted input.sk-toggleable__control:checked~label.sk-toggleable__label {\n  background-color: var(--sklearn-color-fitted-level-2);\n}\n\n/* Estimator-specific style */\n\n/* Colorize estimator box */\n#sk-container-id-1 div.sk-estimator input.sk-toggleable__control:checked~label.sk-toggleable__label {\n  /* unfitted */\n  background-color: var(--sklearn-color-unfitted-level-2);\n}\n\n#sk-container-id-1 div.sk-estimator.fitted input.sk-toggleable__control:checked~label.sk-toggleable__label {\n  /* fitted */\n  background-color: var(--sklearn-color-fitted-level-2);\n}\n\n#sk-container-id-1 div.sk-label label.sk-toggleable__label,\n#sk-container-id-1 div.sk-label label {\n  /* The background is the default theme color */\n  color: var(--sklearn-color-text-on-default-background);\n}\n\n/* On hover, darken the color of the background */\n#sk-container-id-1 div.sk-label:hover label.sk-toggleable__label {\n  color: var(--sklearn-color-text);\n  background-color: var(--sklearn-color-unfitted-level-2);\n}\n\n/* Label box, darken color on hover, fitted */\n#sk-container-id-1 div.sk-label.fitted:hover label.sk-toggleable__label.fitted {\n  color: var(--sklearn-color-text);\n  background-color: var(--sklearn-color-fitted-level-2);\n}\n\n/* Estimator label */\n\n#sk-container-id-1 div.sk-label label {\n  font-family: monospace;\n  font-weight: bold;\n  display: inline-block;\n  line-height: 1.2em;\n}\n\n#sk-container-id-1 div.sk-label-container {\n  text-align: center;\n}\n\n/* Estimator-specific */\n#sk-container-id-1 div.sk-estimator {\n  font-family: monospace;\n  border: 1px dotted var(--sklearn-color-border-box);\n  border-radius: 0.25em;\n  box-sizing: border-box;\n  margin-bottom: 0.5em;\n  /* unfitted */\n  background-color: var(--sklearn-color-unfitted-level-0);\n}\n\n#sk-container-id-1 div.sk-estimator.fitted {\n  /* fitted */\n  background-color: var(--sklearn-color-fitted-level-0);\n}\n\n/* on hover */\n#sk-container-id-1 div.sk-estimator:hover {\n  /* unfitted */\n  background-color: var(--sklearn-color-unfitted-level-2);\n}\n\n#sk-container-id-1 div.sk-estimator.fitted:hover {\n  /* fitted */\n  background-color: var(--sklearn-color-fitted-level-2);\n}\n\n/* Specification for estimator info (e.g. \"i\" and \"?\") */\n\n/* Common style for \"i\" and \"?\" */\n\n.sk-estimator-doc-link,\na:link.sk-estimator-doc-link,\na:visited.sk-estimator-doc-link {\n  float: right;\n  font-size: smaller;\n  line-height: 1em;\n  font-family: monospace;\n  background-color: var(--sklearn-color-background);\n  border-radius: 1em;\n  height: 1em;\n  width: 1em;\n  text-decoration: none !important;\n  margin-left: 1ex;\n  /* unfitted */\n  border: var(--sklearn-color-unfitted-level-1) 1pt solid;\n  color: var(--sklearn-color-unfitted-level-1);\n}\n\n.sk-estimator-doc-link.fitted,\na:link.sk-estimator-doc-link.fitted,\na:visited.sk-estimator-doc-link.fitted {\n  /* fitted */\n  border: var(--sklearn-color-fitted-level-1) 1pt solid;\n  color: var(--sklearn-color-fitted-level-1);\n}\n\n/* On hover */\ndiv.sk-estimator:hover .sk-estimator-doc-link:hover,\n.sk-estimator-doc-link:hover,\ndiv.sk-label-container:hover .sk-estimator-doc-link:hover,\n.sk-estimator-doc-link:hover {\n  /* unfitted */\n  background-color: var(--sklearn-color-unfitted-level-3);\n  color: var(--sklearn-color-background);\n  text-decoration: none;\n}\n\ndiv.sk-estimator.fitted:hover .sk-estimator-doc-link.fitted:hover,\n.sk-estimator-doc-link.fitted:hover,\ndiv.sk-label-container:hover .sk-estimator-doc-link.fitted:hover,\n.sk-estimator-doc-link.fitted:hover {\n  /* fitted */\n  background-color: var(--sklearn-color-fitted-level-3);\n  color: var(--sklearn-color-background);\n  text-decoration: none;\n}\n\n/* Span, style for the box shown on hovering the info icon */\n.sk-estimator-doc-link span {\n  display: none;\n  z-index: 9999;\n  position: relative;\n  font-weight: normal;\n  right: .2ex;\n  padding: .5ex;\n  margin: .5ex;\n  width: min-content;\n  min-width: 20ex;\n  max-width: 50ex;\n  color: var(--sklearn-color-text);\n  box-shadow: 2pt 2pt 4pt #999;\n  /* unfitted */\n  background: var(--sklearn-color-unfitted-level-0);\n  border: .5pt solid var(--sklearn-color-unfitted-level-3);\n}\n\n.sk-estimator-doc-link.fitted span {\n  /* fitted */\n  background: var(--sklearn-color-fitted-level-0);\n  border: var(--sklearn-color-fitted-level-3);\n}\n\n.sk-estimator-doc-link:hover span {\n  display: block;\n}\n\n/* \"?\"-specific style due to the `<a>` HTML tag */\n\n#sk-container-id-1 a.estimator_doc_link {\n  float: right;\n  font-size: 1rem;\n  line-height: 1em;\n  font-family: monospace;\n  background-color: var(--sklearn-color-background);\n  border-radius: 1rem;\n  height: 1rem;\n  width: 1rem;\n  text-decoration: none;\n  /* unfitted */\n  color: var(--sklearn-color-unfitted-level-1);\n  border: var(--sklearn-color-unfitted-level-1) 1pt solid;\n}\n\n#sk-container-id-1 a.estimator_doc_link.fitted {\n  /* fitted */\n  border: var(--sklearn-color-fitted-level-1) 1pt solid;\n  color: var(--sklearn-color-fitted-level-1);\n}\n\n/* On hover */\n#sk-container-id-1 a.estimator_doc_link:hover {\n  /* unfitted */\n  background-color: var(--sklearn-color-unfitted-level-3);\n  color: var(--sklearn-color-background);\n  text-decoration: none;\n}\n\n#sk-container-id-1 a.estimator_doc_link.fitted:hover {\n  /* fitted */\n  background-color: var(--sklearn-color-fitted-level-3);\n}\n</style><div id=\"sk-container-id-1\" class=\"sk-top-container\"><div class=\"sk-text-repr-fallback\"><pre>LogisticRegression(max_iter=1000)</pre><b>In a Jupyter environment, please rerun this cell to show the HTML representation or trust the notebook. <br />On GitHub, the HTML representation is unable to render, please try loading this page with nbviewer.org.</b></div><div class=\"sk-container\" hidden><div class=\"sk-item\"><div class=\"sk-estimator fitted sk-toggleable\"><input class=\"sk-toggleable__control sk-hidden--visually\" id=\"sk-estimator-id-1\" type=\"checkbox\" checked><label for=\"sk-estimator-id-1\" class=\"sk-toggleable__label fitted sk-toggleable__label-arrow fitted\">&nbsp;&nbsp;LogisticRegression<a class=\"sk-estimator-doc-link fitted\" rel=\"noreferrer\" target=\"_blank\" href=\"https://scikit-learn.org/1.5/modules/generated/sklearn.linear_model.LogisticRegression.html\">?<span>Documentation for LogisticRegression</span></a><span class=\"sk-estimator-doc-link fitted\">i<span>Fitted</span></span></label><div class=\"sk-toggleable__content fitted\"><pre>LogisticRegression(max_iter=1000)</pre></div> </div></div></div></div>"
     },
     "execution_count": 30,
     "metadata": {},
     "output_type": "execute_result"
    }
   ],
   "source": [
    "# Train a linear classifier (e.g., Logistic Regression) on the TF-IDF matrix\n",
    "clf = LogisticRegression(max_iter=1000)\n",
    "clf.fit(tfidf_matrix, filtered_df['target'])"
   ],
   "metadata": {
    "collapsed": false,
    "ExecuteTime": {
     "end_time": "2024-09-25T14:59:10.383321700Z",
     "start_time": "2024-09-25T14:59:08.473638200Z"
    }
   },
   "id": "a3641afa9e9ce6ef"
  },
  {
   "cell_type": "code",
   "execution_count": 32,
   "outputs": [
    {
     "name": "stdout",
     "output_type": "stream",
     "text": [
      "\n",
      "Top 20 Words Indicative of Class 0 (Stock Price Down):\n",
      "fell dropped future lost september factors grow single recent tech annual soon august com friday addition adjusted research loss trade\n",
      "\n",
      "Top 20 Words Indicative of Class 1 (Stock Price Up):\n",
      "segment europe carries rank investments january esp gains july say release coming core amzn monday expects impact gained fourth rose\n"
     ]
    }
   ],
   "source": [
    "def print_top_features(vectorizer, clf):\n",
    "    \"\"\"Prints features with the highest coefficient values for binary classification.\"\"\"\n",
    "    feature_names = vectorizer.get_feature_names_out()\n",
    "    coef = clf.coef_[0]  # Use the first (and only) set of coefficients for binary classification\n",
    "    \n",
    "    # Top 20 features with the most negative coefficients (indicative of Class 0)\n",
    "    top_features_class_0 = np.argsort(coef)[:20]\n",
    "    print(\"\\nTop 20 Words Indicative of Class 0 (Stock Price Down):\")\n",
    "    print(\" \".join(feature_names[j] for j in top_features_class_0))\n",
    "    \n",
    "    # Top 20 features with the most positive coefficients (indicative of Class 1)\n",
    "    top_features_class_1 = np.argsort(coef)[-20:]\n",
    "    print(\"\\nTop 20 Words Indicative of Class 1 (Stock Price Up):\")\n",
    "    print(\" \".join(feature_names[j] for j in top_features_class_1))\n",
    "\n",
    "# Print the most informative features for binary classification\n",
    "print_top_features(vectorizer, clf)\n"
   ],
   "metadata": {
    "collapsed": false,
    "ExecuteTime": {
     "end_time": "2024-09-25T15:01:50.350973900Z",
     "start_time": "2024-09-25T15:01:50.339072800Z"
    }
   },
   "id": "4fc5e540bc30fbce"
  },
  {
   "cell_type": "code",
   "execution_count": 34,
   "outputs": [
    {
     "name": "stdout",
     "output_type": "stream",
     "text": [
      "\n",
      "Top 20 Words Indicative of Class 0 (Stock Price Down):\n",
      "fell dropped future lost september factors grow single recent tech annual soon august com friday addition adjusted research loss trade\n",
      "\n",
      "Top 20 Words Indicative of Class 1 (Stock Price Up):\n",
      "segment europe carries rank investments january esp gains july say release coming core amzn monday expects impact gained fourth rose\n"
     ]
    }
   ],
   "source": [
    "# Correct function to print top informative features for binary classification\n",
    "def print_top_features(vectorizer, coef):\n",
    "    \"\"\"Prints features with the highest coefficient values for binary classification.\"\"\"\n",
    "    feature_names = vectorizer.get_feature_names_out()\n",
    "    \n",
    "    # Top 20 features with the most negative coefficients (indicative of Class 0)\n",
    "    top_features_class_0 = np.argsort(coef)[:20]\n",
    "    print(\"\\nTop 20 Words Indicative of Class 0 (Stock Price Down):\")\n",
    "    print(\" \".join(feature_names[j] for j in top_features_class_0))\n",
    "    \n",
    "    # Top 20 features with the most positive coefficients (indicative of Class 1)\n",
    "    top_features_class_1 = np.argsort(coef)[-20:]\n",
    "    print(\"\\nTop 20 Words Indicative of Class 1 (Stock Price Up):\")\n",
    "    print(\" \".join(feature_names[j] for j in top_features_class_1))\n",
    "    \n",
    "    return top_features_class_0, top_features_class_1\n",
    "\n",
    "# Extract the coefficients from the classifier\n",
    "coef = clf.coef_[0]\n",
    "\n",
    "# Print the most informative features and get the indices for visualization\n",
    "top_features_class_0, top_features_class_1 = print_top_features(vectorizer, coef)"
   ],
   "metadata": {
    "collapsed": false,
    "ExecuteTime": {
     "end_time": "2024-09-25T15:05:12.726607Z",
     "start_time": "2024-09-25T15:05:12.710069900Z"
    }
   },
   "id": "7714dd5668949bf9"
  },
  {
   "cell_type": "code",
   "execution_count": 36,
   "outputs": [
    {
     "data": {
      "text/plain": "<Figure size 1200x600 with 1 Axes>",
      "image/png": "[encoded data removed]"
     },
     "metadata": {},
     "output_type": "display_data"
    }
   ],
   "source": [
    "\n",
    "# Visualize the top features for Class 0 (Stock Price Down)\n",
    "plt.figure(figsize=(12, 6))\n",
    "plt.barh([vectorizer.get_feature_names_out()[i] for i in top_features_class_0], coef[top_features_class_0], color='blue')\n",
    "plt.title('Top 20 Words Indicative of Class 0 (Stock Price Down)')\n",
    "plt.xlabel('Coefficient Value')\n",
    "plt.gca().invert_yaxis()\n",
    "plt.show()\n",
    "\n"
   ],
   "metadata": {
    "collapsed": false,
    "ExecuteTime": {
     "end_time": "2024-09-25T15:05:45.298573400Z",
     "start_time": "2024-09-25T15:05:45.028930900Z"
    }
   },
   "id": "d2d3f37640ecac20"
  },
  {
   "cell_type": "code",
   "execution_count": 37,
   "outputs": [
    {
     "data": {
      "text/plain": "<Figure size 1200x600 with 1 Axes>",
      "image/png": "[encoded data removed]"
     },
     "metadata": {},
     "output_type": "display_data"
    }
   ],
   "source": [
    "# Visualize the top features for Class 1 (Stock Price Up)\n",
    "plt.figure(figsize=(12, 6))\n",
    "plt.barh([vectorizer.get_feature_names_out()[i] for i in top_features_class_1], coef[top_features_class_1], color='green')\n",
    "plt.title('Top 20 Words Indicative of Class 1 (Stock Price Up)')\n",
    "plt.xlabel('Coefficient Value')\n",
    "plt.gca().invert_yaxis()\n",
    "plt.show()"
   ],
   "metadata": {
    "collapsed": false,
    "ExecuteTime": {
     "end_time": "2024-09-25T15:06:01.284942900Z",
     "start_time": "2024-09-25T15:06:00.392034500Z"
    }
   },
   "id": "28cfee47da5d4c43"
  },
  {
   "cell_type": "code",
   "execution_count": null,
   "outputs": [],
   "source": [],
   "metadata": {
    "collapsed": false
   },
   "id": "bf41669d9b8117ad"
  },
  {
   "cell_type": "code",
   "execution_count": null,
   "outputs": [],
   "source": [
    "\n",
    "# Compute cosine similarity matrix, which measures the similarity between documents\n",
    "# Source: https://medium.com/@anurag-jain/tf-idf-vectorization-with-cosine-similarity-eca3386d4423\n",
    "similarity_matrix = cosine_similarity(tfidf_matrix)\n",
    "\n",
    "# Convert similarity matrix to a DataFrame for easier handling\n",
    "similarity_df = pd.DataFrame(similarity_matrix)"
   ],
   "metadata": {
    "collapsed": false,
    "ExecuteTime": {
     "end_time": "2024-09-24T20:37:36.620308100Z",
     "start_time": "2024-09-24T20:37:36.600795Z"
    }
   },
   "id": "397499d90e5cda9b"
  },
  {
   "cell_type": "code",
   "execution_count": 13,
   "outputs": [
    {
     "ename": "NameError",
     "evalue": "name 'similarity_matrix' is not defined",
     "output_type": "error",
     "traceback": [
      "\u001B[1;31m---------------------------------------------------------------------------\u001B[0m",
      "\u001B[1;31mNameError\u001B[0m                                 Traceback (most recent call last)",
      "Cell \u001B[1;32mIn[13], line 2\u001B[0m\n\u001B[0;32m      1\u001B[0m \u001B[38;5;66;03m# Find indices of the most and least similar documents (excluding self-similarity)\u001B[39;00m\n\u001B[1;32m----> 2\u001B[0m np\u001B[38;5;241m.\u001B[39mfill_diagonal(\u001B[43msimilarity_matrix\u001B[49m, \u001B[38;5;241m0\u001B[39m)\n\u001B[0;32m      3\u001B[0m most_similar_indices \u001B[38;5;241m=\u001B[39m np\u001B[38;5;241m.\u001B[39munravel_index(np\u001B[38;5;241m.\u001B[39margmax(similarity_matrix, axis\u001B[38;5;241m=\u001B[39m\u001B[38;5;28;01mNone\u001B[39;00m), similarity_matrix\u001B[38;5;241m.\u001B[39mshape)\n\u001B[0;32m      4\u001B[0m least_similar_indices \u001B[38;5;241m=\u001B[39m np\u001B[38;5;241m.\u001B[39munravel_index(np\u001B[38;5;241m.\u001B[39margmin(similarity_matrix, axis\u001B[38;5;241m=\u001B[39m\u001B[38;5;28;01mNone\u001B[39;00m), similarity_matrix\u001B[38;5;241m.\u001B[39mshape)\n",
      "\u001B[1;31mNameError\u001B[0m: name 'similarity_matrix' is not defined"
     ]
    }
   ],
   "source": [
    "\n",
    "# Find indices of the most and least similar documents (excluding self-similarity)\n",
    "np.fill_diagonal(similarity_matrix, 0)\n",
    "most_similar_indices = np.unravel_index(np.argmax(similarity_matrix, axis=None), similarity_matrix.shape)\n",
    "least_similar_indices = np.unravel_index(np.argmin(similarity_matrix, axis=None), similarity_matrix.shape)"
   ],
   "metadata": {
    "collapsed": false,
    "ExecuteTime": {
     "end_time": "2024-09-24T20:40:11.515761800Z",
     "start_time": "2024-09-24T20:40:11.437142700Z"
    }
   },
   "id": "4b32dd17b882fc4e"
  },
  {
   "cell_type": "code",
   "execution_count": 0,
   "outputs": [],
   "source": [
    "\n",
    "# Inspect the most similar documents\n",
    "similar_doc_1 = news_df.iloc[most_similar_indices[0]]\n",
    "similar_doc_2 = news_df.iloc[most_similar_indices[1]]\n",
    "\n",
    "print(\"\\nMost Similar Documents:\\n\")\n",
    "print(\"Document 1:\")\n",
    "print(similar_doc_1['content'])\n",
    "print(\"\\nDocument 2:\")\n",
    "print(similar_doc_2['content'])"
   ],
   "metadata": {
    "collapsed": false
   },
   "id": "8521920cd2182324"
  },
  {
   "cell_type": "code",
   "execution_count": 10,
   "outputs": [
    {
     "data": {
      "text/plain": "'\\n\\n# TF-IDF Representation of Documents using the processed and filtered text\\nvectorizer = TfidfVectorizer(stop_words=\\'english\\', max_features=10)\\ntfidf_matrix = vectorizer.fit_transform(news_df[\\'filtered_text_str\\'])\\n\\n# Compute cosine similarity matrix\\nsimilarity_matrix = cosine_similarity(tfidf_matrix)\\n\\n# Convert similarity matrix to a DataFrame for easier handling\\nsimilarity_df = pd.DataFrame(similarity_matrix)\\n\\n# Find indices of the most and least similar documents (excluding self-similarity)\\nnp.fill_diagonal(similarity_matrix, 0)\\nmost_similar_indices = np.unravel_index(np.argmax(similarity_matrix, axis=None), similarity_matrix.shape)\\nleast_similar_indices = np.unravel_index(np.argmin(similarity_matrix, axis=None), similarity_matrix.shape)\\n\\n# Inspect the most similar documents\\nsimilar_doc_1 = news_df.iloc[most_similar_indices[0]]\\nsimilar_doc_2 = news_df.iloc[most_similar_indices[1]]\\n\\nprint(\"\\nMost Similar Documents:\\n\")\\nprint(\"Document 1:\")\\nprint(similar_doc_1[\\'content\\'])\\nprint(\"\\nDocument 2:\")\\nprint(similar_doc_2[\\'content\\'])\\n\\n# Inspect the least similar documents\\ndissimilar_doc_1 = news_df.iloc[least_similar_indices[0]]\\ndissimilar_doc_2 = news_df.iloc[least_similar_indices[1]]\\n\\nprint(\"\\n\\nMost Dissimilar Documents:\\n\")\\nprint(\"Document 1:\")\\nprint(dissimilar_doc_1[\\'content\\'])\\nprint(\"\\nDocument 2:\")\\nprint(dissimilar_doc_2[\\'content\\'])\\n\\n'"
     },
     "execution_count": 10,
     "metadata": {},
     "output_type": "execute_result"
    }
   ],
   "source": [
    "\n",
    "# Inspect the least similar documents\n",
    "dissimilar_doc_1 = news_df.iloc[least_similar_indices[0]]\n",
    "dissimilar_doc_2 = news_df.iloc[least_similar_indices[1]]\n",
    "\n",
    "print(\"\\n\\nMost Dissimilar Documents:\\n\")\n",
    "print(\"Document 1:\")\n",
    "print(dissimilar_doc_1['content'])\n",
    "print(\"\\nDocument 2:\")\n",
    "print(dissimilar_doc_2['content'])\n",
    "\n"
   ],
   "metadata": {
    "collapsed": false,
    "ExecuteTime": {
     "start_time": "2024-09-24T13:03:53.474636Z"
    }
   },
   "id": "initial_id"
  },
  {
   "cell_type": "code",
   "execution_count": 10,
   "outputs": [],
   "source": [],
   "metadata": {
    "collapsed": false,
    "ExecuteTime": {
     "end_time": "2024-09-24T13:03:53.562002300Z",
     "start_time": "2024-09-24T13:03:53.487284800Z"
    }
   },
   "id": "cd3f1bf3a29c2a6b"
  },
  {
   "cell_type": "code",
   "execution_count": null,
   "outputs": [],
   "source": [],
   "metadata": {
    "collapsed": false
   },
   "id": "3f597cf00b35387"
  }
 ],
 "metadata": {
  "kernelspec": {
   "display_name": "Python 3",
   "language": "python",
   "name": "python3"
  },
  "language_info": {
   "codemirror_mode": {
    "name": "ipython",
    "version": 2
   },
   "file_extension": ".py",
   "mimetype": "text/x-python",
   "name": "python",
   "nbconvert_exporter": "python",
   "pygments_lexer": "ipython2",
   "version": "2.7.6"
  }
 },
 "nbformat": 4,
 "nbformat_minor": 5
}
