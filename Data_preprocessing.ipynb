{
 "cells": [
  {
   "cell_type": "code",
   "execution_count": 14,
   "id": "5684e2cad884fe39",
   "metadata": {
    "collapsed": true,
    "ExecuteTime": {
     "end_time": "2024-09-24T20:41:43.125463100Z",
     "start_time": "2024-09-24T20:41:43.007813Z"
    }
   },
   "outputs": [],
   "source": [
    "import pandas as pd\n",
    "import string\n",
    "import numpy as np\n",
    "import nltk\n",
    "from nltk.corpus import stopwords\n",
    "from nltk.tokenize import word_tokenize\n",
    "from collections import Counter\n",
    "import matplotlib.pyplot as plt\n",
    "from sklearn.feature_extraction.text import TfidfVectorizer\n",
    "from sklearn.metrics.pairwise import cosine_similarity\n",
    "from sklearn.feature_selection import chi2"
   ]
  },
  {
   "cell_type": "code",
   "execution_count": 2,
   "outputs": [
    {
     "name": "stderr",
     "output_type": "stream",
     "text": [
      "[nltk_data] Downloading package stopwords to\n",
      "[nltk_data]     C:\\Users\\georg\\AppData\\Roaming\\nltk_data...\n",
      "[nltk_data]   Package stopwords is already up-to-date!\n",
      "[nltk_data] Downloading package punkt to\n",
      "[nltk_data]     C:\\Users\\georg\\AppData\\Roaming\\nltk_data...\n",
      "[nltk_data]   Package punkt is already up-to-date!\n"
     ]
    },
    {
     "data": {
      "text/plain": "True"
     },
     "execution_count": 2,
     "metadata": {},
     "output_type": "execute_result"
    }
   ],
   "source": [
    "\n",
    "# Ensure NLTK data is downloaded\n",
    "nltk.download('stopwords')\n",
    "nltk.download('punkt')"
   ],
   "metadata": {
    "collapsed": false,
    "ExecuteTime": {
     "end_time": "2024-09-24T12:53:35.380872Z",
     "start_time": "2024-09-24T12:53:35.052478700Z"
    }
   },
   "id": "a7f3b881032d4266"
  },
  {
   "cell_type": "code",
   "execution_count": 3,
   "outputs": [],
   "source": [
    "\n",
    "# Load the datasets\n",
    "news_df = pd.read_csv('./data/us_equities_news_dataset.csv')\n",
    "stock_df = pd.read_csv('./data/NVDA.csv')"
   ],
   "metadata": {
    "collapsed": false,
    "ExecuteTime": {
     "end_time": "2024-09-24T12:53:43.221294300Z",
     "start_time": "2024-09-24T12:53:35.377494700Z"
    }
   },
   "id": "b47c3c5036ef252c"
  },
  {
   "cell_type": "code",
   "execution_count": 4,
   "outputs": [
    {
     "name": "stdout",
     "output_type": "stream",
     "text": [
      "\n",
      "Filtered and Labeled Data:\n",
      "                                             content     Open    Close  \\\n",
      "0  What s happening\\nShares of Chinese electric c...  6.19475  6.13925   \n",
      "1  Gainers  NIO  NYSE NIO   14   Village Farms In...  6.19475  6.13925   \n",
      "2  Cemtrex  NASDAQ CETX   85  after FY results \\n...  6.19475  6.13925   \n",
      "3  aTyr Pharma  NASDAQ LIFE   63  on Kyorin Pharm...  5.80800  5.92650   \n",
      "4  Gainers  NIO  NYSE NIO   14   Meritor  NYSE MT...  5.77250  5.88250   \n",
      "\n",
      "        Date  target  \n",
      "0 2020-01-15       0  \n",
      "1 2020-01-15       0  \n",
      "2 2020-01-15       0  \n",
      "3 2020-01-06       1  \n",
      "4 2019-12-31       1  \n"
     ]
    },
    {
     "name": "stderr",
     "output_type": "stream",
     "text": [
      "C:\\Users\\georg\\AppData\\Local\\Temp\\ipykernel_23280\\260194063.py:12: SettingWithCopyWarning: \n",
      "A value is trying to be set on a copy of a slice from a DataFrame.\n",
      "Try using .loc[row_indexer,col_indexer] = value instead\n",
      "\n",
      "See the caveats in the documentation: https://pandas.pydata.org/pandas-docs/stable/user_guide/indexing.html#returning-a-view-versus-a-copy\n",
      "  filtered_df['target'] = np.where(filtered_df['Open'] > filtered_df['Close'], 0, 1)\n"
     ]
    }
   ],
   "source": [
    "\n",
    "# Convert the date columns to datetime format for matching\n",
    "news_df['Date'] = pd.to_datetime(news_df['release_date'])\n",
    "stock_df['Date'] = pd.to_datetime(stock_df['Date'])\n",
    "\n",
    "# Merge news data with stock prices based on publication date\n",
    "merged_df = pd.merge(news_df, stock_df, on='Date', how='inner')\n",
    "\n",
    "# Filter to keep only articles that have matching stock data\n",
    "filtered_df = merged_df[['content', 'Open', 'Close', 'Date']]\n",
    "\n",
    "# Label the target variable based on the opening and closing prices\n",
    "filtered_df['target'] = np.where(filtered_df['Open'] > filtered_df['Close'], 0, 1)\n",
    "\n",
    "# Display the first few rows to verify the merging and labeling\n",
    "print(\"\\nFiltered and Labeled Data:\")\n",
    "print(filtered_df.head())"
   ],
   "metadata": {
    "collapsed": false,
    "ExecuteTime": {
     "end_time": "2024-09-24T12:53:43.347605800Z",
     "start_time": "2024-09-24T12:53:43.201149400Z"
    }
   },
   "id": "ceda3ef162e35ec7"
  },
  {
   "cell_type": "code",
   "execution_count": null,
   "outputs": [],
   "source": [],
   "metadata": {
    "collapsed": false
   },
   "id": "f3897c97beb5719"
  },
  {
   "cell_type": "code",
   "execution_count": 5,
   "outputs": [
    {
     "name": "stdout",
     "output_type": "stream",
     "text": [
      "The number of articles is: 197393\n",
      "The average amount of words per article is: 579.1646714929101\n"
     ]
    }
   ],
   "source": [
    "\n",
    "# Proceed with the rest of your analysis using filtered_df\n",
    "# Basic descriptive statistics for the news dataset\n",
    "num_articles = filtered_df.shape[0]\n",
    "average_words_per_article = filtered_df['content'].apply(lambda x: len(str(x).split())).mean()\n",
    "print(f\"The number of articles is: {num_articles}\")\n",
    "print(f\"The average amount of words per article is: {average_words_per_article}\")"
   ],
   "metadata": {
    "collapsed": false,
    "ExecuteTime": {
     "end_time": "2024-09-24T12:53:47.661213600Z",
     "start_time": "2024-09-24T12:53:43.350082800Z"
    }
   },
   "id": "7b6b6923ce3e9dda"
  },
  {
   "cell_type": "code",
   "execution_count": 6,
   "outputs": [
    {
     "name": "stderr",
     "output_type": "stream",
     "text": [
      "C:\\Users\\georg\\AppData\\Local\\Temp\\ipykernel_23280\\2432952274.py:2: SettingWithCopyWarning: \n",
      "A value is trying to be set on a copy of a slice from a DataFrame.\n",
      "Try using .loc[row_indexer,col_indexer] = value instead\n",
      "\n",
      "See the caveats in the documentation: https://pandas.pydata.org/pandas-docs/stable/user_guide/indexing.html#returning-a-view-versus-a-copy\n",
      "  filtered_df['processed_text'] = filtered_df['content'].apply(lambda x: word_tokenize(str(x).lower()))\n"
     ]
    }
   ],
   "source": [
    "\n",
    "# Tokenize content for word frequency analysis\n",
    "filtered_df.loc[:, 'text_length'] = filtered_df['content'].apply(lambda x: len(str(x).split()))"
   ],
   "metadata": {
    "collapsed": false,
    "ExecuteTime": {
     "end_time": "2024-09-24T12:58:53.981131600Z",
     "start_time": "2024-09-24T12:53:47.661213600Z"
    }
   },
   "id": "7402bb4250be5452"
  },
  {
   "cell_type": "code",
   "execution_count": 7,
   "outputs": [
    {
     "name": "stderr",
     "output_type": "stream",
     "text": [
      "C:\\Users\\georg\\AppData\\Local\\Temp\\ipykernel_23280\\3475452813.py:3: SettingWithCopyWarning: \n",
      "A value is trying to be set on a copy of a slice from a DataFrame.\n",
      "Try using .loc[row_indexer,col_indexer] = value instead\n",
      "\n",
      "See the caveats in the documentation: https://pandas.pydata.org/pandas-docs/stable/user_guide/indexing.html#returning-a-view-versus-a-copy\n",
      "  filtered_df['filtered_text'] = filtered_df['processed_text'].apply(\n"
     ]
    }
   ],
   "source": [
    "# Remove stopwords and punctuation for better NLP insights\n",
    "stop_words = set(stopwords.words('english'))\n",
    "filtered_df.loc[:, 'filtered_text'] = filtered_df['processed_text'].apply(\n",
    "    lambda words: [word for word in words if word.isalpha() and word not in stop_words])"
   ],
   "metadata": {
    "collapsed": false,
    "ExecuteTime": {
     "end_time": "2024-09-24T13:03:32.206902200Z",
     "start_time": "2024-09-24T12:58:54.030924500Z"
    }
   },
   "id": "97b3c4aa37604eb1"
  },
  {
   "cell_type": "code",
   "execution_count": 8,
   "outputs": [
    {
     "name": "stderr",
     "output_type": "stream",
     "text": [
      "C:\\Users\\georg\\AppData\\Local\\Temp\\ipykernel_23280\\1618671758.py:2: SettingWithCopyWarning: \n",
      "A value is trying to be set on a copy of a slice from a DataFrame.\n",
      "Try using .loc[row_indexer,col_indexer] = value instead\n",
      "\n",
      "See the caveats in the documentation: https://pandas.pydata.org/pandas-docs/stable/user_guide/indexing.html#returning-a-view-versus-a-copy\n",
      "  filtered_df['filtered_text_str'] = filtered_df['filtered_text'].apply(lambda x: ' '.join(x))\n"
     ]
    }
   ],
   "source": [
    "\n",
    "# Join the filtered words back into strings for TF-IDF\n",
    "filtered_df.loc[:, 'filtered_text_str'] = filtered_df['filtered_text'].apply(lambda x: ' '.join(x))"
   ],
   "metadata": {
    "collapsed": false,
    "ExecuteTime": {
     "end_time": "2024-09-24T13:03:34.256744600Z",
     "start_time": "2024-09-24T13:03:32.187189700Z"
    }
   },
   "id": "66b44f28da8c3907"
  },
  {
   "cell_type": "code",
   "execution_count": 9,
   "outputs": [
    {
     "name": "stdout",
     "output_type": "stream",
     "text": [
      "\n",
      "Top 50 most common words in the news articles (after stop word removal):\n",
      "[('year', 690321), ('company', 528034), ('zacks', 467746), ('earnings', 465774), ('quarter', 391328), ('million', 326965), ('said', 320598), ('nyse', 305298), ('market', 300428), ('stocks', 293614), ('growth', 292174), ('billion', 280832), ('u', 274978), ('stock', 266056), ('also', 260139), ('nasdaq', 250140), ('new', 227672), ('inc', 222843), ('rank', 217936), ('last', 217261), ('expected', 195749), ('per', 194272), ('percent', 189412), ('investors', 185476), ('estimate', 184859), ('share', 183860), ('sales', 179224), ('consensus', 174616), ('shares', 173841), ('price', 168608), ('one', 166523), ('would', 150963), ('first', 149964), ('buy', 147672), ('companies', 146162), ('revenues', 146124), ('time', 145588), ('may', 144504), ('p', 142066), ('higher', 141780), ('see', 139816), ('could', 138099), ('strong', 135474), ('industry', 132372), ('business', 128143), ('report', 127785), ('week', 126720), ('reported', 125789), ('average', 123065), ('investment', 119823)]\n"
     ]
    }
   ],
   "source": [
    "\n",
    "# Frequency analysis of the most common words\n",
    "all_words = [word for content in filtered_df['filtered_text'] for word in content]\n",
    "word_freq = Counter(all_words)\n",
    "most_common_words = word_freq.most_common(50)\n",
    "\n",
    "# Display the most common words in the news dataset\n",
    "print(\"\\nTop 50 most common words in the news articles (after stop word removal):\")\n",
    "print(most_common_words)"
   ],
   "metadata": {
    "collapsed": false,
    "ExecuteTime": {
     "end_time": "2024-09-24T13:03:53.441820200Z",
     "start_time": "2024-09-24T13:03:34.250223600Z"
    }
   },
   "id": "5f19f39bc42742c2"
  },
  {
   "cell_type": "code",
   "execution_count": 11,
   "outputs": [],
   "source": [
    "# TF-IDF Representation of Documents using the processed and filtered text\n",
    "vectorizer = TfidfVectorizer(stop_words='english', max_features=500)  # Reduced max features\n",
    "tfidf_matrix = vectorizer.fit_transform(filtered_df['filtered_text_str'])"
   ],
   "metadata": {
    "collapsed": false,
    "ExecuteTime": {
     "end_time": "2024-09-24T20:21:55.398192800Z",
     "start_time": "2024-09-24T20:20:53.487277200Z"
    }
   },
   "id": "39c97be83f5a150b"
  },
  {
   "cell_type": "code",
   "execution_count": 23,
   "outputs": [
    {
     "name": "stdout",
     "output_type": "stream",
     "text": [
      "\n",
      "Top 20 Words Indicative of Class 0:\n",
      "['year', 'zacks', 'company', 'said', 'earnings', 'quarter', 'million', 'nyse', 'percent', 'nasdaq', 'billion', 'stocks', 'market', 'stock', 'growth', 'new', 'rank', 'shares', 'estimate', 'sales']\n",
      "\n",
      "Top 20 Words Indicative of Class 1:\n",
      "['zacks', 'year', 'company', 'said', 'earnings', 'quarter', 'nyse', 'million', 'nasdaq', 'billion', 'percent', 'stocks', 'stock', 'market', 'growth', 'rank', 'new', 'shares', 'estimate', 'sales']\n"
     ]
    }
   ],
   "source": [
    "# Get feature names (words) from the TF-IDF vectorizer\n",
    "feature_names = vectorizer.get_feature_names_out()\n",
    "\n",
    "# Apply Chi-Square test to find words most indicative of each class\n",
    "chi2_scores, p_values = chi2(tfidf_matrix, filtered_df['target'])\n",
    "\n",
    "# Create a DataFrame of words and their Chi-Square scores\n",
    "chi2_df = pd.DataFrame({'Word': feature_names, 'Chi2 Score': chi2_scores})\n",
    "\n",
    "# Identify top indicative words for each class based on the average TF-IDF scores for each class\n",
    "# Separate the TF-IDF matrix by class\n",
    "tfidf_class_0 = tfidf_matrix[filtered_df['target'] == 0]\n",
    "tfidf_class_1 = tfidf_matrix[filtered_df['target'] == 1]\n",
    "\n",
    "# Calculate the mean TF-IDF scores for each word in each class\n",
    "mean_scores_class_0 = np.mean(tfidf_class_0.toarray(), axis=0)\n",
    "mean_scores_class_1 = np.mean(tfidf_class_1.toarray(), axis=0)\n",
    "\n",
    "# Create DataFrames for each class's scores\n",
    "class_0_df = pd.DataFrame({'Word': feature_names, 'Mean TF-IDF': mean_scores_class_0})\n",
    "class_1_df = pd.DataFrame({'Word': feature_names, 'Mean TF-IDF': mean_scores_class_1})\n",
    "\n",
    "# Identify the top 20 words most indicative of each class\n",
    "top_words_class_0 = class_0_df.nlargest(20, 'Mean TF-IDF')['Word'].tolist()\n",
    "top_words_class_1 = class_1_df.nlargest(20, 'Mean TF-IDF')['Word'].tolist()\n",
    "\n",
    "# Display the top 20 words indicative of each class\n",
    "print(\"\\nTop 20 Words Indicative of Class 0:\")\n",
    "print(top_words_class_0)\n",
    "\n",
    "print(\"\\nTop 20 Words Indicative of Class 1:\")\n",
    "print(top_words_class_1)"
   ],
   "metadata": {
    "collapsed": false,
    "ExecuteTime": {
     "end_time": "2024-09-24T21:26:33.300192800Z",
     "start_time": "2024-09-24T21:26:32.500543700Z"
    }
   },
   "id": "a672ff87332f385c"
  },
  {
   "cell_type": "code",
   "execution_count": 26,
   "outputs": [
    {
     "data": {
      "text/plain": "<Figure size 1200x600 with 1 Axes>",
      "image/png": "[encoded data removed]"
     },
     "metadata": {},
     "output_type": "display_data"
    }
   ],
   "source": [
    "plt.figure(figsize=(12, 6))\n",
    "plt.barh(class_0_df.nlargest(20, 'Mean TF-IDF')['Word'], class_0_df.nlargest(20, 'Mean TF-IDF')['Mean TF-IDF'], color='blue')\n",
    "plt.title('Top 20 Words Indicative of Class 0 (Stock Price Down)')\n",
    "plt.xlabel('Mean TF-IDF Score')\n",
    "plt.gca().invert_yaxis()  # Invert y-axis to display the highest score at the top\n",
    "plt.show()"
   ],
   "metadata": {
    "collapsed": false,
    "ExecuteTime": {
     "end_time": "2024-09-24T21:44:06.097312400Z",
     "start_time": "2024-09-24T21:44:05.511136800Z"
    }
   },
   "id": "9165360fd6680115"
  },
  {
   "cell_type": "code",
   "execution_count": 28,
   "outputs": [
    {
     "data": {
      "text/plain": "<Figure size 1200x600 with 1 Axes>",
      "image/png": "[encoded data removed]"
     },
     "metadata": {},
     "output_type": "display_data"
    }
   ],
   "source": [
    "plt.figure(figsize=(12, 6))\n",
    "plt.barh(class_1_df.nlargest(20, 'Mean TF-IDF')['Word'], class_1_df.nlargest(20, 'Mean TF-IDF')['Mean TF-IDF'], color='blue')\n",
    "plt.title('Top 20 Words Indicative of Class 0 (Stock Price Down)')\n",
    "plt.xlabel('Mean TF-IDF Score')\n",
    "plt.gca().invert_yaxis()  # Invert y-axis to display the highest score at the top\n",
    "plt.show()"
   ],
   "metadata": {
    "collapsed": false,
    "ExecuteTime": {
     "end_time": "2024-09-24T21:44:22.938652600Z",
     "start_time": "2024-09-24T21:44:22.720104200Z"
    }
   },
   "id": "91d10d7f1e90d047"
  },
  {
   "cell_type": "code",
   "execution_count": null,
   "outputs": [],
   "source": [
    "\n",
    "# Compute cosine similarity matrix, which measures the similarity between documents\n",
    "# Source: https://medium.com/@anurag-jain/tf-idf-vectorization-with-cosine-similarity-eca3386d4423\n",
    "similarity_matrix = cosine_similarity(tfidf_matrix)\n",
    "\n",
    "# Convert similarity matrix to a DataFrame for easier handling\n",
    "similarity_df = pd.DataFrame(similarity_matrix)"
   ],
   "metadata": {
    "collapsed": false,
    "ExecuteTime": {
     "end_time": "2024-09-24T20:37:36.620308100Z",
     "start_time": "2024-09-24T20:37:36.600795Z"
    }
   },
   "id": "397499d90e5cda9b"
  },
  {
   "cell_type": "code",
   "execution_count": 13,
   "outputs": [
    {
     "ename": "NameError",
     "evalue": "name 'similarity_matrix' is not defined",
     "output_type": "error",
     "traceback": [
      "\u001B[1;31m---------------------------------------------------------------------------\u001B[0m",
      "\u001B[1;31mNameError\u001B[0m                                 Traceback (most recent call last)",
      "Cell \u001B[1;32mIn[13], line 2\u001B[0m\n\u001B[0;32m      1\u001B[0m \u001B[38;5;66;03m# Find indices of the most and least similar documents (excluding self-similarity)\u001B[39;00m\n\u001B[1;32m----> 2\u001B[0m np\u001B[38;5;241m.\u001B[39mfill_diagonal(\u001B[43msimilarity_matrix\u001B[49m, \u001B[38;5;241m0\u001B[39m)\n\u001B[0;32m      3\u001B[0m most_similar_indices \u001B[38;5;241m=\u001B[39m np\u001B[38;5;241m.\u001B[39munravel_index(np\u001B[38;5;241m.\u001B[39margmax(similarity_matrix, axis\u001B[38;5;241m=\u001B[39m\u001B[38;5;28;01mNone\u001B[39;00m), similarity_matrix\u001B[38;5;241m.\u001B[39mshape)\n\u001B[0;32m      4\u001B[0m least_similar_indices \u001B[38;5;241m=\u001B[39m np\u001B[38;5;241m.\u001B[39munravel_index(np\u001B[38;5;241m.\u001B[39margmin(similarity_matrix, axis\u001B[38;5;241m=\u001B[39m\u001B[38;5;28;01mNone\u001B[39;00m), similarity_matrix\u001B[38;5;241m.\u001B[39mshape)\n",
      "\u001B[1;31mNameError\u001B[0m: name 'similarity_matrix' is not defined"
     ]
    }
   ],
   "source": [
    "\n",
    "# Find indices of the most and least similar documents (excluding self-similarity)\n",
    "np.fill_diagonal(similarity_matrix, 0)\n",
    "most_similar_indices = np.unravel_index(np.argmax(similarity_matrix, axis=None), similarity_matrix.shape)\n",
    "least_similar_indices = np.unravel_index(np.argmin(similarity_matrix, axis=None), similarity_matrix.shape)"
   ],
   "metadata": {
    "collapsed": false,
    "ExecuteTime": {
     "end_time": "2024-09-24T20:40:11.515761800Z",
     "start_time": "2024-09-24T20:40:11.437142700Z"
    }
   },
   "id": "4b32dd17b882fc4e"
  },
  {
   "cell_type": "code",
   "execution_count": 0,
   "outputs": [],
   "source": [
    "\n",
    "# Inspect the most similar documents\n",
    "similar_doc_1 = news_df.iloc[most_similar_indices[0]]\n",
    "similar_doc_2 = news_df.iloc[most_similar_indices[1]]\n",
    "\n",
    "print(\"\\nMost Similar Documents:\\n\")\n",
    "print(\"Document 1:\")\n",
    "print(similar_doc_1['content'])\n",
    "print(\"\\nDocument 2:\")\n",
    "print(similar_doc_2['content'])"
   ],
   "metadata": {
    "collapsed": false
   },
   "id": "8521920cd2182324"
  },
  {
   "cell_type": "code",
   "execution_count": 10,
   "outputs": [
    {
     "data": {
      "text/plain": "'\\n\\n# TF-IDF Representation of Documents using the processed and filtered text\\nvectorizer = TfidfVectorizer(stop_words=\\'english\\', max_features=10)\\ntfidf_matrix = vectorizer.fit_transform(news_df[\\'filtered_text_str\\'])\\n\\n# Compute cosine similarity matrix\\nsimilarity_matrix = cosine_similarity(tfidf_matrix)\\n\\n# Convert similarity matrix to a DataFrame for easier handling\\nsimilarity_df = pd.DataFrame(similarity_matrix)\\n\\n# Find indices of the most and least similar documents (excluding self-similarity)\\nnp.fill_diagonal(similarity_matrix, 0)\\nmost_similar_indices = np.unravel_index(np.argmax(similarity_matrix, axis=None), similarity_matrix.shape)\\nleast_similar_indices = np.unravel_index(np.argmin(similarity_matrix, axis=None), similarity_matrix.shape)\\n\\n# Inspect the most similar documents\\nsimilar_doc_1 = news_df.iloc[most_similar_indices[0]]\\nsimilar_doc_2 = news_df.iloc[most_similar_indices[1]]\\n\\nprint(\"\\nMost Similar Documents:\\n\")\\nprint(\"Document 1:\")\\nprint(similar_doc_1[\\'content\\'])\\nprint(\"\\nDocument 2:\")\\nprint(similar_doc_2[\\'content\\'])\\n\\n# Inspect the least similar documents\\ndissimilar_doc_1 = news_df.iloc[least_similar_indices[0]]\\ndissimilar_doc_2 = news_df.iloc[least_similar_indices[1]]\\n\\nprint(\"\\n\\nMost Dissimilar Documents:\\n\")\\nprint(\"Document 1:\")\\nprint(dissimilar_doc_1[\\'content\\'])\\nprint(\"\\nDocument 2:\")\\nprint(dissimilar_doc_2[\\'content\\'])\\n\\n'"
     },
     "execution_count": 10,
     "metadata": {},
     "output_type": "execute_result"
    }
   ],
   "source": [
    "\n",
    "# Inspect the least similar documents\n",
    "dissimilar_doc_1 = news_df.iloc[least_similar_indices[0]]\n",
    "dissimilar_doc_2 = news_df.iloc[least_similar_indices[1]]\n",
    "\n",
    "print(\"\\n\\nMost Dissimilar Documents:\\n\")\n",
    "print(\"Document 1:\")\n",
    "print(dissimilar_doc_1['content'])\n",
    "print(\"\\nDocument 2:\")\n",
    "print(dissimilar_doc_2['content'])\n",
    "\n"
   ],
   "metadata": {
    "collapsed": false,
    "ExecuteTime": {
     "start_time": "2024-09-24T13:03:53.474636Z"
    }
   },
   "id": "initial_id"
  },
  {
   "cell_type": "code",
   "execution_count": 10,
   "outputs": [],
   "source": [],
   "metadata": {
    "collapsed": false,
    "ExecuteTime": {
     "end_time": "2024-09-24T13:03:53.562002300Z",
     "start_time": "2024-09-24T13:03:53.487284800Z"
    }
   },
   "id": "cd3f1bf3a29c2a6b"
  },
  {
   "cell_type": "code",
   "execution_count": null,
   "outputs": [],
   "source": [],
   "metadata": {
    "collapsed": false
   },
   "id": "3f597cf00b35387"
  }
 ],
 "metadata": {
  "kernelspec": {
   "display_name": "Python 3",
   "language": "python",
   "name": "python3"
  },
  "language_info": {
   "codemirror_mode": {
    "name": "ipython",
    "version": 2
   },
   "file_extension": ".py",
   "mimetype": "text/x-python",
   "name": "python",
   "nbconvert_exporter": "python",
   "pygments_lexer": "ipython2",
   "version": "2.7.6"
  }
 },
 "nbformat": 4,
 "nbformat_minor": 5
}
