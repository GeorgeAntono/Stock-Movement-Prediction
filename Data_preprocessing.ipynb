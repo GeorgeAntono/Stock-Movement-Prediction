{
 "cells": [
  {
   "cell_type": "code",
   "execution_count": 1,
   "id": "5684e2cad884fe39",
   "metadata": {
    "collapsed": true,
    "ExecuteTime": {
     "end_time": "2024-09-26T17:37:14.680921400Z",
     "start_time": "2024-09-26T17:37:05.714894200Z"
    }
   },
   "outputs": [],
   "source": [
    "import pandas as pd\n",
    "import string\n",
    "import numpy as np\n",
    "import nltk\n",
    "from nltk.corpus import stopwords\n",
    "from nltk.stem import PorterStemmer\n",
    "from nltk.tokenize import word_tokenize\n",
    "from collections import Counter\n",
    "import matplotlib.pyplot as plt\n",
    "from sklearn.feature_extraction.text import TfidfVectorizer,HashingVectorizer, TfidfTransformer\n",
    "from sklearn.linear_model import LogisticRegression\n",
    "from sklearn.metrics.pairwise import cosine_similarity"
   ]
  },
  {
   "cell_type": "code",
   "execution_count": 2,
   "outputs": [
    {
     "name": "stderr",
     "output_type": "stream",
     "text": [
      "[nltk_data] Downloading package stopwords to\n",
      "[nltk_data]     C:\\Users\\georg\\AppData\\Roaming\\nltk_data...\n",
      "[nltk_data]   Package stopwords is already up-to-date!\n",
      "[nltk_data] Downloading package punkt to\n",
      "[nltk_data]     C:\\Users\\georg\\AppData\\Roaming\\nltk_data...\n",
      "[nltk_data]   Package punkt is already up-to-date!\n"
     ]
    },
    {
     "data": {
      "text/plain": "True"
     },
     "execution_count": 2,
     "metadata": {},
     "output_type": "execute_result"
    }
   ],
   "source": [
    "\n",
    "# Ensure NLTK data is downloaded\n",
    "nltk.download('stopwords')\n",
    "nltk.download('punkt')"
   ],
   "metadata": {
    "collapsed": false,
    "ExecuteTime": {
     "end_time": "2024-09-26T17:37:15.092328600Z",
     "start_time": "2024-09-26T17:37:14.679425500Z"
    }
   },
   "id": "a7f3b881032d4266"
  },
  {
   "cell_type": "code",
   "execution_count": 3,
   "outputs": [],
   "source": [
    "\n",
    "# Load the datasets\n",
    "news_df = pd.read_csv('./data/us_equities_news_dataset.csv')\n",
    "stock_df = pd.read_csv('./data/NVDA.csv')"
   ],
   "metadata": {
    "collapsed": false,
    "ExecuteTime": {
     "end_time": "2024-09-26T17:37:29.697503700Z",
     "start_time": "2024-09-26T17:37:15.089330600Z"
    }
   },
   "id": "b47c3c5036ef252c"
  },
  {
   "cell_type": "code",
   "execution_count": 5,
   "outputs": [
    {
     "data": {
      "text/plain": "'\\n# Convert the date columns to datetime format for matching\\nnews_df[\\'Date\\'] = pd.to_datetime(news_df[\\'release_date\\'])\\nstock_df[\\'Date\\'] = pd.to_datetime(stock_df[\\'Date\\'])\\n\\n# Merge news data with stock prices based on publication date\\nmerged_df = pd.merge(news_df, stock_df, on=\\'Date\\', how=\\'inner\\')\\n\\n# Filter to keep only articles that have matching stock data\\nfiltered_df = merged_df[[\\'content\\', \\'Open\\', \\'Close\\', \\'Date\\']]\\n\\n# Label the target variable based on the opening and closing prices\\nfiltered_df[\\'target\\'] = np.where(filtered_df[\\'Open\\'] > filtered_df[\\'Close\\'], 0, 1)\\n\\n# Display the first few rows to verify the merging and labeling\\nprint(\"\\nFiltered and Labeled Data:\")\\nprint(filtered_df.head())\\n'"
     },
     "execution_count": 5,
     "metadata": {},
     "output_type": "execute_result"
    }
   ],
   "source": [
    "'''\n",
    "# Convert the date columns to datetime format for matching\n",
    "news_df['Date'] = pd.to_datetime(news_df['release_date'])\n",
    "stock_df['Date'] = pd.to_datetime(stock_df['Date'])\n",
    "\n",
    "# Merge news data with stock prices based on publication date\n",
    "merged_df = pd.merge(news_df, stock_df, on='Date', how='inner')\n",
    "\n",
    "# Filter to keep only articles that have matching stock data\n",
    "filtered_df = merged_df[['content', 'Open', 'Close', 'Date']]\n",
    "\n",
    "# Label the target variable based on the opening and closing prices\n",
    "filtered_df['target'] = np.where(filtered_df['Open'] > filtered_df['Close'], 0, 1)\n",
    "\n",
    "# Display the first few rows to verify the merging and labeling\n",
    "print(\"\\nFiltered and Labeled Data:\")\n",
    "print(filtered_df.head())\n",
    "'''"
   ],
   "metadata": {
    "collapsed": false,
    "ExecuteTime": {
     "end_time": "2024-09-26T17:37:29.848964Z",
     "start_time": "2024-09-26T17:37:29.778617700Z"
    }
   },
   "id": "ceda3ef162e35ec7"
  },
  {
   "cell_type": "code",
   "execution_count": 6,
   "outputs": [
    {
     "name": "stdout",
     "output_type": "stream",
     "text": [
      "\n",
      "Total NVIDIA-related articles found: 209131\n"
     ]
    },
    {
     "name": "stderr",
     "output_type": "stream",
     "text": [
      "C:\\Users\\georg\\AppData\\Local\\Temp\\ipykernel_48220\\3343991108.py:20: SettingWithCopyWarning: \n",
      "A value is trying to be set on a copy of a slice from a DataFrame.\n",
      "Try using .loc[row_indexer,col_indexer] = value instead\n",
      "\n",
      "See the caveats in the documentation: https://pandas.pydata.org/pandas-docs/stable/user_guide/indexing.html#returning-a-view-versus-a-copy\n",
      "  nvidia_related_articles['Date'] = pd.to_datetime(nvidia_related_articles['release_date'])\n"
     ]
    },
    {
     "name": "stdout",
     "output_type": "stream",
     "text": [
      "\n",
      "Filtered and Labeled Data:\n",
      "                                             content     Open    Close  \\\n",
      "0  What s happening\\nShares of Chinese electric c...  6.19475  6.13925   \n",
      "1  Gainers  NIO  NYSE NIO   14   Village Farms In...  6.19475  6.13925   \n",
      "2  Cemtrex  NASDAQ CETX   85  after FY results \\n...  6.19475  6.13925   \n",
      "3  aTyr Pharma  NASDAQ LIFE   63  on Kyorin Pharm...  5.80800  5.92650   \n",
      "4  Gainers  NIO  NYSE NIO   14   Meritor  NYSE MT...  5.77250  5.88250   \n",
      "\n",
      "        Date  target  \n",
      "0 2020-01-15       0  \n",
      "1 2020-01-15       0  \n",
      "2 2020-01-15       0  \n",
      "3 2020-01-06       1  \n",
      "4 2019-12-31       1  \n"
     ]
    },
    {
     "name": "stderr",
     "output_type": "stream",
     "text": [
      "C:\\Users\\georg\\AppData\\Local\\Temp\\ipykernel_48220\\3343991108.py:30: SettingWithCopyWarning: \n",
      "A value is trying to be set on a copy of a slice from a DataFrame.\n",
      "Try using .loc[row_indexer,col_indexer] = value instead\n",
      "\n",
      "See the caveats in the documentation: https://pandas.pydata.org/pandas-docs/stable/user_guide/indexing.html#returning-a-view-versus-a-copy\n",
      "  filtered_df['target'] = np.where(filtered_df['Open'] > filtered_df['Close'], 0, 1)\n"
     ]
    }
   ],
   "source": [
    "# Sample keywords related to NVIDIA and associated companies\n",
    "nvidia_keywords = [\n",
    "    'NVDA', 'NVIDIA', 'NIO', 'UBER', 'AMZN', 'AMAZON', 'TESLA', 'AI', 'GPU', 'GRAPHICS',\n",
    "    'CHIP', 'SEMICONDUCTOR', 'AUTONOMOUS', 'DRIVING', 'DEEP LEARNING', 'MACHINE LEARNING'\n",
    "]\n",
    "\n",
    "# Compile a regex pattern from the keywords list\n",
    "nvidia_pattern = '|'.join(nvidia_keywords)  # Combines the keywords into a regex pattern\n",
    "\n",
    "# Filter articles where the content or ticker column contains any of the keywords\n",
    "nvidia_related_articles = news_df[\n",
    "    news_df['content'].str.contains(nvidia_pattern, case=False, na=False) |\n",
    "    news_df['ticker'].str.contains(nvidia_pattern, case=False, na=False)\n",
    "]\n",
    "\n",
    "# Display the count of NVIDIA-related articles\n",
    "print(f\"\\nTotal NVIDIA-related articles found: {nvidia_related_articles.shape[0]}\")\n",
    "\n",
    "# Convert the date columns to datetime format for matching\n",
    "nvidia_related_articles['Date'] = pd.to_datetime(nvidia_related_articles['release_date'])\n",
    "stock_df['Date'] = pd.to_datetime(stock_df['Date'])\n",
    "\n",
    "# Merge filtered news data with stock prices based on publication date\n",
    "merged_df = pd.merge(nvidia_related_articles, stock_df, on='Date', how='inner')\n",
    "\n",
    "# Filter to keep only articles that have matching stock data\n",
    "filtered_df = merged_df[['content', 'Open', 'Close', 'Date']]\n",
    "\n",
    "# Label the target variable based on the opening and closing prices\n",
    "filtered_df['target'] = np.where(filtered_df['Open'] > filtered_df['Close'], 0, 1)\n",
    "\n",
    "# Display the first few rows to verify the merging and labeling\n",
    "print(\"\\nFiltered and Labeled Data:\")\n",
    "print(filtered_df.head())"
   ],
   "metadata": {
    "collapsed": false,
    "ExecuteTime": {
     "end_time": "2024-09-26T17:38:15.013855100Z",
     "start_time": "2024-09-26T17:37:29.813756300Z"
    }
   },
   "id": "5dcf915f9ba8aab8"
  },
  {
   "cell_type": "code",
   "execution_count": 7,
   "outputs": [
    {
     "name": "stdout",
     "output_type": "stream",
     "text": [
      "\n",
      "Total NVIDIA-related articles found: 3460\n",
      "\n",
      "Filtered and Labeled Data:\n",
      "                                             content     Open    Close  \\\n",
      "0  ECB Effects\\nThe move in the euro was huge  fa...  3.77750  3.73150   \n",
      "1  6 Stocks To Watch  March 6 Trading Session\\nSt...  3.90400  3.80125   \n",
      "2  Investing com   A rout in Apple and Facebook  ...  4.04475  3.61750   \n",
      "3  With 4 500 companies bringing their innovation...  6.19300  6.22325   \n",
      "4  With 4 500 companies bringing their innovation...  6.18325  6.10800   \n",
      "\n",
      "        Date  target  \n",
      "0 2019-03-07       0  \n",
      "1 2019-03-06       0  \n",
      "2 2018-11-19       0  \n",
      "3 2020-01-16       1  \n",
      "4 2020-01-10       0  \n"
     ]
    },
    {
     "name": "stderr",
     "output_type": "stream",
     "text": [
      "C:\\Users\\georg\\AppData\\Local\\Temp\\ipykernel_48220\\3072464797.py:18: SettingWithCopyWarning: \n",
      "A value is trying to be set on a copy of a slice from a DataFrame.\n",
      "Try using .loc[row_indexer,col_indexer] = value instead\n",
      "\n",
      "See the caveats in the documentation: https://pandas.pydata.org/pandas-docs/stable/user_guide/indexing.html#returning-a-view-versus-a-copy\n",
      "  nvidia_related_articles['Date'] = pd.to_datetime(nvidia_related_articles['release_date'])\n",
      "C:\\Users\\georg\\AppData\\Local\\Temp\\ipykernel_48220\\3072464797.py:28: SettingWithCopyWarning: \n",
      "A value is trying to be set on a copy of a slice from a DataFrame.\n",
      "Try using .loc[row_indexer,col_indexer] = value instead\n",
      "\n",
      "See the caveats in the documentation: https://pandas.pydata.org/pandas-docs/stable/user_guide/indexing.html#returning-a-view-versus-a-copy\n",
      "  filtered_df['target'] = np.where(filtered_df['Open'] > filtered_df['Close'], 0, 1)\n"
     ]
    }
   ],
   "source": [
    "# Sample keywords related to NVIDIA and associated companies\n",
    "nvidia_keywords = [\n",
    "    'NVDA', 'NVIDIA']\n",
    "\n",
    "# Compile a regex pattern from the keywords list\n",
    "nvidia_pattern = '|'.join(nvidia_keywords)  # Combines the keywords into a regex pattern\n",
    "\n",
    "# Filter articles where the content or ticker column contains any of the keywords\n",
    "nvidia_related_articles = news_df[\n",
    "    news_df['content'].str.contains(nvidia_pattern, case=False, na=False) |\n",
    "    news_df['ticker'].str.contains(nvidia_pattern, case=False, na=False)\n",
    "]\n",
    "\n",
    "# Display the count of NVIDIA-related articles\n",
    "print(f\"\\nTotal NVIDIA-related articles found: {nvidia_related_articles.shape[0]}\")\n",
    "\n",
    "# Convert the date columns to datetime format for matching\n",
    "nvidia_related_articles['Date'] = pd.to_datetime(nvidia_related_articles['release_date'])\n",
    "stock_df['Date'] = pd.to_datetime(stock_df['Date'])\n",
    "\n",
    "# Merge filtered news data with stock prices based on publication date\n",
    "merged_df = pd.merge(nvidia_related_articles, stock_df, on='Date', how='inner')\n",
    "\n",
    "# Filter to keep only articles that have matching stock data\n",
    "filtered_df = merged_df[['content', 'Open', 'Close', 'Date']]\n",
    "\n",
    "# Label the target variable based on the opening and closing prices\n",
    "filtered_df['target'] = np.where(filtered_df['Open'] > filtered_df['Close'], 0, 1)\n",
    "\n",
    "# Display the first few rows to verify the merging and labeling\n",
    "print(\"\\nFiltered and Labeled Data:\")\n",
    "print(filtered_df.head())"
   ],
   "metadata": {
    "collapsed": false,
    "ExecuteTime": {
     "end_time": "2024-09-26T17:38:29.401118700Z",
     "start_time": "2024-09-26T17:38:14.756629900Z"
    }
   },
   "id": "4be9193ad9e94cb6"
  },
  {
   "cell_type": "code",
   "execution_count": 8,
   "outputs": [
    {
     "name": "stdout",
     "output_type": "stream",
     "text": [
      "The number of articles before filtering is: 221513\n",
      "The number of articles after filtering is: 3111\n",
      "The average amount of words per article is: 684.115075538412\n"
     ]
    }
   ],
   "source": [
    "\n",
    "# Proceed with the rest of your analysis using filtered_df\n",
    "# Basic descriptive statistics for the news dataset\n",
    "num_articles = filtered_df.shape[0]\n",
    "average_words_per_article = filtered_df['content'].apply(lambda x: len(str(x).split())).mean()\n",
    "print(f'The number of articles before filtering is: {news_df.shape[0]}')\n",
    "print(f\"The number of articles after filtering is: {num_articles}\")\n",
    "print(f\"The average amount of words per article is: {average_words_per_article}\")"
   ],
   "metadata": {
    "collapsed": false,
    "ExecuteTime": {
     "end_time": "2024-09-26T17:38:29.520904800Z",
     "start_time": "2024-09-26T17:38:29.401118700Z"
    }
   },
   "id": "7b6b6923ce3e9dda"
  },
  {
   "cell_type": "code",
   "execution_count": 9,
   "outputs": [],
   "source": [
    "# Initialize the stemmer\n",
    "stemmer = PorterStemmer()\n"
   ],
   "metadata": {
    "collapsed": false,
    "ExecuteTime": {
     "end_time": "2024-09-26T17:38:29.520904800Z",
     "start_time": "2024-09-26T17:38:29.511610Z"
    }
   },
   "id": "e51e44e45bf69820"
  },
  {
   "cell_type": "code",
   "execution_count": 10,
   "outputs": [
    {
     "name": "stderr",
     "output_type": "stream",
     "text": [
      "C:\\Users\\georg\\AppData\\Local\\Temp\\ipykernel_48220\\501310989.py:2: SettingWithCopyWarning: \n",
      "A value is trying to be set on a copy of a slice from a DataFrame.\n",
      "Try using .loc[row_indexer,col_indexer] = value instead\n",
      "\n",
      "See the caveats in the documentation: https://pandas.pydata.org/pandas-docs/stable/user_guide/indexing.html#returning-a-view-versus-a-copy\n",
      "  filtered_df.loc[:, 'text_length'] = filtered_df['content'].apply(lambda x: len(str(x).split()))\n"
     ]
    }
   ],
   "source": [
    "\n",
    "# Tokenize content for word frequency analysis\n",
    "filtered_df.loc[:, 'text_length'] = filtered_df['content'].apply(lambda x: len(str(x).split()))"
   ],
   "metadata": {
    "collapsed": false,
    "ExecuteTime": {
     "end_time": "2024-09-26T17:38:29.638001500Z",
     "start_time": "2024-09-26T17:38:29.516907400Z"
    }
   },
   "id": "7402bb4250be5452"
  },
  {
   "cell_type": "code",
   "execution_count": 11,
   "outputs": [
    {
     "name": "stderr",
     "output_type": "stream",
     "text": [
      "C:\\Users\\georg\\AppData\\Local\\Temp\\ipykernel_48220\\2249958047.py:2: SettingWithCopyWarning: \n",
      "A value is trying to be set on a copy of a slice from a DataFrame.\n",
      "Try using .loc[row_indexer,col_indexer] = value instead\n",
      "\n",
      "See the caveats in the documentation: https://pandas.pydata.org/pandas-docs/stable/user_guide/indexing.html#returning-a-view-versus-a-copy\n",
      "  filtered_df.loc[:, 'processed_text'] = filtered_df['content'].apply(lambda x: word_tokenize(str(x).lower()))\n"
     ]
    }
   ],
   "source": [
    "# Tokenize content for word frequency analysis\n",
    "filtered_df.loc[:, 'processed_text'] = filtered_df['content'].apply(lambda x: word_tokenize(str(x).lower()))"
   ],
   "metadata": {
    "collapsed": false,
    "ExecuteTime": {
     "end_time": "2024-09-26T17:38:34.114484700Z",
     "start_time": "2024-09-26T17:38:29.641003600Z"
    }
   },
   "id": "ac2f1842fccd6c6f"
  },
  {
   "cell_type": "code",
   "execution_count": 12,
   "outputs": [
    {
     "name": "stderr",
     "output_type": "stream",
     "text": [
      "C:\\Users\\georg\\AppData\\Local\\Temp\\ipykernel_48220\\2561342159.py:4: SettingWithCopyWarning: \n",
      "A value is trying to be set on a copy of a slice from a DataFrame.\n",
      "Try using .loc[row_indexer,col_indexer] = value instead\n",
      "\n",
      "See the caveats in the documentation: https://pandas.pydata.org/pandas-docs/stable/user_guide/indexing.html#returning-a-view-versus-a-copy\n",
      "  filtered_df.loc[:, 'filtered_text'] = filtered_df['processed_text'].apply(\n"
     ]
    }
   ],
   "source": [
    "# Remove stopwords and punctuation for better NLP insights\n",
    "stop_words = set(stopwords.words('english'))\n",
    "# Remove stopwords, punctuation, and apply stemming\n",
    "filtered_df.loc[:, 'filtered_text'] = filtered_df['processed_text'].apply(\n",
    "    lambda words: [stemmer.stem(word) for word in words if word.isalpha() and word not in stop_words]\n",
    ")"
   ],
   "metadata": {
    "collapsed": false,
    "ExecuteTime": {
     "end_time": "2024-09-26T17:38:49.076703800Z",
     "start_time": "2024-09-26T17:38:34.118996700Z"
    }
   },
   "id": "97b3c4aa37604eb1"
  },
  {
   "cell_type": "code",
   "execution_count": 13,
   "outputs": [
    {
     "name": "stderr",
     "output_type": "stream",
     "text": [
      "C:\\Users\\georg\\AppData\\Local\\Temp\\ipykernel_48220\\3162904991.py:2: SettingWithCopyWarning: \n",
      "A value is trying to be set on a copy of a slice from a DataFrame.\n",
      "Try using .loc[row_indexer,col_indexer] = value instead\n",
      "\n",
      "See the caveats in the documentation: https://pandas.pydata.org/pandas-docs/stable/user_guide/indexing.html#returning-a-view-versus-a-copy\n",
      "  filtered_df.loc[:, 'filtered_text_str'] = filtered_df['filtered_text'].apply(lambda x: ' '.join(x))\n"
     ]
    }
   ],
   "source": [
    "# Join the filtered words back into strings for TF-IDF\n",
    "filtered_df.loc[:, 'filtered_text_str'] = filtered_df['filtered_text'].apply(lambda x: ' '.join(x))"
   ],
   "metadata": {
    "collapsed": false,
    "ExecuteTime": {
     "end_time": "2024-09-26T17:38:49.152302200Z",
     "start_time": "2024-09-26T17:38:49.076703800Z"
    }
   },
   "id": "66b44f28da8c3907"
  },
  {
   "cell_type": "code",
   "execution_count": 14,
   "outputs": [
    {
     "name": "stdout",
     "output_type": "stream",
     "text": [
      "\n",
      "Top 50 most common words in the news articles (after stop word removal):\n",
      "[('year', 14216), ('compani', 13370), ('stock', 13285), ('nasdaq', 13264), ('zack', 9647), ('market', 9251), ('earn', 8734), ('nvidia', 8089), ('quarter', 7579), ('share', 7469), ('revenu', 6490), ('trade', 6483), ('growth', 6354), ('expect', 6322), ('report', 5836), ('billion', 5625), ('also', 5510), ('nyse', 5420), ('technolog', 5240), ('estim', 5042), ('invest', 4788), ('like', 4624), ('new', 4551), ('rank', 4514), ('investor', 4410), ('million', 4364), ('last', 4154), ('industri', 4135), ('inc', 4013), ('price', 3935), ('buy', 3892), ('gain', 3691), ('u', 3647), ('week', 3637), ('day', 3619), ('p', 3539), ('nvda', 3537), ('time', 3462), ('one', 3421), ('product', 3421), ('data', 3380), ('high', 3302), ('top', 3209), ('strong', 3172), ('current', 3160), ('per', 3149), ('chip', 3111), ('perform', 3095), ('increas', 3054), ('see', 3014)]\n"
     ]
    }
   ],
   "source": [
    "# Frequency analysis of the most common words\n",
    "all_words = [word for content in filtered_df['filtered_text'] for word in content]\n",
    "word_freq = Counter(all_words)\n",
    "most_common_words = word_freq.most_common(50)\n",
    "\n",
    "# Display the most common words in the news dataset\n",
    "print(\"\\nTop 50 most common words in the news articles (after stop word removal):\")\n",
    "print(most_common_words)"
   ],
   "metadata": {
    "collapsed": false,
    "ExecuteTime": {
     "start_time": "2024-09-26T17:38:49.107526600Z"
    }
   },
   "id": "5f19f39bc42742c2"
  },
  {
   "cell_type": "code",
   "execution_count": 15,
   "outputs": [],
   "source": [
    "# TF-IDF Representation of Documents using the processed and filtered text\n",
    "vectorizer = TfidfVectorizer(stop_words='english', max_features=500)  # Reduced max features\n",
    "tfidf_matrix = vectorizer.fit_transform(filtered_df['filtered_text_str'])"
   ],
   "metadata": {
    "collapsed": false,
    "ExecuteTime": {
     "start_time": "2024-09-26T17:38:49.311582Z"
    }
   },
   "id": "39c97be83f5a150b"
  },
  {
   "cell_type": "code",
   "execution_count": 16,
   "outputs": [
    {
     "data": {
      "text/plain": "LogisticRegression(max_iter=1000)",
      "text/html": "<style>#sk-container-id-1 {\n  /* Definition of color scheme common for light and dark mode */\n  --sklearn-color-text: black;\n  --sklearn-color-line: gray;\n  /* Definition of color scheme for unfitted estimators */\n  --sklearn-color-unfitted-level-0: #fff5e6;\n  --sklearn-color-unfitted-level-1: #f6e4d2;\n  --sklearn-color-unfitted-level-2: #ffe0b3;\n  --sklearn-color-unfitted-level-3: chocolate;\n  /* Definition of color scheme for fitted estimators */\n  --sklearn-color-fitted-level-0: #f0f8ff;\n  --sklearn-color-fitted-level-1: #d4ebff;\n  --sklearn-color-fitted-level-2: #b3dbfd;\n  --sklearn-color-fitted-level-3: cornflowerblue;\n\n  /* Specific color for light theme */\n  --sklearn-color-text-on-default-background: var(--sg-text-color, var(--theme-code-foreground, var(--jp-content-font-color1, black)));\n  --sklearn-color-background: var(--sg-background-color, var(--theme-background, var(--jp-layout-color0, white)));\n  --sklearn-color-border-box: var(--sg-text-color, var(--theme-code-foreground, var(--jp-content-font-color1, black)));\n  --sklearn-color-icon: #696969;\n\n  @media (prefers-color-scheme: dark) {\n    /* Redefinition of color scheme for dark theme */\n    --sklearn-color-text-on-default-background: var(--sg-text-color, var(--theme-code-foreground, var(--jp-content-font-color1, white)));\n    --sklearn-color-background: var(--sg-background-color, var(--theme-background, var(--jp-layout-color0, #111)));\n    --sklearn-color-border-box: var(--sg-text-color, var(--theme-code-foreground, var(--jp-content-font-color1, white)));\n    --sklearn-color-icon: #878787;\n  }\n}\n\n#sk-container-id-1 {\n  color: var(--sklearn-color-text);\n}\n\n#sk-container-id-1 pre {\n  padding: 0;\n}\n\n#sk-container-id-1 input.sk-hidden--visually {\n  border: 0;\n  clip: rect(1px 1px 1px 1px);\n  clip: rect(1px, 1px, 1px, 1px);\n  height: 1px;\n  margin: -1px;\n  overflow: hidden;\n  padding: 0;\n  position: absolute;\n  width: 1px;\n}\n\n#sk-container-id-1 div.sk-dashed-wrapped {\n  border: 1px dashed var(--sklearn-color-line);\n  margin: 0 0.4em 0.5em 0.4em;\n  box-sizing: border-box;\n  padding-bottom: 0.4em;\n  background-color: var(--sklearn-color-background);\n}\n\n#sk-container-id-1 div.sk-container {\n  /* jupyter's `normalize.less` sets `[hidden] { display: none; }`\n     but bootstrap.min.css set `[hidden] { display: none !important; }`\n     so we also need the `!important` here to be able to override the\n     default hidden behavior on the sphinx rendered scikit-learn.org.\n     See: https://github.com/scikit-learn/scikit-learn/issues/21755 */\n  display: inline-block !important;\n  position: relative;\n}\n\n#sk-container-id-1 div.sk-text-repr-fallback {\n  display: none;\n}\n\ndiv.sk-parallel-item,\ndiv.sk-serial,\ndiv.sk-item {\n  /* draw centered vertical line to link estimators */\n  background-image: linear-gradient(var(--sklearn-color-text-on-default-background), var(--sklearn-color-text-on-default-background));\n  background-size: 2px 100%;\n  background-repeat: no-repeat;\n  background-position: center center;\n}\n\n/* Parallel-specific style estimator block */\n\n#sk-container-id-1 div.sk-parallel-item::after {\n  content: \"\";\n  width: 100%;\n  border-bottom: 2px solid var(--sklearn-color-text-on-default-background);\n  flex-grow: 1;\n}\n\n#sk-container-id-1 div.sk-parallel {\n  display: flex;\n  align-items: stretch;\n  justify-content: center;\n  background-color: var(--sklearn-color-background);\n  position: relative;\n}\n\n#sk-container-id-1 div.sk-parallel-item {\n  display: flex;\n  flex-direction: column;\n}\n\n#sk-container-id-1 div.sk-parallel-item:first-child::after {\n  align-self: flex-end;\n  width: 50%;\n}\n\n#sk-container-id-1 div.sk-parallel-item:last-child::after {\n  align-self: flex-start;\n  width: 50%;\n}\n\n#sk-container-id-1 div.sk-parallel-item:only-child::after {\n  width: 0;\n}\n\n/* Serial-specific style estimator block */\n\n#sk-container-id-1 div.sk-serial {\n  display: flex;\n  flex-direction: column;\n  align-items: center;\n  background-color: var(--sklearn-color-background);\n  padding-right: 1em;\n  padding-left: 1em;\n}\n\n\n/* Toggleable style: style used for estimator/Pipeline/ColumnTransformer box that is\nclickable and can be expanded/collapsed.\n- Pipeline and ColumnTransformer use this feature and define the default style\n- Estimators will overwrite some part of the style using the `sk-estimator` class\n*/\n\n/* Pipeline and ColumnTransformer style (default) */\n\n#sk-container-id-1 div.sk-toggleable {\n  /* Default theme specific background. It is overwritten whether we have a\n  specific estimator or a Pipeline/ColumnTransformer */\n  background-color: var(--sklearn-color-background);\n}\n\n/* Toggleable label */\n#sk-container-id-1 label.sk-toggleable__label {\n  cursor: pointer;\n  display: block;\n  width: 100%;\n  margin-bottom: 0;\n  padding: 0.5em;\n  box-sizing: border-box;\n  text-align: center;\n}\n\n#sk-container-id-1 label.sk-toggleable__label-arrow:before {\n  /* Arrow on the left of the label */\n  content: \"▸\";\n  float: left;\n  margin-right: 0.25em;\n  color: var(--sklearn-color-icon);\n}\n\n#sk-container-id-1 label.sk-toggleable__label-arrow:hover:before {\n  color: var(--sklearn-color-text);\n}\n\n/* Toggleable content - dropdown */\n\n#sk-container-id-1 div.sk-toggleable__content {\n  max-height: 0;\n  max-width: 0;\n  overflow: hidden;\n  text-align: left;\n  /* unfitted */\n  background-color: var(--sklearn-color-unfitted-level-0);\n}\n\n#sk-container-id-1 div.sk-toggleable__content.fitted {\n  /* fitted */\n  background-color: var(--sklearn-color-fitted-level-0);\n}\n\n#sk-container-id-1 div.sk-toggleable__content pre {\n  margin: 0.2em;\n  border-radius: 0.25em;\n  color: var(--sklearn-color-text);\n  /* unfitted */\n  background-color: var(--sklearn-color-unfitted-level-0);\n}\n\n#sk-container-id-1 div.sk-toggleable__content.fitted pre {\n  /* unfitted */\n  background-color: var(--sklearn-color-fitted-level-0);\n}\n\n#sk-container-id-1 input.sk-toggleable__control:checked~div.sk-toggleable__content {\n  /* Expand drop-down */\n  max-height: 200px;\n  max-width: 100%;\n  overflow: auto;\n}\n\n#sk-container-id-1 input.sk-toggleable__control:checked~label.sk-toggleable__label-arrow:before {\n  content: \"▾\";\n}\n\n/* Pipeline/ColumnTransformer-specific style */\n\n#sk-container-id-1 div.sk-label input.sk-toggleable__control:checked~label.sk-toggleable__label {\n  color: var(--sklearn-color-text);\n  background-color: var(--sklearn-color-unfitted-level-2);\n}\n\n#sk-container-id-1 div.sk-label.fitted input.sk-toggleable__control:checked~label.sk-toggleable__label {\n  background-color: var(--sklearn-color-fitted-level-2);\n}\n\n/* Estimator-specific style */\n\n/* Colorize estimator box */\n#sk-container-id-1 div.sk-estimator input.sk-toggleable__control:checked~label.sk-toggleable__label {\n  /* unfitted */\n  background-color: var(--sklearn-color-unfitted-level-2);\n}\n\n#sk-container-id-1 div.sk-estimator.fitted input.sk-toggleable__control:checked~label.sk-toggleable__label {\n  /* fitted */\n  background-color: var(--sklearn-color-fitted-level-2);\n}\n\n#sk-container-id-1 div.sk-label label.sk-toggleable__label,\n#sk-container-id-1 div.sk-label label {\n  /* The background is the default theme color */\n  color: var(--sklearn-color-text-on-default-background);\n}\n\n/* On hover, darken the color of the background */\n#sk-container-id-1 div.sk-label:hover label.sk-toggleable__label {\n  color: var(--sklearn-color-text);\n  background-color: var(--sklearn-color-unfitted-level-2);\n}\n\n/* Label box, darken color on hover, fitted */\n#sk-container-id-1 div.sk-label.fitted:hover label.sk-toggleable__label.fitted {\n  color: var(--sklearn-color-text);\n  background-color: var(--sklearn-color-fitted-level-2);\n}\n\n/* Estimator label */\n\n#sk-container-id-1 div.sk-label label {\n  font-family: monospace;\n  font-weight: bold;\n  display: inline-block;\n  line-height: 1.2em;\n}\n\n#sk-container-id-1 div.sk-label-container {\n  text-align: center;\n}\n\n/* Estimator-specific */\n#sk-container-id-1 div.sk-estimator {\n  font-family: monospace;\n  border: 1px dotted var(--sklearn-color-border-box);\n  border-radius: 0.25em;\n  box-sizing: border-box;\n  margin-bottom: 0.5em;\n  /* unfitted */\n  background-color: var(--sklearn-color-unfitted-level-0);\n}\n\n#sk-container-id-1 div.sk-estimator.fitted {\n  /* fitted */\n  background-color: var(--sklearn-color-fitted-level-0);\n}\n\n/* on hover */\n#sk-container-id-1 div.sk-estimator:hover {\n  /* unfitted */\n  background-color: var(--sklearn-color-unfitted-level-2);\n}\n\n#sk-container-id-1 div.sk-estimator.fitted:hover {\n  /* fitted */\n  background-color: var(--sklearn-color-fitted-level-2);\n}\n\n/* Specification for estimator info (e.g. \"i\" and \"?\") */\n\n/* Common style for \"i\" and \"?\" */\n\n.sk-estimator-doc-link,\na:link.sk-estimator-doc-link,\na:visited.sk-estimator-doc-link {\n  float: right;\n  font-size: smaller;\n  line-height: 1em;\n  font-family: monospace;\n  background-color: var(--sklearn-color-background);\n  border-radius: 1em;\n  height: 1em;\n  width: 1em;\n  text-decoration: none !important;\n  margin-left: 1ex;\n  /* unfitted */\n  border: var(--sklearn-color-unfitted-level-1) 1pt solid;\n  color: var(--sklearn-color-unfitted-level-1);\n}\n\n.sk-estimator-doc-link.fitted,\na:link.sk-estimator-doc-link.fitted,\na:visited.sk-estimator-doc-link.fitted {\n  /* fitted */\n  border: var(--sklearn-color-fitted-level-1) 1pt solid;\n  color: var(--sklearn-color-fitted-level-1);\n}\n\n/* On hover */\ndiv.sk-estimator:hover .sk-estimator-doc-link:hover,\n.sk-estimator-doc-link:hover,\ndiv.sk-label-container:hover .sk-estimator-doc-link:hover,\n.sk-estimator-doc-link:hover {\n  /* unfitted */\n  background-color: var(--sklearn-color-unfitted-level-3);\n  color: var(--sklearn-color-background);\n  text-decoration: none;\n}\n\ndiv.sk-estimator.fitted:hover .sk-estimator-doc-link.fitted:hover,\n.sk-estimator-doc-link.fitted:hover,\ndiv.sk-label-container:hover .sk-estimator-doc-link.fitted:hover,\n.sk-estimator-doc-link.fitted:hover {\n  /* fitted */\n  background-color: var(--sklearn-color-fitted-level-3);\n  color: var(--sklearn-color-background);\n  text-decoration: none;\n}\n\n/* Span, style for the box shown on hovering the info icon */\n.sk-estimator-doc-link span {\n  display: none;\n  z-index: 9999;\n  position: relative;\n  font-weight: normal;\n  right: .2ex;\n  padding: .5ex;\n  margin: .5ex;\n  width: min-content;\n  min-width: 20ex;\n  max-width: 50ex;\n  color: var(--sklearn-color-text);\n  box-shadow: 2pt 2pt 4pt #999;\n  /* unfitted */\n  background: var(--sklearn-color-unfitted-level-0);\n  border: .5pt solid var(--sklearn-color-unfitted-level-3);\n}\n\n.sk-estimator-doc-link.fitted span {\n  /* fitted */\n  background: var(--sklearn-color-fitted-level-0);\n  border: var(--sklearn-color-fitted-level-3);\n}\n\n.sk-estimator-doc-link:hover span {\n  display: block;\n}\n\n/* \"?\"-specific style due to the `<a>` HTML tag */\n\n#sk-container-id-1 a.estimator_doc_link {\n  float: right;\n  font-size: 1rem;\n  line-height: 1em;\n  font-family: monospace;\n  background-color: var(--sklearn-color-background);\n  border-radius: 1rem;\n  height: 1rem;\n  width: 1rem;\n  text-decoration: none;\n  /* unfitted */\n  color: var(--sklearn-color-unfitted-level-1);\n  border: var(--sklearn-color-unfitted-level-1) 1pt solid;\n}\n\n#sk-container-id-1 a.estimator_doc_link.fitted {\n  /* fitted */\n  border: var(--sklearn-color-fitted-level-1) 1pt solid;\n  color: var(--sklearn-color-fitted-level-1);\n}\n\n/* On hover */\n#sk-container-id-1 a.estimator_doc_link:hover {\n  /* unfitted */\n  background-color: var(--sklearn-color-unfitted-level-3);\n  color: var(--sklearn-color-background);\n  text-decoration: none;\n}\n\n#sk-container-id-1 a.estimator_doc_link.fitted:hover {\n  /* fitted */\n  background-color: var(--sklearn-color-fitted-level-3);\n}\n</style><div id=\"sk-container-id-1\" class=\"sk-top-container\"><div class=\"sk-text-repr-fallback\"><pre>LogisticRegression(max_iter=1000)</pre><b>In a Jupyter environment, please rerun this cell to show the HTML representation or trust the notebook. <br />On GitHub, the HTML representation is unable to render, please try loading this page with nbviewer.org.</b></div><div class=\"sk-container\" hidden><div class=\"sk-item\"><div class=\"sk-estimator fitted sk-toggleable\"><input class=\"sk-toggleable__control sk-hidden--visually\" id=\"sk-estimator-id-1\" type=\"checkbox\" checked><label for=\"sk-estimator-id-1\" class=\"sk-toggleable__label fitted sk-toggleable__label-arrow fitted\">&nbsp;&nbsp;LogisticRegression<a class=\"sk-estimator-doc-link fitted\" rel=\"noreferrer\" target=\"_blank\" href=\"https://scikit-learn.org/1.5/modules/generated/sklearn.linear_model.LogisticRegression.html\">?<span>Documentation for LogisticRegression</span></a><span class=\"sk-estimator-doc-link fitted\">i<span>Fitted</span></span></label><div class=\"sk-toggleable__content fitted\"><pre>LogisticRegression(max_iter=1000)</pre></div> </div></div></div></div>"
     },
     "execution_count": 16,
     "metadata": {},
     "output_type": "execute_result"
    }
   ],
   "source": [
    "# Train a linear classifier (e.g., Logistic Regression) on the TF-IDF matrix\n",
    "clf = LogisticRegression(max_iter=1000)\n",
    "clf.fit(tfidf_matrix, filtered_df['target'])"
   ],
   "metadata": {
    "collapsed": false,
    "ExecuteTime": {
     "start_time": "2024-09-26T17:38:50.007980Z"
    }
   },
   "id": "a3641afa9e9ce6ef"
  },
  {
   "cell_type": "code",
   "execution_count": 17,
   "outputs": [
    {
     "name": "stdout",
     "output_type": "stream",
     "text": [
      "\n",
      "Top 20 Words Indicative of Class 0 (Stock Price Down):\n",
      "fell beat cent signific test work today project expand net declin fear stream pay gross soar use grow rise appli\n",
      "\n",
      "Top 20 Words Indicative of Class 1 (Stock Price Up):\n",
      "micro video oper pressur processor chip session total biggest deliv center ep global electron mark trader remain esp cash rose\n"
     ]
    }
   ],
   "source": [
    "def print_top_features(vectorizer, coef):\n",
    "    \"\"\"Prints features with the highest coefficient values for binary classification.\"\"\"\n",
    "    feature_names = vectorizer.get_feature_names_out()\n",
    "    \n",
    "    # Top 20 features with the most negative coefficients (indicative of Class 0)\n",
    "    top_features_class_0 = np.argsort(coef)[:20]\n",
    "    print(\"\\nTop 20 Words Indicative of Class 0 (Stock Price Down):\")\n",
    "    print(\" \".join(feature_names[j] for j in top_features_class_0))\n",
    "    \n",
    "    # Top 20 features with the most positive coefficients (indicative of Class 1)\n",
    "    top_features_class_1 = np.argsort(coef)[-20:]\n",
    "    print(\"\\nTop 20 Words Indicative of Class 1 (Stock Price Up):\")\n",
    "    print(\" \".join(feature_names[j] for j in top_features_class_1))\n",
    "    \n",
    "    return top_features_class_0, top_features_class_1\n",
    "\n",
    "# Extract the coefficients from the classifier\n",
    "coef = clf.coef_[0]\n",
    "\n",
    "# Print the most informative features and get the indices for visualization\n",
    "top_features_class_0, top_features_class_1 = print_top_features(vectorizer, coef)"
   ],
   "metadata": {
    "collapsed": false,
    "ExecuteTime": {
     "end_time": "2024-09-26T17:38:50.085671Z",
     "start_time": "2024-09-26T17:38:50.061554700Z"
    }
   },
   "id": "7714dd5668949bf9"
  },
  {
   "cell_type": "code",
   "execution_count": 18,
   "outputs": [
    {
     "data": {
      "text/plain": "<Figure size 1200x600 with 1 Axes>",
      "image/png": "[encoded data removed]"
     },
     "metadata": {},
     "output_type": "display_data"
    }
   ],
   "source": [
    "\n",
    "# Visualize the top features for Class 0 (Stock Price Down)\n",
    "plt.figure(figsize=(12, 6))\n",
    "plt.barh([vectorizer.get_feature_names_out()[i] for i in top_features_class_0], coef[top_features_class_0], color='blue')\n",
    "plt.title('Top 20 Words Indicative of Class 0 (Stock Price Down)')\n",
    "plt.xlabel('Coefficient Value')\n",
    "plt.gca().invert_yaxis()\n",
    "plt.show()\n",
    "\n"
   ],
   "metadata": {
    "collapsed": false,
    "ExecuteTime": {
     "end_time": "2024-09-26T17:38:50.380771200Z",
     "start_time": "2024-09-26T17:38:50.070548600Z"
    }
   },
   "id": "d2d3f37640ecac20"
  },
  {
   "cell_type": "code",
   "execution_count": 19,
   "outputs": [
    {
     "data": {
      "text/plain": "<Figure size 1200x600 with 1 Axes>",
      "image/png": "[encoded data removed]"
     },
     "metadata": {},
     "output_type": "display_data"
    }
   ],
   "source": [
    "# Visualize the top features for Class 1 (Stock Price Up)\n",
    "plt.figure(figsize=(12, 6))\n",
    "plt.barh([vectorizer.get_feature_names_out()[i] for i in top_features_class_1], coef[top_features_class_1], color='green')\n",
    "plt.title('Top 20 Words Indicative of Class 1 (Stock Price Up)')\n",
    "plt.xlabel('Coefficient Value')\n",
    "plt.gca().invert_yaxis()\n",
    "plt.show()"
   ],
   "metadata": {
    "collapsed": false,
    "ExecuteTime": {
     "end_time": "2024-09-26T17:38:50.594665600Z",
     "start_time": "2024-09-26T17:38:50.419055200Z"
    }
   },
   "id": "28cfee47da5d4c43"
  },
  {
   "cell_type": "code",
   "execution_count": 23,
   "outputs": [],
   "source": [
    "# Compute cosine similarity matrix, which measures the similarity between documents\n",
    "# Source: https://medium.com/@anurag-jain/tf-idf-vectorization-with-cosine-similarity-eca3386d4423\n",
    "\n",
    "similarity_matrix = cosine_similarity(tfidf_matrix)\n",
    "\n",
    "# Convert similarity matrix to a DataFrame for easier handling\n",
    "similarity_df = pd.DataFrame(similarity_matrix)"
   ],
   "metadata": {
    "collapsed": false,
    "ExecuteTime": {
     "end_time": "2024-09-26T18:03:12.132086800Z",
     "start_time": "2024-09-26T18:03:11.458195100Z"
    }
   },
   "id": "d4af967ebd53229d"
  },
  {
   "cell_type": "code",
   "execution_count": 24,
   "outputs": [],
   "source": [
    "# Find indices of the most and least similar documents (excluding self-similarity)\n",
    "np.fill_diagonal(similarity_matrix, 0)\n",
    "most_similar_indices = np.unravel_index(np.argmax(similarity_matrix, axis=None), similarity_matrix.shape)\n",
    "least_similar_indices = np.unravel_index(np.argmin(similarity_matrix, axis=None), similarity_matrix.shape)"
   ],
   "metadata": {
    "collapsed": false,
    "ExecuteTime": {
     "end_time": "2024-09-26T18:03:43.481717700Z",
     "start_time": "2024-09-26T18:03:43.429090500Z"
    }
   },
   "id": "837f837323be0d03"
  },
  {
   "cell_type": "code",
   "execution_count": 25,
   "outputs": [
    {
     "name": "stdout",
     "output_type": "stream",
     "text": [
      "\n",
      "Most Similar Documents:\n",
      "\n",
      "Document 1:\n",
      "Screen Criteria  All of these Electronics stocks have seen revenues rise faster than accounts receivables during the most recent quarter  Ranking of This List  Contextuall com tracks the performance of a wide variety of company characteristics  Based on performance data over the last month  this list below is currently ranked 281 out of 284 lists  In other words  the company characteristics described below have outperformed 1 06  of lists in Contextuall s coverage universe  Average Weekly Returns  Average 1 Week Return of All Stocks Mentioned Below   1 99  Average 1 Month Return of All Stocks Mentioned Below  2 41  Analysis of List Alpha  Number of Stocks in This List Generating Excess Return vs  SP500  Beta Adjusted Over Last Week   2 out of 4  50 0   Number of Stocks in This List Generating Excess Return vs  SP500  Beta Adjusted Over Last Month   0 out of 4  0 0    List sorted by monthly performance  from best to worst  1  Power One Inc   PWER   Designs  manufactures  and markets power conversion and power management solutions for the renewable energy  RE   communications infrastructure  and other technology markets  Revenues increased by 15 76  during the most recent quarter   283 65M vs   245 03M y y   while the size of accounts receivable changed by 7 98    256 83M vs   237 84M y y   Receivables  as a percentage of current assets  decreased from 39 81  to 34 42  during the most recent quarter  time interval comparison 13 weeks ending 2012 09 30 to 13 weeks ending 2011 10 02     2  Silicon Motion Technology Corp   SIMO   Operates as a fabless semiconductor company  Revenues increased by 21 91  during the most recent quarter   77 07M vs   63 22M y y   while the size of accounts receivable changed by 5 41    37 59M vs   35 66M y y   Receivables  as a percentage of current assets  decreased from 23 11  to 15 53  during the most recent quarter  time interval comparison 3 months ending 2012 09 30 to 3 months ending 2011 09 30     3  Acuity Brands  AYI   Engages in the design  production  and distribution of lighting fixtures  lighting controls  and related products and services in North America and internationally  Revenues increased by 3 61  during the most recent quarter   514 2M vs   496 3M y y   while the size of accounts receivable changed by 0 46    263 8M vs   262 6M y y   Receivables  as a percentage of current assets  decreased from 41 65  to 33 86  during the most recent quarter  time interval comparison 3 months ending 2012 08 31 to 3 months ending 2011 08 31     4  Cogo Group  COGO   Provides customized module design solutions  focusing on the digital media  telecommunications equipment  and industrial business end markets in China  Revenues increased by 45 65  during the most recent quarter   1 360 3M vs   933 92M y y   while the size of accounts receivable changed by  5 85    978 61M vs   1 039 46M y y   Receivables  as a percentage of current assets  decreased from 43 47  to 39 8  during the most recent quarter  time interval comparison 3 months ending 2012 09 30 to 3 months ending 2011 09 30  \n",
      "\n",
      "Document 2:\n",
      "FTI Consulting  Inc    NYSE FCN   announced that its FTI Technology segment will provide its business partner  Relativity s e discovery software solutions in the U K  Relativity s cloud based platform  RelativityOne  will assist FTI Technology s clients to quickly start a new e discovery matter within the Relativity interface apart from leveraging the latter s consulting and services expertise  FTI Technology presently offers Relativity to clients in the U K  aiming to expand its addressable market by offering clients one more way to quickly scale and manage their global e discovery needs across Europe  FTI Technology is recognized as a leading provider of high quality e discovery consulting and services that span the entire discovery process  It helps clients to develop policies while deploying technology and executing entire programs The company s experts are well experienced in managing data requirements within highly regulated industries and leading discovery efforts  As part of this  FTI Technology provides clients with a wide choice of technology and service options to meet their needs  The company differentiates its Relativity technology offering by utilizing expert workflows and advanced analytics to reduce the cost and complexity of large e discovery matters  The company continues to provide its clients with an enhanced Relativity solution that can leverage its own technology and add ons from software partners  With such strategic partnership initiatives  the company is likely to enhance its growth potential Other than offering Relativity in the U K   the company provides European and global clients with another secure method to quickly set up a case irrespective of the size and manage it in accordance with local data privacy requirements  It maintains a team of highly qualified professionals  who provide technology services to major corporations  financial institutions and law firms globally FTI Consulting has outperformed the  in the last three months with a return of 12 7  compared with growth of 8 5  for the latter  Other stocks in the industry include CRA International  Inc    NASDAQ CRAI    CBIZ  Inc    NYSE CBZ   and Exponent  Inc    NASDAQ EXPO   CRA trumped estimates in three of the trailing four quarters  the average being 28  CBIZ trumped estimates in three of the trailing four quarters  the average being 75  Exponent trumped estimates in three of the trailing four quarters with an average of 12 4   The Hottest Tech Mega Trend of AllLast year  it generated  8 billion in global revenues  By 2020  it s predicted to blast through the roof to  47 billion  Famed investor Mark Cuban says it will produce  the world s first trillionaires   but that should still leave plenty of money for regular investors who make the right trades early \n"
     ]
    }
   ],
   "source": [
    "\n",
    "# Inspect the most similar documents\n",
    "similar_doc_1 = news_df.iloc[most_similar_indices[0]]\n",
    "similar_doc_2 = news_df.iloc[most_similar_indices[1]]\n",
    "\n",
    "print(\"\\nMost Similar Documents:\\n\")\n",
    "print(\"Document 1:\")\n",
    "print(similar_doc_1['content'])\n",
    "print(\"\\nDocument 2:\")\n",
    "print(similar_doc_2['content'])"
   ],
   "metadata": {
    "collapsed": false,
    "ExecuteTime": {
     "end_time": "2024-09-26T18:04:04.603064200Z",
     "start_time": "2024-09-26T18:04:04.479199600Z"
    }
   },
   "id": "32f0feff738d2df1"
  },
  {
   "cell_type": "code",
   "execution_count": 26,
   "outputs": [
    {
     "name": "stdout",
     "output_type": "stream",
     "text": [
      "\n",
      "\n",
      "Most Dissimilar Documents:\n",
      "\n",
      "Document 1:\n",
      "What s happening\n",
      "Shares of Chinese electric car maker NIO  NYSE NIO  were sharply higher on Wednesday morning after a Chinese business news outlet reported that the cash strapped company had secured new financing from a major automaker  As of 12 p m  EST  NIO s American depositary shares  ADS  were up about 16  from Tuesday s closing price \n",
      "So what\n",
      "According to a report from Chinese business news site Sina Finance that cites a person familiar with the matter  NIO will soon receive a cash infusion of about  1 billion from Guangzhou based GAC Group  OTC GNZUF    At press time  neither NIO nor GAC had confirmed    or denied    the report  \n",
      "\n",
      "GAC is one of China s big domestic automakers  It has significant joint ventures with Honda Motor and Fiat Chrysler Automobiles  among others  If GAC has in fact decided to make a major investment in NIO    and as of now  neither company has confirmed the report    then NIO s future is bright  \n",
      "That s an important development  In its 15 months as a public company  NIO has seen rising sales and strong customer loyalty  but its rapidly declining cash has called its future into question  As of Sept  30  the company had just  274 3 million remaining  down from  1 123 billion on March 31 \n",
      "Now what\n",
      "If this report is accurate and if the deal closes  then it s extremely bullish for NIO    but I think that auto investors should tread a bit carefully here  Note that an earlier bailout deal fell through at the last minute because of concerns about the company s viability  Use caution with this one \n",
      "\n",
      "Document 2:\n",
      "What s happening\n",
      "Shares of Chinese electric car maker NIO  NYSE NIO  were sharply higher on Wednesday morning after a Chinese business news outlet reported that the cash strapped company had secured new financing from a major automaker  As of 12 p m  EST  NIO s American depositary shares  ADS  were up about 16  from Tuesday s closing price \n",
      "So what\n",
      "According to a report from Chinese business news site Sina Finance that cites a person familiar with the matter  NIO will soon receive a cash infusion of about  1 billion from Guangzhou based GAC Group  OTC GNZUF    At press time  neither NIO nor GAC had confirmed    or denied    the report  \n",
      "\n",
      "GAC is one of China s big domestic automakers  It has significant joint ventures with Honda Motor and Fiat Chrysler Automobiles  among others  If GAC has in fact decided to make a major investment in NIO    and as of now  neither company has confirmed the report    then NIO s future is bright  \n",
      "That s an important development  In its 15 months as a public company  NIO has seen rising sales and strong customer loyalty  but its rapidly declining cash has called its future into question  As of Sept  30  the company had just  274 3 million remaining  down from  1 123 billion on March 31 \n",
      "Now what\n",
      "If this report is accurate and if the deal closes  then it s extremely bullish for NIO    but I think that auto investors should tread a bit carefully here  Note that an earlier bailout deal fell through at the last minute because of concerns about the company s viability  Use caution with this one \n"
     ]
    }
   ],
   "source": [
    "\n",
    "# Inspect the least similar documents\n",
    "dissimilar_doc_1 = news_df.iloc[least_similar_indices[0]]\n",
    "dissimilar_doc_2 = news_df.iloc[least_similar_indices[1]]\n",
    "\n",
    "print(\"\\n\\nMost Dissimilar Documents:\\n\")\n",
    "print(\"Document 1:\")\n",
    "print(dissimilar_doc_1['content'])\n",
    "print(\"\\nDocument 2:\")\n",
    "print(dissimilar_doc_2['content'])\n",
    "\n"
   ],
   "metadata": {
    "collapsed": false,
    "ExecuteTime": {
     "end_time": "2024-09-26T18:04:22.490597400Z",
     "start_time": "2024-09-26T18:04:22.459342900Z"
    }
   },
   "id": "cfaa98190bb1d23a"
  },
  {
   "cell_type": "code",
   "execution_count": 69,
   "outputs": [
    {
     "name": "stdout",
     "output_type": "stream",
     "text": [
      "Shape of tfidf_matrix: (57017, 1024)\n",
      "Number of non-zero elements: 11605779\n",
      "Sparsity: 80.12%\n"
     ]
    }
   ],
   "source": [
    "#Source: https://scikit-learn.org/stable/modules/feature_extraction.html#vectorizing-a-large-text-corpus-with-the-hashing-trick\n",
    "# Source: https://stackoverflow.com/questions/17536394/how-can-i-reduce-memory-usage-of-scikit-learn-vectorizers\n",
    "# Reasoning is that TFIDF Vectorizer create very sparse matrix, which resulted in a 284GB matrix that needed to be held in memory in order to process it.\n",
    "# Initialize HashingVectorizer with a reasonable number of features\n",
    "hash_vectorizer = HashingVectorizer(n_features=2**10, alternate_sign=False, norm=None)\n",
    "\n",
    "# Transform the text data into hashed feature space using the string format\n",
    "hashed_matrix = hash_vectorizer.transform(filtered_df['filtered_text_str'])\n",
    "\n",
    "# Apply TfidfTransformer to add IDF weighting\n",
    "tfidf_transformer = TfidfTransformer()\n",
    "tfidf_matrix = tfidf_transformer.fit_transform(hashed_matrix)\n",
    "\n",
    "# Check the shape and sparsity of the transformed TF-IDF matrix\n",
    "print(f\"Shape of tfidf_matrix: {tfidf_matrix.shape}\")\n",
    "print(f\"Number of non-zero elements: {tfidf_matrix.nnz}\")\n",
    "print(f\"Sparsity: {(1 - (tfidf_matrix.nnz / (tfidf_matrix.shape[0] * tfidf_matrix.shape[1]))) * 100:.2f}%\")\n"
   ],
   "metadata": {
    "collapsed": false,
    "ExecuteTime": {
     "start_time": "2024-09-26T13:11:31.479683300Z"
    }
   },
   "id": "a09a5940f8903050"
  },
  {
   "cell_type": "code",
   "execution_count": null,
   "outputs": [],
   "source": [
    "# Compute cosine similarity matrix, which measures the similarity between documents\n",
    "# Source: https://medium.com/@anurag-jain/tf-idf-vectorization-with-cosine-similarity-eca3386d4423\n",
    "similarity_matrix = cosine_similarity(tfidf_matrix)"
   ],
   "metadata": {
    "collapsed": false,
    "is_executing": true,
    "ExecuteTime": {
     "start_time": "2024-09-26T13:11:50.854615900Z"
    }
   },
   "id": "126408cb8e0e8aa6"
  },
  {
   "cell_type": "markdown",
   "source": [
    "# Use TfidfVectorizer with min_df and ngram_range to reduce dimensionality\n",
    "vectorizer = TfidfVectorizer(\n",
    "    lowercase = False,  # Do not convert to lowercase,because it is already converted\n",
    "    min_df = 2,  # Ignore terms that appear in less than 2 documents\n",
    "    ngram_range=(1, 2),  # Consider both unigrams and bigrams\n",
    "    max_features=10000,  # Further limit the size of the vocabulary\n",
    ")\n",
    "\n",
    "# Fit and transform the text data\n",
    "#tfidf_matrix = vectorizer.fit_transform(filtered_df['filtered_text_str'])"
   ],
   "metadata": {
    "collapsed": false
   },
   "id": "ee15a6a06bae146e"
  },
  {
   "cell_type": "code",
   "execution_count": 28,
   "outputs": [],
   "source": [
    "vectorizer = TfidfVectorizer(\n",
    "    max_df=0.5,\n",
    "    min_df=5,\n",
    "    max_features=10,\n",
    "    stop_words=\"english\",\n",
    ")\n",
    "# Fit and transform the text data\n",
    "tfidf_matrix = vectorizer.fit_transform(filtered_df['filtered_text_str'])"
   ],
   "metadata": {
    "collapsed": false,
    "ExecuteTime": {
     "start_time": "2024-09-26T10:46:52.927068900Z"
    }
   },
   "id": "e0d045cadb22031d"
  },
  {
   "cell_type": "code",
   "execution_count": 29,
   "outputs": [
    {
     "name": "stdout",
     "output_type": "stream",
     "text": [
      "\n",
      "Top 20 Words Indicative of Class 0 (Stock Price Down):\n",
      "million stocks zacks said growth stock quarter billion earnings rank\n",
      "\n",
      "Top 20 Words Indicative of Class 1 (Stock Price Up):\n",
      "million stocks zacks said growth stock quarter billion earnings rank\n"
     ]
    }
   ],
   "source": [
    "\n",
    "# Train a simple logistic regression model for demonstration\n",
    "clf = LogisticRegression(max_iter=1000)\n",
    "clf.fit(tfidf_matrix, filtered_df['target'])\n",
    "\n",
    "# Function to print top informative features for binary classification\n",
    "def print_top_features(vectorizer, clf, top_n=20):\n",
    "    \"\"\"Prints the top n informative features for each class using model coefficients.\"\"\"\n",
    "    feature_names = vectorizer.get_feature_names_out()\n",
    "    coef = clf.coef_[0]  # Use the first (and only) set of coefficients for binary classification\n",
    "    \n",
    "    # Top features with the most negative coefficients (indicative of Class 0)\n",
    "    top_features_class_0 = np.argsort(coef)[:top_n]\n",
    "    print(\"\\nTop 20 Words Indicative of Class 0 (Stock Price Down):\")\n",
    "    print(\" \".join(feature_names[j] for j in top_features_class_0))\n",
    "    \n",
    "    # Top features with the most positive coefficients (indicative of Class 1)\n",
    "    top_features_class_1 = np.argsort(coef)[-top_n:]\n",
    "    print(\"\\nTop 20 Words Indicative of Class 1 (Stock Price Up):\")\n",
    "    print(\" \".join(feature_names[j] for j in top_features_class_1))\n",
    "    \n",
    "    return top_features_class_0, top_features_class_1\n",
    "\n",
    "# Print the most informative features\n",
    "top_features_class_0, top_features_class_1 = print_top_features(vectorizer, clf)"
   ],
   "metadata": {
    "collapsed": false,
    "ExecuteTime": {
     "start_time": "2024-09-26T10:47:55.171988800Z"
    }
   },
   "id": "bfd5c101fa9333c"
  },
  {
   "cell_type": "code",
   "execution_count": 30,
   "outputs": [
    {
     "data": {
      "text/plain": "<Figure size 1200x600 with 1 Axes>",
      "image/png": "[encoded data removed]"
     },
     "metadata": {},
     "output_type": "display_data"
    }
   ],
   "source": [
    "\n",
    "# Plotting the most indicative words for Class 0\n",
    "plt.figure(figsize=(12, 6))\n",
    "plt.barh([vectorizer.get_feature_names_out()[i] for i in top_features_class_0], clf.coef_[0][top_features_class_0], color='blue')\n",
    "plt.title('Top 20 Words Indicative of Class 0 (Stock Price Down)')\n",
    "plt.xlabel('Coefficient Value')\n",
    "plt.gca().invert_yaxis()\n",
    "plt.show()"
   ],
   "metadata": {
    "collapsed": false,
    "ExecuteTime": {
     "start_time": "2024-09-26T10:47:55.427347600Z"
    }
   },
   "id": "55c99f1a110395db"
  },
  {
   "cell_type": "code",
   "execution_count": 31,
   "outputs": [
    {
     "data": {
      "text/plain": "<Figure size 1200x600 with 1 Axes>",
      "image/png": "[encoded data removed]"
     },
     "metadata": {},
     "output_type": "display_data"
    }
   ],
   "source": [
    "\n",
    "# Plotting the most indicative words for Class 1\n",
    "plt.figure(figsize=(12, 6))\n",
    "plt.barh([vectorizer.get_feature_names_out()[i] for i in top_features_class_1], clf.coef_[0][top_features_class_1], color='green')\n",
    "plt.title('Top 20 Words Indicative of Class 1 (Stock Price Up)')\n",
    "plt.xlabel('Coefficient Value')\n",
    "plt.gca().invert_yaxis()\n",
    "plt.show()"
   ],
   "metadata": {
    "collapsed": false,
    "ExecuteTime": {
     "start_time": "2024-09-26T10:47:55.604123400Z"
    }
   },
   "id": "428382ee6d503904"
  },
  {
   "cell_type": "code",
   "execution_count": 32,
   "outputs": [
    {
     "name": "stdout",
     "output_type": "stream",
     "text": [
      "Shape of tfidf_matrix: (197393, 10)\n",
      "Number of documents: 197393\n",
      "Number of features (terms): 10\n",
      "Number of non-zero elements: 830197\n",
      "Total number of elements: 1973930\n",
      "Sparsity of the tfidf_matrix: 57.94%\n"
     ]
    }
   ],
   "source": [
    "# Check the shape of the tfidf_matrix\n",
    "print(f\"Shape of tfidf_matrix: {tfidf_matrix.shape}\")\n",
    "\n",
    "# Number of documents (rows) and terms (columns)\n",
    "num_documents, num_features = tfidf_matrix.shape\n",
    "print(f\"Number of documents: {num_documents}\")\n",
    "print(f\"Number of features (terms): {num_features}\")\n",
    "\n",
    "# Check the number of non-zero elements\n",
    "non_zero_elements = tfidf_matrix.nnz\n",
    "print(f\"Number of non-zero elements: {non_zero_elements}\")\n",
    "\n",
    "# Calculate the total number of elements\n",
    "total_elements = num_documents * num_features\n",
    "print(f\"Total number of elements: {total_elements}\")\n",
    "\n",
    "# Calculate the sparsity of the matrix\n",
    "sparsity = (1 - (non_zero_elements / total_elements)) * 100\n",
    "print(f\"Sparsity of the tfidf_matrix: {sparsity:.2f}%\")\n"
   ],
   "metadata": {
    "collapsed": false,
    "ExecuteTime": {
     "start_time": "2024-09-26T10:47:55.763763900Z"
    }
   },
   "id": "e376a2a8286266fe"
  },
  {
   "cell_type": "code",
   "execution_count": 33,
   "outputs": [
    {
     "ename": "MemoryError",
     "evalue": "Unable to allocate 197. GiB for an array with shape (26447601866,) and data type int64",
     "output_type": "error",
     "traceback": [
      "\u001B[1;31m---------------------------------------------------------------------------\u001B[0m",
      "\u001B[1;31mMemoryError\u001B[0m                               Traceback (most recent call last)",
      "Cell \u001B[1;32mIn[33], line 3\u001B[0m\n\u001B[0;32m      1\u001B[0m \u001B[38;5;66;03m# Compute cosine similarity matrix, which measures the similarity between documents\u001B[39;00m\n\u001B[0;32m      2\u001B[0m \u001B[38;5;66;03m# Source: https://medium.com/@anurag-jain/tf-idf-vectorization-with-cosine-similarity-eca3386d4423\u001B[39;00m\n\u001B[1;32m----> 3\u001B[0m similarity_matrix \u001B[38;5;241m=\u001B[39m \u001B[43mcosine_similarity\u001B[49m\u001B[43m(\u001B[49m\u001B[43mtfidf_matrix\u001B[49m\u001B[43m)\u001B[49m\n\u001B[0;32m      5\u001B[0m \u001B[38;5;66;03m# Convert similarity matrix to a DataFrame for easier handling\u001B[39;00m\n\u001B[0;32m      6\u001B[0m similarity_df \u001B[38;5;241m=\u001B[39m pd\u001B[38;5;241m.\u001B[39mDataFrame(similarity_matrix)\n",
      "File \u001B[1;32m~\\PycharmProjects\\Stock-Movement-Prediction\\venv\\Lib\\site-packages\\sklearn\\utils\\_param_validation.py:213\u001B[0m, in \u001B[0;36mvalidate_params.<locals>.decorator.<locals>.wrapper\u001B[1;34m(*args, **kwargs)\u001B[0m\n\u001B[0;32m    207\u001B[0m \u001B[38;5;28;01mtry\u001B[39;00m:\n\u001B[0;32m    208\u001B[0m     \u001B[38;5;28;01mwith\u001B[39;00m config_context(\n\u001B[0;32m    209\u001B[0m         skip_parameter_validation\u001B[38;5;241m=\u001B[39m(\n\u001B[0;32m    210\u001B[0m             prefer_skip_nested_validation \u001B[38;5;129;01mor\u001B[39;00m global_skip_validation\n\u001B[0;32m    211\u001B[0m         )\n\u001B[0;32m    212\u001B[0m     ):\n\u001B[1;32m--> 213\u001B[0m         \u001B[38;5;28;01mreturn\u001B[39;00m \u001B[43mfunc\u001B[49m\u001B[43m(\u001B[49m\u001B[38;5;241;43m*\u001B[39;49m\u001B[43margs\u001B[49m\u001B[43m,\u001B[49m\u001B[43m \u001B[49m\u001B[38;5;241;43m*\u001B[39;49m\u001B[38;5;241;43m*\u001B[39;49m\u001B[43mkwargs\u001B[49m\u001B[43m)\u001B[49m\n\u001B[0;32m    214\u001B[0m \u001B[38;5;28;01mexcept\u001B[39;00m InvalidParameterError \u001B[38;5;28;01mas\u001B[39;00m e:\n\u001B[0;32m    215\u001B[0m     \u001B[38;5;66;03m# When the function is just a wrapper around an estimator, we allow\u001B[39;00m\n\u001B[0;32m    216\u001B[0m     \u001B[38;5;66;03m# the function to delegate validation to the estimator, but we replace\u001B[39;00m\n\u001B[0;32m    217\u001B[0m     \u001B[38;5;66;03m# the name of the estimator by the name of the function in the error\u001B[39;00m\n\u001B[0;32m    218\u001B[0m     \u001B[38;5;66;03m# message to avoid confusion.\u001B[39;00m\n\u001B[0;32m    219\u001B[0m     msg \u001B[38;5;241m=\u001B[39m re\u001B[38;5;241m.\u001B[39msub(\n\u001B[0;32m    220\u001B[0m         \u001B[38;5;124mr\u001B[39m\u001B[38;5;124m\"\u001B[39m\u001B[38;5;124mparameter of \u001B[39m\u001B[38;5;124m\\\u001B[39m\u001B[38;5;124mw+ must be\u001B[39m\u001B[38;5;124m\"\u001B[39m,\n\u001B[0;32m    221\u001B[0m         \u001B[38;5;124mf\u001B[39m\u001B[38;5;124m\"\u001B[39m\u001B[38;5;124mparameter of \u001B[39m\u001B[38;5;132;01m{\u001B[39;00mfunc\u001B[38;5;241m.\u001B[39m\u001B[38;5;18m__qualname__\u001B[39m\u001B[38;5;132;01m}\u001B[39;00m\u001B[38;5;124m must be\u001B[39m\u001B[38;5;124m\"\u001B[39m,\n\u001B[0;32m    222\u001B[0m         \u001B[38;5;28mstr\u001B[39m(e),\n\u001B[0;32m    223\u001B[0m     )\n",
      "File \u001B[1;32m~\\PycharmProjects\\Stock-Movement-Prediction\\venv\\Lib\\site-packages\\sklearn\\metrics\\pairwise.py:1687\u001B[0m, in \u001B[0;36mcosine_similarity\u001B[1;34m(X, Y, dense_output)\u001B[0m\n\u001B[0;32m   1684\u001B[0m \u001B[38;5;28;01melse\u001B[39;00m:\n\u001B[0;32m   1685\u001B[0m     Y_normalized \u001B[38;5;241m=\u001B[39m normalize(Y, copy\u001B[38;5;241m=\u001B[39m\u001B[38;5;28;01mTrue\u001B[39;00m)\n\u001B[1;32m-> 1687\u001B[0m K \u001B[38;5;241m=\u001B[39m \u001B[43msafe_sparse_dot\u001B[49m\u001B[43m(\u001B[49m\u001B[43mX_normalized\u001B[49m\u001B[43m,\u001B[49m\u001B[43m \u001B[49m\u001B[43mY_normalized\u001B[49m\u001B[38;5;241;43m.\u001B[39;49m\u001B[43mT\u001B[49m\u001B[43m,\u001B[49m\u001B[43m \u001B[49m\u001B[43mdense_output\u001B[49m\u001B[38;5;241;43m=\u001B[39;49m\u001B[43mdense_output\u001B[49m\u001B[43m)\u001B[49m\n\u001B[0;32m   1689\u001B[0m \u001B[38;5;28;01mreturn\u001B[39;00m K\n",
      "File \u001B[1;32m~\\PycharmProjects\\Stock-Movement-Prediction\\venv\\Lib\\site-packages\\sklearn\\utils\\extmath.py:205\u001B[0m, in \u001B[0;36msafe_sparse_dot\u001B[1;34m(a, b, dense_output)\u001B[0m\n\u001B[0;32m    203\u001B[0m         ret \u001B[38;5;241m=\u001B[39m np\u001B[38;5;241m.\u001B[39mdot(a, b)\n\u001B[0;32m    204\u001B[0m \u001B[38;5;28;01melse\u001B[39;00m:\n\u001B[1;32m--> 205\u001B[0m     ret \u001B[38;5;241m=\u001B[39m \u001B[43ma\u001B[49m\u001B[43m \u001B[49m\u001B[38;5;241;43m@\u001B[39;49m\u001B[43m \u001B[49m\u001B[43mb\u001B[49m\n\u001B[0;32m    207\u001B[0m \u001B[38;5;28;01mif\u001B[39;00m (\n\u001B[0;32m    208\u001B[0m     sparse\u001B[38;5;241m.\u001B[39missparse(a)\n\u001B[0;32m    209\u001B[0m     \u001B[38;5;129;01mand\u001B[39;00m sparse\u001B[38;5;241m.\u001B[39missparse(b)\n\u001B[0;32m    210\u001B[0m     \u001B[38;5;129;01mand\u001B[39;00m dense_output\n\u001B[0;32m    211\u001B[0m     \u001B[38;5;129;01mand\u001B[39;00m \u001B[38;5;28mhasattr\u001B[39m(ret, \u001B[38;5;124m\"\u001B[39m\u001B[38;5;124mtoarray\u001B[39m\u001B[38;5;124m\"\u001B[39m)\n\u001B[0;32m    212\u001B[0m ):\n\u001B[0;32m    213\u001B[0m     \u001B[38;5;28;01mreturn\u001B[39;00m ret\u001B[38;5;241m.\u001B[39mtoarray()\n",
      "File \u001B[1;32m~\\PycharmProjects\\Stock-Movement-Prediction\\venv\\Lib\\site-packages\\scipy\\sparse\\_base.py:669\u001B[0m, in \u001B[0;36m_spbase.__matmul__\u001B[1;34m(self, other)\u001B[0m\n\u001B[0;32m    666\u001B[0m \u001B[38;5;28;01mif\u001B[39;00m isscalarlike(other):\n\u001B[0;32m    667\u001B[0m     \u001B[38;5;28;01mraise\u001B[39;00m \u001B[38;5;167;01mValueError\u001B[39;00m(\u001B[38;5;124m\"\u001B[39m\u001B[38;5;124mScalar operands are not allowed, \u001B[39m\u001B[38;5;124m\"\u001B[39m\n\u001B[0;32m    668\u001B[0m                      \u001B[38;5;124m\"\u001B[39m\u001B[38;5;124muse \u001B[39m\u001B[38;5;124m'\u001B[39m\u001B[38;5;124m*\u001B[39m\u001B[38;5;124m'\u001B[39m\u001B[38;5;124m instead\u001B[39m\u001B[38;5;124m\"\u001B[39m)\n\u001B[1;32m--> 669\u001B[0m \u001B[38;5;28;01mreturn\u001B[39;00m \u001B[38;5;28;43mself\u001B[39;49m\u001B[38;5;241;43m.\u001B[39;49m\u001B[43m_matmul_dispatch\u001B[49m\u001B[43m(\u001B[49m\u001B[43mother\u001B[49m\u001B[43m)\u001B[49m\n",
      "File \u001B[1;32m~\\PycharmProjects\\Stock-Movement-Prediction\\venv\\Lib\\site-packages\\scipy\\sparse\\_base.py:580\u001B[0m, in \u001B[0;36m_spbase._matmul_dispatch\u001B[1;34m(self, other)\u001B[0m\n\u001B[0;32m    578\u001B[0m     \u001B[38;5;28;01mif\u001B[39;00m \u001B[38;5;28mself\u001B[39m\u001B[38;5;241m.\u001B[39mshape[\u001B[38;5;241m-\u001B[39m\u001B[38;5;241m1\u001B[39m] \u001B[38;5;241m!=\u001B[39m other\u001B[38;5;241m.\u001B[39mshape[\u001B[38;5;241m0\u001B[39m]:\n\u001B[0;32m    579\u001B[0m         \u001B[38;5;28;01mraise\u001B[39;00m \u001B[38;5;167;01mValueError\u001B[39;00m(\u001B[38;5;124m'\u001B[39m\u001B[38;5;124mdimension mismatch\u001B[39m\u001B[38;5;124m'\u001B[39m)\n\u001B[1;32m--> 580\u001B[0m     \u001B[38;5;28;01mreturn\u001B[39;00m \u001B[38;5;28;43mself\u001B[39;49m\u001B[38;5;241;43m.\u001B[39;49m\u001B[43m_matmul_sparse\u001B[49m\u001B[43m(\u001B[49m\u001B[43mother\u001B[49m\u001B[43m)\u001B[49m\n\u001B[0;32m    582\u001B[0m \u001B[38;5;66;03m# If it's a list or whatever, treat it like an array\u001B[39;00m\n\u001B[0;32m    583\u001B[0m other_a \u001B[38;5;241m=\u001B[39m np\u001B[38;5;241m.\u001B[39masanyarray(other)\n",
      "File \u001B[1;32m~\\PycharmProjects\\Stock-Movement-Prediction\\venv\\Lib\\site-packages\\scipy\\sparse\\_compressed.py:550\u001B[0m, in \u001B[0;36m_cs_matrix._matmul_sparse\u001B[1;34m(self, other)\u001B[0m\n\u001B[0;32m    545\u001B[0m idx_dtype \u001B[38;5;241m=\u001B[39m \u001B[38;5;28mself\u001B[39m\u001B[38;5;241m.\u001B[39m_get_index_dtype((\u001B[38;5;28mself\u001B[39m\u001B[38;5;241m.\u001B[39mindptr, \u001B[38;5;28mself\u001B[39m\u001B[38;5;241m.\u001B[39mindices,\n\u001B[0;32m    546\u001B[0m                              other\u001B[38;5;241m.\u001B[39mindptr, other\u001B[38;5;241m.\u001B[39mindices),\n\u001B[0;32m    547\u001B[0m                             maxval\u001B[38;5;241m=\u001B[39mnnz)\n\u001B[0;32m    549\u001B[0m indptr \u001B[38;5;241m=\u001B[39m np\u001B[38;5;241m.\u001B[39mempty(major_dim \u001B[38;5;241m+\u001B[39m \u001B[38;5;241m1\u001B[39m, dtype\u001B[38;5;241m=\u001B[39midx_dtype)\n\u001B[1;32m--> 550\u001B[0m indices \u001B[38;5;241m=\u001B[39m \u001B[43mnp\u001B[49m\u001B[38;5;241;43m.\u001B[39;49m\u001B[43mempty\u001B[49m\u001B[43m(\u001B[49m\u001B[43mnnz\u001B[49m\u001B[43m,\u001B[49m\u001B[43m \u001B[49m\u001B[43mdtype\u001B[49m\u001B[38;5;241;43m=\u001B[39;49m\u001B[43midx_dtype\u001B[49m\u001B[43m)\u001B[49m\n\u001B[0;32m    551\u001B[0m data \u001B[38;5;241m=\u001B[39m np\u001B[38;5;241m.\u001B[39mempty(nnz, dtype\u001B[38;5;241m=\u001B[39mupcast(\u001B[38;5;28mself\u001B[39m\u001B[38;5;241m.\u001B[39mdtype, other\u001B[38;5;241m.\u001B[39mdtype))\n\u001B[0;32m    553\u001B[0m fn \u001B[38;5;241m=\u001B[39m \u001B[38;5;28mgetattr\u001B[39m(_sparsetools, \u001B[38;5;28mself\u001B[39m\u001B[38;5;241m.\u001B[39mformat \u001B[38;5;241m+\u001B[39m \u001B[38;5;124m'\u001B[39m\u001B[38;5;124m_matmat\u001B[39m\u001B[38;5;124m'\u001B[39m)\n",
      "\u001B[1;31mMemoryError\u001B[0m: Unable to allocate 197. GiB for an array with shape (26447601866,) and data type int64"
     ]
    }
   ],
   "source": [
    "# Compute cosine similarity matrix, which measures the similarity between documents\n",
    "# Source: https://medium.com/@anurag-jain/tf-idf-vectorization-with-cosine-similarity-eca3386d4423\n",
    "similarity_matrix = cosine_similarity(tfidf_matrix)\n",
    "\n",
    "# Convert similarity matrix to a DataFrame for easier handling\n",
    "similarity_df = pd.DataFrame(similarity_matrix)"
   ],
   "metadata": {
    "collapsed": false,
    "ExecuteTime": {
     "start_time": "2024-09-26T10:48:19.316736600Z"
    }
   },
   "id": "10e340590e824914"
  },
  {
   "cell_type": "markdown",
   "source": [],
   "metadata": {
    "collapsed": false
   },
   "id": "29df5af94498f163"
  },
  {
   "cell_type": "markdown",
   "source": [],
   "metadata": {
    "collapsed": false
   },
   "id": "ace62a4553c2c82e"
  },
  {
   "cell_type": "code",
   "execution_count": 20,
   "outputs": [
    {
     "name": "stdout",
     "output_type": "stream",
     "text": [
      "Shape of tfidf_matrix: (3111, 500)\n",
      "Number of documents: 3111\n",
      "Number of features (terms): 500\n",
      "Number of non-zero elements: 336646\n",
      "Total number of elements: 1555500\n",
      "Sparsity of the tfidf_matrix: 78.36%\n"
     ]
    }
   ],
   "source": [
    "# Check the shape of the tfidf_matrix\n",
    "print(f\"Shape of tfidf_matrix: {tfidf_matrix.shape}\")\n",
    "\n",
    "# Number of documents (rows) and terms (columns)\n",
    "num_documents, num_features = tfidf_matrix.shape\n",
    "print(f\"Number of documents: {num_documents}\")\n",
    "print(f\"Number of features (terms): {num_features}\")\n",
    "\n",
    "# Check the number of non-zero elements\n",
    "non_zero_elements = tfidf_matrix.nnz\n",
    "print(f\"Number of non-zero elements: {non_zero_elements}\")\n",
    "\n",
    "# Calculate the total number of elements\n",
    "total_elements = num_documents * num_features\n",
    "print(f\"Total number of elements: {total_elements}\")\n",
    "\n",
    "# Calculate the sparsity of the matrix\n",
    "sparsity = (1 - (non_zero_elements / total_elements)) * 100\n",
    "print(f\"Sparsity of the tfidf_matrix: {sparsity:.2f}%\")\n"
   ],
   "metadata": {
    "collapsed": false,
    "ExecuteTime": {
     "end_time": "2024-09-26T17:38:50.607468500Z",
     "start_time": "2024-09-26T17:38:50.594665600Z"
    }
   },
   "id": "ff14f6b3b737d0b0"
  },
  {
   "cell_type": "code",
   "execution_count": null,
   "outputs": [],
   "source": [
    "# Function to compute cosine similarity in batches\n",
    "def compute_similarity_in_batches(tfidf_matrix, batch_size=1000):\n",
    "    num_docs = tfidf_matrix.shape[0]\n",
    "    similarity_results = []\n",
    "    \n",
    "    # Process the similarity computation in batches\n",
    "    for start in range(0, num_docs, batch_size):\n",
    "        end = min(start + batch_size, num_docs)\n",
    "        print(f\"Processing batch: {start} to {end}\")\n",
    "        \n",
    "        # Compute similarities for the batch\n",
    "        batch_similarity = cosine_similarity(tfidf_matrix[start:end], tfidf_matrix)\n",
    "        \n",
    "        # Convert to a sparse matrix to save memory (optional)\n",
    "        batch_similarity_sparse = pd.DataFrame(batch_similarity)\n",
    "        \n",
    "        # Append the results\n",
    "        similarity_results.append(batch_similarity_sparse)\n",
    "    \n",
    "    # Combine all batches into one DataFrame\n",
    "    return pd.concat(similarity_results, axis=0)\n",
    "\n",
    "# Using the function to compute the similarity matrix in smaller chunks\n",
    "similarity_df = compute_similarity_in_batches(tfidf_matrix, batch_size=500)\n",
    "\n",
    "# Display the shape to confirm the complete matrix\n",
    "print(f\"Computed similarity matrix shape: {similarity_df.shape}\")\n"
   ],
   "metadata": {
    "collapsed": false,
    "ExecuteTime": {
     "end_time": "2024-09-25T17:50:52.063306Z",
     "start_time": "2024-09-25T17:50:50.785151700Z"
    }
   },
   "id": "c04aa4647adb0ff9"
  },
  {
   "cell_type": "code",
   "execution_count": 13,
   "outputs": [
    {
     "ename": "NameError",
     "evalue": "name 'similarity_matrix' is not defined",
     "output_type": "error",
     "traceback": [
      "\u001B[1;31m---------------------------------------------------------------------------\u001B[0m",
      "\u001B[1;31mNameError\u001B[0m                                 Traceback (most recent call last)",
      "Cell \u001B[1;32mIn[13], line 2\u001B[0m\n\u001B[0;32m      1\u001B[0m \u001B[38;5;66;03m# Find indices of the most and least similar documents (excluding self-similarity)\u001B[39;00m\n\u001B[1;32m----> 2\u001B[0m np\u001B[38;5;241m.\u001B[39mfill_diagonal(\u001B[43msimilarity_matrix\u001B[49m, \u001B[38;5;241m0\u001B[39m)\n\u001B[0;32m      3\u001B[0m most_similar_indices \u001B[38;5;241m=\u001B[39m np\u001B[38;5;241m.\u001B[39munravel_index(np\u001B[38;5;241m.\u001B[39margmax(similarity_matrix, axis\u001B[38;5;241m=\u001B[39m\u001B[38;5;28;01mNone\u001B[39;00m), similarity_matrix\u001B[38;5;241m.\u001B[39mshape)\n\u001B[0;32m      4\u001B[0m least_similar_indices \u001B[38;5;241m=\u001B[39m np\u001B[38;5;241m.\u001B[39munravel_index(np\u001B[38;5;241m.\u001B[39margmin(similarity_matrix, axis\u001B[38;5;241m=\u001B[39m\u001B[38;5;28;01mNone\u001B[39;00m), similarity_matrix\u001B[38;5;241m.\u001B[39mshape)\n",
      "\u001B[1;31mNameError\u001B[0m: name 'similarity_matrix' is not defined"
     ]
    }
   ],
   "source": [
    "# Find indices of the most and least similar documents (excluding self-similarity)\n",
    "np.fill_diagonal(similarity_matrix, 0)\n",
    "most_similar_indices = np.unravel_index(np.argmax(similarity_matrix, axis=None), similarity_matrix.shape)\n",
    "least_similar_indices = np.unravel_index(np.argmin(similarity_matrix, axis=None), similarity_matrix.shape)"
   ],
   "metadata": {
    "collapsed": false,
    "ExecuteTime": {
     "end_time": "2024-09-24T20:40:11.515761800Z",
     "start_time": "2024-09-24T20:40:11.437142700Z"
    }
   },
   "id": "4b32dd17b882fc4e"
  },
  {
   "cell_type": "code",
   "execution_count": 0,
   "outputs": [],
   "source": [
    "\n",
    "# Inspect the most similar documents\n",
    "similar_doc_1 = news_df.iloc[most_similar_indices[0]]\n",
    "similar_doc_2 = news_df.iloc[most_similar_indices[1]]\n",
    "\n",
    "print(\"\\nMost Similar Documents:\\n\")\n",
    "print(\"Document 1:\")\n",
    "print(similar_doc_1['content'])\n",
    "print(\"\\nDocument 2:\")\n",
    "print(similar_doc_2['content'])"
   ],
   "metadata": {
    "collapsed": false
   },
   "id": "8521920cd2182324"
  },
  {
   "cell_type": "code",
   "execution_count": 10,
   "outputs": [
    {
     "data": {
      "text/plain": "'\\n\\n# TF-IDF Representation of Documents using the processed and filtered text\\nvectorizer = TfidfVectorizer(stop_words=\\'english\\', max_features=10)\\ntfidf_matrix = vectorizer.fit_transform(news_df[\\'filtered_text_str\\'])\\n\\n# Compute cosine similarity matrix\\nsimilarity_matrix = cosine_similarity(tfidf_matrix)\\n\\n# Convert similarity matrix to a DataFrame for easier handling\\nsimilarity_df = pd.DataFrame(similarity_matrix)\\n\\n# Find indices of the most and least similar documents (excluding self-similarity)\\nnp.fill_diagonal(similarity_matrix, 0)\\nmost_similar_indices = np.unravel_index(np.argmax(similarity_matrix, axis=None), similarity_matrix.shape)\\nleast_similar_indices = np.unravel_index(np.argmin(similarity_matrix, axis=None), similarity_matrix.shape)\\n\\n# Inspect the most similar documents\\nsimilar_doc_1 = news_df.iloc[most_similar_indices[0]]\\nsimilar_doc_2 = news_df.iloc[most_similar_indices[1]]\\n\\nprint(\"\\nMost Similar Documents:\\n\")\\nprint(\"Document 1:\")\\nprint(similar_doc_1[\\'content\\'])\\nprint(\"\\nDocument 2:\")\\nprint(similar_doc_2[\\'content\\'])\\n\\n# Inspect the least similar documents\\ndissimilar_doc_1 = news_df.iloc[least_similar_indices[0]]\\ndissimilar_doc_2 = news_df.iloc[least_similar_indices[1]]\\n\\nprint(\"\\n\\nMost Dissimilar Documents:\\n\")\\nprint(\"Document 1:\")\\nprint(dissimilar_doc_1[\\'content\\'])\\nprint(\"\\nDocument 2:\")\\nprint(dissimilar_doc_2[\\'content\\'])\\n\\n'"
     },
     "execution_count": 10,
     "metadata": {},
     "output_type": "execute_result"
    }
   ],
   "source": [
    "\n",
    "# Inspect the least similar documents\n",
    "dissimilar_doc_1 = news_df.iloc[least_similar_indices[0]]\n",
    "dissimilar_doc_2 = news_df.iloc[least_similar_indices[1]]\n",
    "\n",
    "print(\"\\n\\nMost Dissimilar Documents:\\n\")\n",
    "print(\"Document 1:\")\n",
    "print(dissimilar_doc_1['content'])\n",
    "print(\"\\nDocument 2:\")\n",
    "print(dissimilar_doc_2['content'])\n",
    "\n"
   ],
   "metadata": {
    "collapsed": false,
    "ExecuteTime": {
     "start_time": "2024-09-24T13:03:53.474636Z"
    }
   },
   "id": "initial_id"
  },
  {
   "cell_type": "code",
   "execution_count": 10,
   "outputs": [],
   "source": [],
   "metadata": {
    "collapsed": false,
    "ExecuteTime": {
     "end_time": "2024-09-24T13:03:53.562002300Z",
     "start_time": "2024-09-24T13:03:53.487284800Z"
    }
   },
   "id": "cd3f1bf3a29c2a6b"
  },
  {
   "cell_type": "code",
   "execution_count": null,
   "outputs": [],
   "source": [],
   "metadata": {
    "collapsed": false
   },
   "id": "3f597cf00b35387"
  }
 ],
 "metadata": {
  "kernelspec": {
   "display_name": "Python 3",
   "language": "python",
   "name": "python3"
  },
  "language_info": {
   "codemirror_mode": {
    "name": "ipython",
    "version": 2
   },
   "file_extension": ".py",
   "mimetype": "text/x-python",
   "name": "python",
   "nbconvert_exporter": "python",
   "pygments_lexer": "ipython2",
   "version": "2.7.6"
  }
 },
 "nbformat": 4,
 "nbformat_minor": 5
}
